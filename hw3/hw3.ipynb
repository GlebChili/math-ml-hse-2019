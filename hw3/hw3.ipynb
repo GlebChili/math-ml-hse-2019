{
 "cells": [
  {
   "cell_type": "markdown",
   "metadata": {},
   "source": [
    "## Машинное обучение \n",
    "### Факультет математики НИУ ВШЭ, 2019-20 учебный год\n",
    "\n",
    "_Илья Щуров, Соня Дымченко, Руслан Хайдуров, Александр Каган, Павел Балтабаев_\n",
    "\n",
    "[Страница курса](http://wiki.cs.hse.ru/Машинное_обучение_на_матфаке_2020)"
   ]
  },
  {
   "cell_type": "markdown",
   "metadata": {
    "colab_type": "text",
    "id": "F_zTomBElkE1"
   },
   "source": [
    "\n",
    "## Домашнее задание 3. Метод k ближайших соседей"
   ]
  },
  {
   "cell_type": "code",
   "execution_count": 1,
   "metadata": {
    "colab": {},
    "colab_type": "code",
    "id": "gOPVlMmblh0J"
   },
   "outputs": [],
   "source": [
    "import numpy as np\n",
    "import pandas as pd\n",
    "import scipy as sp\n",
    "import matplotlib.pyplot as plt\n",
    "%matplotlib inline"
   ]
  },
  {
   "cell_type": "markdown",
   "metadata": {},
   "source": [
    "## О библиотеках\n",
    "В задачах 1 и 2 вам предстоит написать функции, аналоги которых есть в библиотеке *scikit-learn* (`sklearn`). Реализовывать различные методы машинного обучения «с нуля» очень полезно: способность реализовать какой-то метод самому — это главный критерий того, что вы понимаете, как он работает. В то же время, разбираться в существующих библиотеках тоже полезно — именно с ними вам придётся столкнуться в любой практической работе. Поэтому мы рекомендуем решить эти задачи двумя способами: вручную и с помощью `sklearn`. За оба положены баллы (хотя за `sklearn` поменьше, потому что это проще)."
   ]
  },
  {
   "cell_type": "markdown",
   "metadata": {
    "colab_type": "text",
    "id": "V5wR_0XWNANP"
   },
   "source": [
    "## Задание 1 (4+1 баллов)\n",
    "\n",
    "Вам предстоит реализовать две версии метода $k$ ближайших соседей (kNN) — обычный (который обсуждался на семинаре) и со взвешиванием.\n",
    "\n",
    "В качестве метрики мы будем использовать $d_p(\\cdot,\\ \\cdot)$ — [расстояние Минковского](https://en.wikipedia.org/wiki/Minkowski_distance) порядка $p$.\n",
    "\n",
    "\n",
    "\n",
    "Пусть нам нужно вычислить значение $y$ для некоторого $x_{new}$, наши данные заданы как $\\{x_i, y_i\\}_{i=1}^l$. Обычный метод $k$ ближайших соседей находит такие $i_1, \\ldots, i_k$, что $\\{x_{i_m}\\}_{m=1}^k$ являются $k$ ближайшими соседями для точки $x_{new}$ (по выбранной метрике $d_p(\\cdot,\\ \\cdot)$), и полагает, что значение нового объекта:\n",
    "\n",
    "$$\\widehat{y} = \\underset{c \\in C}{\\mathrm{argmax}}\\ \\sum_{m=1}^k[y_{i_m} = c],$$\n",
    "где $C$ — множество классов, а $[y_{i_m}=c]$ — выражение, равное 1, если $y_{i_m}=c$, и 0 в противном случае. То есть $\\widehat y$ — мода классов $k$ ближайших соседей. Модифицированный метод $k$ ближайших соседей, который вам предстоит реализовать, использует другую оценку:\n",
    "\n",
    "$$\\widehat y = \\underset{c \\in C}{\\mathrm{argmax}} \\sum_{i=1}^l w_{i}[y_i=c],$$\n",
    "где вес $w_i$ вычисляется следующим образом:\n",
    "$$w_{i}=\\frac{1}{d_p(x_{new}, x_{i})}.$$\n",
    "\n",
    "Таким образом, модифицированный метод присваивает $i$-му объекту вес $w_{i}$, уменьшающийся с увеличением расстояния до $x_{new}$, вместо того чтобы присваивать $k$ ближайшим соседям вес $1$, а остальным $0$.\n",
    "\n",
    "---\n",
    "\n",
    "Ниже предоставлен шаблон функции для реализации метода, который возвращает предсказания для тестовой выборки, используя взвешенный или обычный kNN (с возможностью выбора порядка $p$ метрики расстояния). Код для обычного kNN можно взять из семинара; если вы не были на семинаре — придётся написать самостоятельно.\n",
    "\n",
    "---\n",
    "\n",
    "За решение задачи вручную (только с использованием `numpy` и `scipy`) можно получить **до четырёх баллов**. Полный балл за эту часть ставится в том случае, если решение не использует циклы. За решение с циклами можно получить не больше **двух баллов** из четырёх.\n",
    "\n",
    "За решение задачи с помощью `sklearn` можно получить **один балл**.\n",
    "\n",
    "**Подсказка.** Вам придётся вычислить расстояние Минковского между $x_{new}$ и каждой из точек $x_i$, $i=1,\\ldots, l$. Существует библиотечная функция, которая позволяет это сделать быстро и без циклов. Вам нужно найти её и использовать."
   ]
  },
  {
   "cell_type": "code",
   "execution_count": 82,
   "metadata": {},
   "outputs": [],
   "source": [
    "import scipy.spatial as sps\n",
    "import scipy.stats as scs"
   ]
  },
  {
   "cell_type": "code",
   "execution_count": 258,
   "metadata": {
    "colab": {},
    "colab_type": "code",
    "id": "uK_2OH67M_0W"
   },
   "outputs": [],
   "source": [
    "def knn_classifier(x_train, y_train, x_test, k=1, distance='euclid', \n",
    "                   weight=True):\n",
    "    \"\"\"\n",
    "    x_train is np.array with shape (l, d) (matrix with l rows, d columns)\n",
    "    y_train is np.array with shape (l, ) (1-dimensional array with l elements)\n",
    "    x_test is np.array with shape (n, d) (matrix with n rows, d columns)\n",
    "    k is int (if weight is True, then the argument is ignored, else - number of neighbours)\n",
    "    distance is int (order p of Minkowski distance) or str: 'euclidian', 'cityblock' (you can implement more options)\n",
    "    weight is boolean, whether to use the weighted method or not\n",
    "\n",
    "    return y_test, np.array with shape (n, ) (1-dimensional array with n elements)\n",
    "    \"\"\"\n",
    "    ### SOLUTION BEGIN\n",
    "    \n",
    "    if type(distance) is str:\n",
    "        dist_matrix = sps.distance.cdist(x_train, x_test, metric=distance)\n",
    "    elif type(distance) is int:\n",
    "        dist_matrix = sps.distance.cdist(x_train, x_test, metric=\"minkowski\", p=distance)\n",
    "        \n",
    "    if weight:\n",
    "        w_matrix = 1 / dist_matrix\n",
    "        \n",
    "        unique_classes = np.unique(y_train)\n",
    "        unique_classes = np.reshape(unique_classes, (unique_classes.shape[0], 1))\n",
    "        \n",
    "        def char_builder(shape, ind):\n",
    "            tmp = np.zeros(shape)\n",
    "            tmp[ind] = 1\n",
    "            return tmp\n",
    "        \n",
    "        char_matrix = np.apply_along_axis(lambda v : char_builder(x_train.shape[0], np.nonzero(y_train == v[0])), 1, unique_classes)\n",
    "        \n",
    "        class_score = char_matrix @ w_matrix\n",
    "        \n",
    "        class_indexes = np.argmax(class_score, 0)\n",
    "        \n",
    "        return unique_classes[class_indexes].T[0]\n",
    "    \n",
    "    else:\n",
    "        index_sorted = np.argsort(dist_matrix, axis=0)\n",
    "        \n",
    "        return scs.mode(y_train[index_sorted[:k]])[0][0]\n",
    "\n",
    "    ### SOLUTION END"
   ]
  },
  {
   "cell_type": "markdown",
   "metadata": {
    "colab_type": "text",
    "id": "zmLSUsavlsD-"
   },
   "source": [
    "## Задание 2 (2 + 0.5 баллов)\n",
    "\n",
    "На семинаре было рассказано про разные виды кросс-валидации. В этом задании вам предстоит реализовать собственноручно k-fold cross validation со стратификацией по параметру $y$ (целевой категориальной переменной).\n",
    "\n",
    "Ниже предоставлен шаблон функции, которая делит данные на $K$ частей («фолдов»), каждая из которых имеет то же (или максимально близкое) распределение классов (то есть значений переменной $y$), что и целый датасет. Она должна вернуть $K$-элементный список, каждый элемент которого является четырёхэлементным кортежем: `(x_train, y_train, x_test, y_test)`, где `x_test, y_test` соответствует содержимому одного из фолдов, а `x_train, y_train` — всему остальному датасету. Если вы знаете, что такое генераторы, вместо того, чтобы возвращать $K$-элементный список, можете сделать соответствующий генератор.\n",
    "\n",
    "Ниже есть код, который поможет вам себя проверить.\n",
    "\n",
    "---\n",
    "\n",
    "За решение задачи вручную ставится **2 балла** максимум. В задаче можно использовать циклы, однако следует помнить, что циклы в питоне — медленные, и при любой возможности следует использовать векторизованные функции `numpy`. За неоптимальное использование циклов оценка может быть снижена.\n",
    "\n",
    "За решение задачи с помощью `sklearn` ставится **0.5 балла**."
   ]
  },
  {
   "cell_type": "code",
   "execution_count": 358,
   "metadata": {
    "colab": {},
    "colab_type": "code",
    "id": "YXnbutAQlqCY"
   },
   "outputs": [],
   "source": [
    "def strat_kfold_gen(x, y, k):\n",
    "    '''\n",
    "    x is np.array with shape (l, d) (matrix with l rows, d columns)\n",
    "    y is np.array with shape (l, ) (1-dimensional array with l elements)\n",
    "    k is int, number of folds to split data\n",
    "\n",
    "    returns x_train, y_train, x_test, y_test\n",
    "    '''\n",
    "    ### SOLUTION BEGIN\n",
    "\n",
    "    permutation = np.random.permutation(y.shape[0])\n",
    "    \n",
    "    x_permutated = x[permutation]\n",
    "    y_permutated = y[permutation]\n",
    "    \n",
    "    x_per_split = np.array_split(x_permutated, k)\n",
    "    y_per_split = np.array_split(y_permutated, k)\n",
    "    \n",
    "    ret = list()\n",
    "    \n",
    "    for i in range(len(y_per_split)):\n",
    "        if i == 0:\n",
    "            ret.append((np.concatenate(x_per_split[1:]), np.concatenate(y_per_split[1:]), x_per_split[0], y_per_split[0]))\n",
    "        elif i == y.shape[0] - 1:\n",
    "            ret.append((np.concatenate(x_per_split[:-1]), np.concatenate(y_per_split[:-1]), x_per_split[i], y_per_split[i]))\n",
    "        else:\n",
    "            ret.append((np.concatenate(x_per_split[:i] + x_per_split[(i + 1):]), np.concatenate(y_per_split[:i] + y_per_split[(i+1):]), x_per_split[i], y_per_split[i]))\n",
    "        \n",
    "    return ret\n",
    "    \n",
    "    ### SOLUTION END"
   ]
  },
  {
   "cell_type": "code",
   "execution_count": 359,
   "metadata": {
    "colab": {
     "base_uri": "https://localhost:8080/",
     "height": 443
    },
    "colab_type": "code",
    "id": "JuIjFS_Olp_3",
    "outputId": "b62be5f2-3df4-4058-abf9-5d38d801cc50"
   },
   "outputs": [
    {
     "name": "stdout",
     "output_type": "stream",
     "text": [
      "ALL, length=171 \n",
      "Class distribution train/test: \n",
      "\tALL:   1 - 0.591\t2 - 0.292\t3 - 0.117\n",
      "----------------------------------------------------------------------\n",
      "FOLD #1, length=136/35 \n",
      "Class distribution train/test: \n",
      "\tTRAIN:  1 - 0.625\t2 - 0.272\t3 - 0.103 \n",
      "\tTEST:   1 - 0.457\t2 - 0.371\t3 - 0.171\n",
      "FOLD #2, length=137/34 \n",
      "Class distribution train/test: \n",
      "\tTRAIN:  1 - 0.606\t2 - 0.270\t3 - 0.124 \n",
      "\tTEST:   1 - 0.529\t2 - 0.382\t3 - 0.088\n",
      "FOLD #3, length=137/34 \n",
      "Class distribution train/test: \n",
      "\tTRAIN:  1 - 0.562\t2 - 0.314\t3 - 0.124 \n",
      "\tTEST:   1 - 0.706\t2 - 0.206\t3 - 0.088\n",
      "FOLD #4, length=137/34 \n",
      "Class distribution train/test: \n",
      "\tTRAIN:  1 - 0.591\t2 - 0.292\t3 - 0.117 \n",
      "\tTEST:   1 - 0.588\t2 - 0.294\t3 - 0.118\n",
      "FOLD #5, length=137/34 \n",
      "Class distribution train/test: \n",
      "\tTRAIN:  1 - 0.569\t2 - 0.314\t3 - 0.117 \n",
      "\tTEST:   1 - 0.676\t2 - 0.206\t3 - 0.118\n"
     ]
    }
   ],
   "source": [
    "# CHECK YOURSELF\n",
    "\n",
    "x = np.random.normal(size=(171, 3))\n",
    "y = np.hstack([np.ones(101), np.ones(50) * 2, np.ones(20) * 3])\n",
    "np.random.shuffle(y)\n",
    "K = 5\n",
    "\n",
    "s = '\\nClass distribution train/test:'\n",
    "t = '1 - {:.3f}\\t2 - {:.3f}\\t3 - {:.3f}'\n",
    "print(f'ALL, length={len(y)}', \n",
    "      s, '\\n\\tALL:  ', t.format(*np.unique(y, return_counts=True)[1] / len(y)))\n",
    "print('-'*70)\n",
    "for i, (_, y_tr, _, y_t) in enumerate(strat_kfold_gen(x, y, K)):\n",
    "    print(f'FOLD #{i+1}, length={len(y_tr)}/{len(y_t)}', \n",
    "          s, '\\n\\tTRAIN: ', t.format(*np.unique(y_tr, return_counts=True)[1] / len(y_tr)), \n",
    "             '\\n\\tTEST:  ', t.format(*np.unique(y_t, return_counts=True)[1] / len(y_t)))"
   ]
  },
  {
   "cell_type": "markdown",
   "metadata": {
    "colab_type": "text",
    "id": "VQUWDNkHoZ-W"
   },
   "source": [
    "## Задание 3.1 (3 балла)\n",
    "\n",
    "Теперь наконец применим наши две функции и посмотрим подробнее на результаты. Рассмотрим датасет [Thyroid Gland](https://raw.githubusercontent.com/jbrownlee/Datasets/master/new-thyroid.names), состоящий из результатов различных  анализов, связанных со щитовидной железой пациентов. Целевой переменной является состояние щитовидной железы: нормальное, гипотиреоз или гипертиреоз."
   ]
  },
  {
   "cell_type": "markdown",
   "metadata": {
    "colab_type": "text",
    "id": "yOYJjO1YoKO6"
   },
   "source": [
    "**1. (0.5 балла)** Скачайте датасет (https://raw.githubusercontent.com/jbrownlee/Datasets/master/new-thyroid.csv) и ответьте на следующие вопросы. Сколько у датасета строк и столбцов? Целевая переменная записана последним столбцом. Какое у неё распределение? (Постройте подходящую картинку.)\n",
    "\n",
    "**Замечание.** Функция `pd.read_csv` по умолчанию считает, что названия столбцов указаны в первой строке файла, но в файле по ссылке названия столбцов не указаны. Прочитайте в документации, как сделать так, чтобы `pd.read_csv` не воспринимала первую строчку файла как названия столбцов."
   ]
  },
  {
   "cell_type": "code",
   "execution_count": 360,
   "metadata": {},
   "outputs": [
    {
     "name": "stdout",
     "output_type": "stream",
     "text": [
      "--2020-03-04 22:15:39--  https://raw.githubusercontent.com/jbrownlee/Datasets/master/new-thyroid.csv\n",
      "Loaded CA certificate '/etc/ssl/certs/ca-certificates.crt'\n",
      "Resolving raw.githubusercontent.com (raw.githubusercontent.com)... 151.101.244.133\n",
      "Connecting to raw.githubusercontent.com (raw.githubusercontent.com)|151.101.244.133|:443... connected.\n",
      "HTTP request sent, awaiting response... 200 OK\n",
      "Length: 4843 (4.7K) [text/plain]\n",
      "Saving to: ‘new-thyroid.csv’\n",
      "\n",
      "new-thyroid.csv     100%[===================>]   4.73K  --.-KB/s    in 0s      \n",
      "\n",
      "2020-03-04 22:15:40 (60.6 MB/s) - ‘new-thyroid.csv’ saved [4843/4843]\n",
      "\n"
     ]
    }
   ],
   "source": [
    "! wget https://raw.githubusercontent.com/jbrownlee/Datasets/master/new-thyroid.csv"
   ]
  },
  {
   "cell_type": "code",
   "execution_count": 361,
   "metadata": {
    "colab": {},
    "colab_type": "code",
    "id": "26L0a9RkoJDq"
   },
   "outputs": [],
   "source": [
    "# YOUR CODE\n",
    "df = pd.read_csv('./new-thyroid.csv', header=None)"
   ]
  },
  {
   "cell_type": "code",
   "execution_count": 362,
   "metadata": {},
   "outputs": [
    {
     "data": {
      "text/html": [
       "<div>\n",
       "<style scoped>\n",
       "    .dataframe tbody tr th:only-of-type {\n",
       "        vertical-align: middle;\n",
       "    }\n",
       "\n",
       "    .dataframe tbody tr th {\n",
       "        vertical-align: top;\n",
       "    }\n",
       "\n",
       "    .dataframe thead th {\n",
       "        text-align: right;\n",
       "    }\n",
       "</style>\n",
       "<table border=\"1\" class=\"dataframe\">\n",
       "  <thead>\n",
       "    <tr style=\"text-align: right;\">\n",
       "      <th></th>\n",
       "      <th>0</th>\n",
       "      <th>1</th>\n",
       "      <th>2</th>\n",
       "      <th>3</th>\n",
       "      <th>4</th>\n",
       "      <th>5</th>\n",
       "    </tr>\n",
       "  </thead>\n",
       "  <tbody>\n",
       "    <tr>\n",
       "      <th>0</th>\n",
       "      <td>107</td>\n",
       "      <td>10.1</td>\n",
       "      <td>2.2</td>\n",
       "      <td>0.9</td>\n",
       "      <td>2.7</td>\n",
       "      <td>1</td>\n",
       "    </tr>\n",
       "    <tr>\n",
       "      <th>1</th>\n",
       "      <td>113</td>\n",
       "      <td>9.9</td>\n",
       "      <td>3.1</td>\n",
       "      <td>2.0</td>\n",
       "      <td>5.9</td>\n",
       "      <td>1</td>\n",
       "    </tr>\n",
       "    <tr>\n",
       "      <th>2</th>\n",
       "      <td>127</td>\n",
       "      <td>12.9</td>\n",
       "      <td>2.4</td>\n",
       "      <td>1.4</td>\n",
       "      <td>0.6</td>\n",
       "      <td>1</td>\n",
       "    </tr>\n",
       "    <tr>\n",
       "      <th>3</th>\n",
       "      <td>109</td>\n",
       "      <td>5.3</td>\n",
       "      <td>1.6</td>\n",
       "      <td>1.4</td>\n",
       "      <td>1.5</td>\n",
       "      <td>1</td>\n",
       "    </tr>\n",
       "    <tr>\n",
       "      <th>4</th>\n",
       "      <td>105</td>\n",
       "      <td>7.3</td>\n",
       "      <td>1.5</td>\n",
       "      <td>1.5</td>\n",
       "      <td>-0.1</td>\n",
       "      <td>1</td>\n",
       "    </tr>\n",
       "    <tr>\n",
       "      <th>...</th>\n",
       "      <td>...</td>\n",
       "      <td>...</td>\n",
       "      <td>...</td>\n",
       "      <td>...</td>\n",
       "      <td>...</td>\n",
       "      <td>...</td>\n",
       "    </tr>\n",
       "    <tr>\n",
       "      <th>210</th>\n",
       "      <td>118</td>\n",
       "      <td>6.5</td>\n",
       "      <td>1.3</td>\n",
       "      <td>1.7</td>\n",
       "      <td>11.5</td>\n",
       "      <td>3</td>\n",
       "    </tr>\n",
       "    <tr>\n",
       "      <th>211</th>\n",
       "      <td>139</td>\n",
       "      <td>4.2</td>\n",
       "      <td>0.7</td>\n",
       "      <td>4.3</td>\n",
       "      <td>6.3</td>\n",
       "      <td>3</td>\n",
       "    </tr>\n",
       "    <tr>\n",
       "      <th>212</th>\n",
       "      <td>103</td>\n",
       "      <td>5.1</td>\n",
       "      <td>1.4</td>\n",
       "      <td>1.2</td>\n",
       "      <td>5.0</td>\n",
       "      <td>3</td>\n",
       "    </tr>\n",
       "    <tr>\n",
       "      <th>213</th>\n",
       "      <td>97</td>\n",
       "      <td>4.7</td>\n",
       "      <td>1.1</td>\n",
       "      <td>2.1</td>\n",
       "      <td>12.6</td>\n",
       "      <td>3</td>\n",
       "    </tr>\n",
       "    <tr>\n",
       "      <th>214</th>\n",
       "      <td>102</td>\n",
       "      <td>5.3</td>\n",
       "      <td>1.4</td>\n",
       "      <td>1.3</td>\n",
       "      <td>6.7</td>\n",
       "      <td>3</td>\n",
       "    </tr>\n",
       "  </tbody>\n",
       "</table>\n",
       "<p>215 rows × 6 columns</p>\n",
       "</div>"
      ],
      "text/plain": [
       "       0     1    2    3     4  5\n",
       "0    107  10.1  2.2  0.9   2.7  1\n",
       "1    113   9.9  3.1  2.0   5.9  1\n",
       "2    127  12.9  2.4  1.4   0.6  1\n",
       "3    109   5.3  1.6  1.4   1.5  1\n",
       "4    105   7.3  1.5  1.5  -0.1  1\n",
       "..   ...   ...  ...  ...   ... ..\n",
       "210  118   6.5  1.3  1.7  11.5  3\n",
       "211  139   4.2  0.7  4.3   6.3  3\n",
       "212  103   5.1  1.4  1.2   5.0  3\n",
       "213   97   4.7  1.1  2.1  12.6  3\n",
       "214  102   5.3  1.4  1.3   6.7  3\n",
       "\n",
       "[215 rows x 6 columns]"
      ]
     },
     "execution_count": 362,
     "metadata": {},
     "output_type": "execute_result"
    }
   ],
   "source": [
    "df"
   ]
  },
  {
   "cell_type": "code",
   "execution_count": 373,
   "metadata": {},
   "outputs": [],
   "source": [
    "df_last = df[df.columns[5]]"
   ]
  },
  {
   "cell_type": "code",
   "execution_count": 374,
   "metadata": {},
   "outputs": [
    {
     "data": {
      "text/plain": [
       "0      1\n",
       "1      1\n",
       "2      1\n",
       "3      1\n",
       "4      1\n",
       "      ..\n",
       "210    3\n",
       "211    3\n",
       "212    3\n",
       "213    3\n",
       "214    3\n",
       "Name: 5, Length: 215, dtype: int64"
      ]
     },
     "execution_count": 374,
     "metadata": {},
     "output_type": "execute_result"
    }
   ],
   "source": [
    "df_last"
   ]
  },
  {
   "cell_type": "code",
   "execution_count": 377,
   "metadata": {},
   "outputs": [
    {
     "data": {
      "image/png": "[encoded data removed]",
      "text/plain": [
       "<Figure size 432x288 with 1 Axes>"
      ]
     },
     "metadata": {
      "needs_background": "light"
     },
     "output_type": "display_data"
    }
   ],
   "source": [
    "plt.hist(df_last)\n",
    "plt.xlabel(\"Class\")\n",
    "plt.ylabel(\"Number of elements in the class\")\n",
    "plt.show()"
   ]
  },
  {
   "cell_type": "code",
   "execution_count": 378,
   "metadata": {},
   "outputs": [
    {
     "data": {
      "text/plain": [
       "count    215.000000\n",
       "mean       1.441860\n",
       "std        0.726737\n",
       "min        1.000000\n",
       "25%        1.000000\n",
       "50%        1.000000\n",
       "75%        2.000000\n",
       "max        3.000000\n",
       "Name: 5, dtype: float64"
      ]
     },
     "execution_count": 378,
     "metadata": {},
     "output_type": "execute_result"
    }
   ],
   "source": [
    "df_last.describe()"
   ]
  },
  {
   "cell_type": "markdown",
   "metadata": {
    "colab_type": "text",
    "id": "jZtU-Zqisj5B"
   },
   "source": [
    "**2. (2 балла)** Примените ваш kNN-алгоритм для предсказания значения целевой переменной, используя кросс-валидацию на 3 фолдах. (Вам нужно изготовить из датафрейма массивы numpy `x` и `y`, которые можно скормить функциям, написанным в задачах 1 и 2. Чтобы получить массив из датафрейма можно использовать свойство `.values`.) Перебирая значения параметра $k$ — количества ближайших соседей — от 0 до 20 нарисуйте два графика зависимости качества предсказания (будем использовать accuracy) от $k$ — один для обучающей и один для тестовой выборок. Можно рисовать отдельную линию на графике для каждого фолда, либо рисовать их среднее±разброс."
   ]
  },
  {
   "cell_type": "code",
   "execution_count": 380,
   "metadata": {
    "colab": {},
    "colab_type": "code",
    "id": "CqZ_cMN7pGIv"
   },
   "outputs": [],
   "source": [
    "# YOUR CODE\n",
    "df_data = df[df.columns[:5]]"
   ]
  },
  {
   "cell_type": "code",
   "execution_count": 381,
   "metadata": {},
   "outputs": [
    {
     "data": {
      "text/html": [
       "<div>\n",
       "<style scoped>\n",
       "    .dataframe tbody tr th:only-of-type {\n",
       "        vertical-align: middle;\n",
       "    }\n",
       "\n",
       "    .dataframe tbody tr th {\n",
       "        vertical-align: top;\n",
       "    }\n",
       "\n",
       "    .dataframe thead th {\n",
       "        text-align: right;\n",
       "    }\n",
       "</style>\n",
       "<table border=\"1\" class=\"dataframe\">\n",
       "  <thead>\n",
       "    <tr style=\"text-align: right;\">\n",
       "      <th></th>\n",
       "      <th>0</th>\n",
       "      <th>1</th>\n",
       "      <th>2</th>\n",
       "      <th>3</th>\n",
       "      <th>4</th>\n",
       "    </tr>\n",
       "  </thead>\n",
       "  <tbody>\n",
       "    <tr>\n",
       "      <th>0</th>\n",
       "      <td>107</td>\n",
       "      <td>10.1</td>\n",
       "      <td>2.2</td>\n",
       "      <td>0.9</td>\n",
       "      <td>2.7</td>\n",
       "    </tr>\n",
       "    <tr>\n",
       "      <th>1</th>\n",
       "      <td>113</td>\n",
       "      <td>9.9</td>\n",
       "      <td>3.1</td>\n",
       "      <td>2.0</td>\n",
       "      <td>5.9</td>\n",
       "    </tr>\n",
       "    <tr>\n",
       "      <th>2</th>\n",
       "      <td>127</td>\n",
       "      <td>12.9</td>\n",
       "      <td>2.4</td>\n",
       "      <td>1.4</td>\n",
       "      <td>0.6</td>\n",
       "    </tr>\n",
       "    <tr>\n",
       "      <th>3</th>\n",
       "      <td>109</td>\n",
       "      <td>5.3</td>\n",
       "      <td>1.6</td>\n",
       "      <td>1.4</td>\n",
       "      <td>1.5</td>\n",
       "    </tr>\n",
       "    <tr>\n",
       "      <th>4</th>\n",
       "      <td>105</td>\n",
       "      <td>7.3</td>\n",
       "      <td>1.5</td>\n",
       "      <td>1.5</td>\n",
       "      <td>-0.1</td>\n",
       "    </tr>\n",
       "    <tr>\n",
       "      <th>...</th>\n",
       "      <td>...</td>\n",
       "      <td>...</td>\n",
       "      <td>...</td>\n",
       "      <td>...</td>\n",
       "      <td>...</td>\n",
       "    </tr>\n",
       "    <tr>\n",
       "      <th>210</th>\n",
       "      <td>118</td>\n",
       "      <td>6.5</td>\n",
       "      <td>1.3</td>\n",
       "      <td>1.7</td>\n",
       "      <td>11.5</td>\n",
       "    </tr>\n",
       "    <tr>\n",
       "      <th>211</th>\n",
       "      <td>139</td>\n",
       "      <td>4.2</td>\n",
       "      <td>0.7</td>\n",
       "      <td>4.3</td>\n",
       "      <td>6.3</td>\n",
       "    </tr>\n",
       "    <tr>\n",
       "      <th>212</th>\n",
       "      <td>103</td>\n",
       "      <td>5.1</td>\n",
       "      <td>1.4</td>\n",
       "      <td>1.2</td>\n",
       "      <td>5.0</td>\n",
       "    </tr>\n",
       "    <tr>\n",
       "      <th>213</th>\n",
       "      <td>97</td>\n",
       "      <td>4.7</td>\n",
       "      <td>1.1</td>\n",
       "      <td>2.1</td>\n",
       "      <td>12.6</td>\n",
       "    </tr>\n",
       "    <tr>\n",
       "      <th>214</th>\n",
       "      <td>102</td>\n",
       "      <td>5.3</td>\n",
       "      <td>1.4</td>\n",
       "      <td>1.3</td>\n",
       "      <td>6.7</td>\n",
       "    </tr>\n",
       "  </tbody>\n",
       "</table>\n",
       "<p>215 rows × 5 columns</p>\n",
       "</div>"
      ],
      "text/plain": [
       "       0     1    2    3     4\n",
       "0    107  10.1  2.2  0.9   2.7\n",
       "1    113   9.9  3.1  2.0   5.9\n",
       "2    127  12.9  2.4  1.4   0.6\n",
       "3    109   5.3  1.6  1.4   1.5\n",
       "4    105   7.3  1.5  1.5  -0.1\n",
       "..   ...   ...  ...  ...   ...\n",
       "210  118   6.5  1.3  1.7  11.5\n",
       "211  139   4.2  0.7  4.3   6.3\n",
       "212  103   5.1  1.4  1.2   5.0\n",
       "213   97   4.7  1.1  2.1  12.6\n",
       "214  102   5.3  1.4  1.3   6.7\n",
       "\n",
       "[215 rows x 5 columns]"
      ]
     },
     "execution_count": 381,
     "metadata": {},
     "output_type": "execute_result"
    }
   ],
   "source": [
    "df_data"
   ]
  },
  {
   "cell_type": "code",
   "execution_count": 382,
   "metadata": {},
   "outputs": [],
   "source": [
    "df_y = df_last.values\n",
    "df_x = df_data.values"
   ]
  },
  {
   "cell_type": "code",
   "execution_count": 383,
   "metadata": {},
   "outputs": [],
   "source": [
    "K_folds = strat_kfold_gen(df_x, df_y, 3)"
   ]
  },
  {
   "cell_type": "code",
   "execution_count": 385,
   "metadata": {},
   "outputs": [],
   "source": [
    "import sklearn.metrics as skm"
   ]
  },
  {
   "cell_type": "code",
   "execution_count": 390,
   "metadata": {},
   "outputs": [
    {
     "data": {
      "text/plain": [
       "0.875"
      ]
     },
     "execution_count": 390,
     "metadata": {},
     "output_type": "execute_result"
    }
   ],
   "source": [
    "skm.accuracy_score(K_folds[0][3], knn_classifier(K_folds[0][0], K_folds[0][1], K_folds[0][2], weight=False, k=5))"
   ]
  },
  {
   "cell_type": "code",
   "execution_count": 405,
   "metadata": {},
   "outputs": [],
   "source": [
    "first_fold = list()\n",
    "second_fold = list()\n",
    "third_fold = list()"
   ]
  },
  {
   "cell_type": "code",
   "execution_count": 406,
   "metadata": {},
   "outputs": [
    {
     "name": "stdout",
     "output_type": "stream",
     "text": [
      "First fold accuracy\n",
      "Accurace with 1 neighbors: 0.9166666666666666\n",
      "Accurace with 2 neighbors: 0.875\n",
      "Accurace with 3 neighbors: 0.9027777777777778\n",
      "Accurace with 4 neighbors: 0.875\n",
      "Accurace with 5 neighbors: 0.875\n",
      "Accurace with 6 neighbors: 0.875\n",
      "Accurace with 7 neighbors: 0.875\n",
      "Accurace with 8 neighbors: 0.8472222222222222\n",
      "Accurace with 9 neighbors: 0.8472222222222222\n",
      "Accurace with 10 neighbors: 0.8194444444444444\n",
      "Accurace with 11 neighbors: 0.8194444444444444\n",
      "Accurace with 12 neighbors: 0.7916666666666666\n",
      "Accurace with 13 neighbors: 0.7916666666666666\n",
      "Accurace with 14 neighbors: 0.7777777777777778\n",
      "Accurace with 15 neighbors: 0.7916666666666666\n",
      "Accurace with 16 neighbors: 0.7777777777777778\n",
      "Accurace with 17 neighbors: 0.7777777777777778\n",
      "Accurace with 18 neighbors: 0.7361111111111112\n",
      "Accurace with 19 neighbors: 0.7361111111111112\n",
      "Accurace with 20 neighbors: 0.7222222222222222\n"
     ]
    }
   ],
   "source": [
    "print(\"First fold accuracy\")\n",
    "\n",
    "for i in range(1, 21):\n",
    "    acc = skm.accuracy_score(K_folds[0][3], knn_classifier(K_folds[0][0], K_folds[0][1], K_folds[0][2], weight=False, k=i))\n",
    "    first_fold.append(acc)\n",
    "    print(\"Accurace with \" + str(i) + \" neighbors: \" + str(acc))"
   ]
  },
  {
   "cell_type": "code",
   "execution_count": 407,
   "metadata": {},
   "outputs": [
    {
     "name": "stdout",
     "output_type": "stream",
     "text": [
      "Second fold accuracy\n",
      "Accurace with 1 neighbors: 0.6944444444444444\n",
      "Accurace with 2 neighbors: 0.75\n",
      "Accurace with 3 neighbors: 0.7916666666666666\n",
      "Accurace with 4 neighbors: 0.8055555555555556\n",
      "Accurace with 5 neighbors: 0.8055555555555556\n",
      "Accurace with 6 neighbors: 0.8055555555555556\n",
      "Accurace with 7 neighbors: 0.8333333333333334\n",
      "Accurace with 8 neighbors: 0.8194444444444444\n",
      "Accurace with 9 neighbors: 0.8333333333333334\n",
      "Accurace with 10 neighbors: 0.8194444444444444\n",
      "Accurace with 11 neighbors: 0.8472222222222222\n",
      "Accurace with 12 neighbors: 0.8055555555555556\n",
      "Accurace with 13 neighbors: 0.8055555555555556\n",
      "Accurace with 14 neighbors: 0.7916666666666666\n",
      "Accurace with 15 neighbors: 0.7777777777777778\n",
      "Accurace with 16 neighbors: 0.7916666666666666\n",
      "Accurace with 17 neighbors: 0.7083333333333334\n",
      "Accurace with 18 neighbors: 0.7083333333333334\n",
      "Accurace with 19 neighbors: 0.7083333333333334\n",
      "Accurace with 20 neighbors: 0.7083333333333334\n"
     ]
    }
   ],
   "source": [
    "print(\"Second fold accuracy\")\n",
    "\n",
    "for i in range(1, 21):\n",
    "    acc = skm.accuracy_score(K_folds[1][3], knn_classifier(K_folds[1][0], K_folds[0][1], K_folds[1][2], weight=False, k=i))\n",
    "    second_fold.append(acc)\n",
    "    print(\"Accurace with \" + str(i) + \" neighbors: \" + str(acc))"
   ]
  },
  {
   "cell_type": "code",
   "execution_count": 408,
   "metadata": {},
   "outputs": [
    {
     "name": "stdout",
     "output_type": "stream",
     "text": [
      "Third fold accuracy\n",
      "Accurace with 1 neighbors: 0.9295774647887324\n",
      "Accurace with 2 neighbors: 0.8873239436619719\n",
      "Accurace with 3 neighbors: 0.9014084507042254\n",
      "Accurace with 4 neighbors: 0.8873239436619719\n",
      "Accurace with 5 neighbors: 0.9014084507042254\n",
      "Accurace with 6 neighbors: 0.8873239436619719\n",
      "Accurace with 7 neighbors: 0.8873239436619719\n",
      "Accurace with 8 neighbors: 0.8732394366197183\n",
      "Accurace with 9 neighbors: 0.8873239436619719\n",
      "Accurace with 10 neighbors: 0.8732394366197183\n",
      "Accurace with 11 neighbors: 0.8732394366197183\n",
      "Accurace with 12 neighbors: 0.8591549295774648\n",
      "Accurace with 13 neighbors: 0.8591549295774648\n",
      "Accurace with 14 neighbors: 0.8591549295774648\n",
      "Accurace with 15 neighbors: 0.8591549295774648\n",
      "Accurace with 16 neighbors: 0.8591549295774648\n",
      "Accurace with 17 neighbors: 0.8591549295774648\n",
      "Accurace with 18 neighbors: 0.8591549295774648\n",
      "Accurace with 19 neighbors: 0.8591549295774648\n",
      "Accurace with 20 neighbors: 0.8591549295774648\n"
     ]
    }
   ],
   "source": [
    "print(\"Third fold accuracy\")\n",
    "\n",
    "for i in range(1, 21):\n",
    "    acc = skm.accuracy_score(K_folds[2][3], knn_classifier(K_folds[2][0], K_folds[2][1], K_folds[2][2], weight=False, k=i))\n",
    "    third_fold.append(acc)\n",
    "    print(\"Accurace with \" + str(i) + \" neighbors: \" + str(acc))"
   ]
  },
  {
   "cell_type": "code",
   "execution_count": 413,
   "metadata": {},
   "outputs": [
    {
     "data": {
      "image/png": "[encoded data removed]",
      "text/plain": [
       "<Figure size 432x288 with 1 Axes>"
      ]
     },
     "metadata": {
      "needs_background": "light"
     },
     "output_type": "display_data"
    }
   ],
   "source": [
    "plt.plot(np.linspace(1, 20, 20), first_fold, label=\"First fold test\")\n",
    "plt.plot(np.linspace(1, 20, 20), second_fold, label=\"Second fold test\")\n",
    "plt.plot(np.linspace(1, 20, 20), third_fold, label=\"Third fold test\")\n",
    "plt.legend(loc=\"best\")\n",
    "plt.xlabel(\"Number of nieghbors\")\n",
    "plt.ylabel(\"Accuracy\")\n",
    "plt.show()"
   ]
  },
  {
   "cell_type": "code",
   "execution_count": 417,
   "metadata": {},
   "outputs": [],
   "source": [
    "first_fold_train = list()\n",
    "second_fold_train = list()\n",
    "third_fold_train = list()"
   ]
  },
  {
   "cell_type": "code",
   "execution_count": 418,
   "metadata": {},
   "outputs": [
    {
     "name": "stdout",
     "output_type": "stream",
     "text": [
      "First fold accuracy (train)\n",
      "Accurace with 1 neighbors: 1.0\n",
      "Accurace with 2 neighbors: 0.951048951048951\n",
      "Accurace with 3 neighbors: 0.958041958041958\n",
      "Accurace with 4 neighbors: 0.9230769230769231\n",
      "Accurace with 5 neighbors: 0.9440559440559441\n",
      "Accurace with 6 neighbors: 0.9090909090909091\n",
      "Accurace with 7 neighbors: 0.9230769230769231\n",
      "Accurace with 8 neighbors: 0.8881118881118881\n",
      "Accurace with 9 neighbors: 0.8881118881118881\n",
      "Accurace with 10 neighbors: 0.8881118881118881\n",
      "Accurace with 11 neighbors: 0.8881118881118881\n",
      "Accurace with 12 neighbors: 0.8741258741258742\n",
      "Accurace with 13 neighbors: 0.8811188811188811\n",
      "Accurace with 14 neighbors: 0.8601398601398601\n",
      "Accurace with 15 neighbors: 0.8601398601398601\n",
      "Accurace with 16 neighbors: 0.8601398601398601\n",
      "Accurace with 17 neighbors: 0.8601398601398601\n",
      "Accurace with 18 neighbors: 0.8531468531468531\n",
      "Accurace with 19 neighbors: 0.8531468531468531\n",
      "Accurace with 20 neighbors: 0.8531468531468531\n"
     ]
    }
   ],
   "source": [
    "print(\"First fold accuracy (train)\")\n",
    "\n",
    "for i in range(1, 21):\n",
    "    acc = skm.accuracy_score(K_folds[0][1], knn_classifier(K_folds[0][0], K_folds[0][1], K_folds[0][0], weight=False, k=i))\n",
    "    first_fold_train.append(acc)\n",
    "    print(\"Accurace with \" + str(i) + \" neighbors: \" + str(acc))"
   ]
  },
  {
   "cell_type": "code",
   "execution_count": 419,
   "metadata": {},
   "outputs": [
    {
     "name": "stdout",
     "output_type": "stream",
     "text": [
      "Second fold accuracy (train)\n",
      "Accurace with 1 neighbors: 1.0\n",
      "Accurace with 2 neighbors: 0.972027972027972\n",
      "Accurace with 3 neighbors: 0.986013986013986\n",
      "Accurace with 4 neighbors: 0.9300699300699301\n",
      "Accurace with 5 neighbors: 0.9300699300699301\n",
      "Accurace with 6 neighbors: 0.916083916083916\n",
      "Accurace with 7 neighbors: 0.9230769230769231\n",
      "Accurace with 8 neighbors: 0.8881118881118881\n",
      "Accurace with 9 neighbors: 0.8881118881118881\n",
      "Accurace with 10 neighbors: 0.8741258741258742\n",
      "Accurace with 11 neighbors: 0.8811188811188811\n",
      "Accurace with 12 neighbors: 0.8601398601398601\n",
      "Accurace with 13 neighbors: 0.8671328671328671\n",
      "Accurace with 14 neighbors: 0.8531468531468531\n",
      "Accurace with 15 neighbors: 0.8601398601398601\n",
      "Accurace with 16 neighbors: 0.8461538461538461\n",
      "Accurace with 17 neighbors: 0.8531468531468531\n",
      "Accurace with 18 neighbors: 0.8391608391608392\n",
      "Accurace with 19 neighbors: 0.8391608391608392\n",
      "Accurace with 20 neighbors: 0.8181818181818182\n"
     ]
    }
   ],
   "source": [
    "print(\"Second fold accuracy (train)\")\n",
    "\n",
    "for i in range(1, 21):\n",
    "    acc = skm.accuracy_score(K_folds[1][1], knn_classifier(K_folds[1][0], K_folds[1][1], K_folds[1][0], weight=False, k=i))\n",
    "    second_fold_train.append(acc)\n",
    "    print(\"Accurace with \" + str(i) + \" neighbors: \" + str(acc))"
   ]
  },
  {
   "cell_type": "code",
   "execution_count": 420,
   "metadata": {},
   "outputs": [
    {
     "name": "stdout",
     "output_type": "stream",
     "text": [
      "Third fold accuracy (train)\n",
      "Accurace with 1 neighbors: 1.0\n",
      "Accurace with 2 neighbors: 0.9513888888888888\n",
      "Accurace with 3 neighbors: 0.9583333333333334\n",
      "Accurace with 4 neighbors: 0.9513888888888888\n",
      "Accurace with 5 neighbors: 0.9513888888888888\n",
      "Accurace with 6 neighbors: 0.9444444444444444\n",
      "Accurace with 7 neighbors: 0.9444444444444444\n",
      "Accurace with 8 neighbors: 0.9305555555555556\n",
      "Accurace with 9 neighbors: 0.9305555555555556\n",
      "Accurace with 10 neighbors: 0.9097222222222222\n",
      "Accurace with 11 neighbors: 0.9166666666666666\n",
      "Accurace with 12 neighbors: 0.8958333333333334\n",
      "Accurace with 13 neighbors: 0.8958333333333334\n",
      "Accurace with 14 neighbors: 0.8888888888888888\n",
      "Accurace with 15 neighbors: 0.8888888888888888\n",
      "Accurace with 16 neighbors: 0.8819444444444444\n",
      "Accurace with 17 neighbors: 0.8888888888888888\n",
      "Accurace with 18 neighbors: 0.8611111111111112\n",
      "Accurace with 19 neighbors: 0.8541666666666666\n",
      "Accurace with 20 neighbors: 0.8472222222222222\n"
     ]
    }
   ],
   "source": [
    "print(\"Third fold accuracy (train)\")\n",
    "\n",
    "for i in range(1, 21):\n",
    "    acc = skm.accuracy_score(K_folds[2][1], knn_classifier(K_folds[2][0], K_folds[2][1], K_folds[2][0], weight=False, k=i))\n",
    "    third_fold_train.append(acc)\n",
    "    print(\"Accurace with \" + str(i) + \" neighbors: \" + str(acc))"
   ]
  },
  {
   "cell_type": "code",
   "execution_count": 421,
   "metadata": {},
   "outputs": [
    {
     "data": {
      "image/png": "[encoded data removed]",
      "text/plain": [
       "<Figure size 432x288 with 1 Axes>"
      ]
     },
     "metadata": {
      "needs_background": "light"
     },
     "output_type": "display_data"
    }
   ],
   "source": [
    "plt.plot(np.linspace(1, 20, 20), first_fold_train, label=\"First fold train\")\n",
    "plt.plot(np.linspace(1, 20, 20), second_fold_train, label=\"Second fold trian\")\n",
    "plt.plot(np.linspace(1, 20, 20), third_fold_train, label=\"Third fold train\")\n",
    "plt.legend(loc=\"best\")\n",
    "plt.xlabel(\"Number of nieghbors\")\n",
    "plt.ylabel(\"Accuracy\")\n",
    "plt.show()"
   ]
  },
  {
   "cell_type": "markdown",
   "metadata": {
    "colab_type": "text",
    "id": "5CmfbTBbotpP"
   },
   "source": [
    "Как зависит качество от значения $k$ для каждой выборки? Как выбрать оптимальное значение? \n",
    "\n",
    "*Ваш ответ:* На тестовой выборки видно, что оптимальное количество соседей без нормировки от 1 до 5."
   ]
  },
  {
   "cell_type": "markdown",
   "metadata": {
    "colab_type": "text",
    "id": "tF0S4hv2uplj"
   },
   "source": [
    "**3. (0.5 балла)** Попробуйте улучшить качество модели, отмасштабировав данные таким образом, чтобы разброс значений всех переменных был примерно одинаковым (способ скейлинга на ваш выбор, см. модуль [sklearn-preprocessing](https://scikit-learn.org/stable/modules/classes.html#module-sklearn.preprocessing)). "
   ]
  },
  {
   "cell_type": "code",
   "execution_count": 8,
   "metadata": {
    "colab": {},
    "colab_type": "code",
    "id": "o-sKysHdvKmc"
   },
   "outputs": [],
   "source": [
    "# YOUR CODE"
   ]
  },
  {
   "cell_type": "markdown",
   "metadata": {
    "colab_type": "text",
    "id": "qqRR4NxZvNt8"
   },
   "source": [
    "Какие изменения в качестве произошли?\n",
    "\n",
    "*Ваш ответ:* ..."
   ]
  },
  {
   "cell_type": "markdown",
   "metadata": {
    "colab_type": "text",
    "id": "sBJCKiH8uS03"
   },
   "source": [
    "## Задание 3.2 (3 балла)\n",
    "Теперь рассмотрим другой [датасет](https://archive.ics.uci.edu/ml/datasets/Wine), являющийся результатом химического анализа вина. \n",
    "\n",
    "**1. (0.5 балла)** Загрузите датасет, выведите его размерности и распределение классов. Отмасштабируйте данные как и в предыдущем пункте."
   ]
  },
  {
   "cell_type": "code",
   "execution_count": 1,
   "metadata": {
    "colab": {},
    "colab_type": "code",
    "id": "OJBdKjt9osyJ"
   },
   "outputs": [],
   "source": [
    "### SOLUTION"
   ]
  },
  {
   "cell_type": "markdown",
   "metadata": {
    "colab_type": "text",
    "id": "utjiC2vLoksV"
   },
   "source": [
    "Наша итоговая цель в этом задании — нарисовать объекты датасета на плоскости и посмотреть, как алгоритм делит плоскость на классы и как это влияет на результаты на тестовой выборке. Кроме этого мы рассмотрим разные параметры алгоритма. Первая проблема состоит в том, что в датасете больше двух признаков — непонятно, как объекты изображать на плоскости. Обычно в такой ситуации используются методы снижения размерности (например, PCA), но мы про них ещё не говорили, поэтому воспользуемся другим подходом: попробуем выделить среди признаков те, которые (по одиночке) дают максимум информации о значении целевой переменной (это называется univariate feature selection).\n",
    "\n",
    "**2. (0.5 балла)**  Функция `sklearn.feature_selection.mutual_info_classif` находит *взаимную информацию* между целевой переменной и каждым из признаков. Чем больше взаимная информация, тем больше знание одной переменной сообщает нам о возможных значениях другой переменной. С помощью этой функции выберите два признака, которые имеют максимальную взаимную информацию с целевой переменной. Создайте из них numpy-массив $X$ и создайте массив $y$ со значениями целевой переменной. После чего разделите данные на обучающую и тестовую выборки в соотношении 2:1, воспользовавшись вашей функцией `strat_kfold_gen` и взяв только один элемент из возвращённого списка (или генератора)."
   ]
  },
  {
   "cell_type": "code",
   "execution_count": 11,
   "metadata": {
    "colab": {},
    "colab_type": "code",
    "id": "_weiDgI_H-gJ"
   },
   "outputs": [],
   "source": [
    "# YOUR CODE"
   ]
  },
  {
   "cell_type": "markdown",
   "metadata": {
    "colab_type": "text",
    "id": "VSOMGxhvC0U6"
   },
   "source": [
    "В следующем задании вопользуйтесь примерами из интернета ([[1]](https://scikit-learn.org/stable/auto_examples/neighbors/plot_classification.html), [[2]](https://stackoverflow.com/questions/45075638/graph-k-nn-decision-boundaries-in-matplotlib), [[3]](https://ogrisel.github.io/scikit-learn.org/sklearn-tutorial/auto_examples/tutorial/plot_knn_iris.html) и т.д. на ваш выбор), чтобы построить график следующего типа. Каждая точка плоскости (decision boundaries) покрашена в свой цвет в зависимости от того, какое предсказание сделает алгоритм для этой точки, а объекты раскрашены в тот цвет, какой у них истинный $y$."
   ]
  },
  {
   "cell_type": "markdown",
   "metadata": {
    "colab_type": "text",
    "id": "NA9GgMBdE75O"
   },
   "source": [
    "![example.png](example.png)"
   ]
  },
  {
   "cell_type": "markdown",
   "metadata": {
    "colab_type": "text",
    "id": "xnQp3-7SC7Mp"
   },
   "source": [
    "**3. (2 балла)** Переберите $M$ значений параметра $k$ (можете добавить значение 0 как индикатор использования взвешенного kNN), $L$ значений параметра $p$ (порядок расстояния Минковского) и постройте сетку $L \\times M$  графиков типа выше. ($M$ и $L$ — небольшие целые числа, больше 3.)\n",
    "\n",
    "На графиках должны быть:\n",
    "\n",
    "- подпись: набор параметров и качество (accuracy) до третьего знака после запятой;\n",
    "- окрашенные в цвет истинного класса точки обучающей и тестовой выборки\n",
    "    - сделайте маркеры обучающей и тестовой выборок различными (например, треугольники и кружочки/черная и белая обводка/маленький и большой размер);\n",
    "- границы принятия решений (decision boundaries) на основе обученного (на обучающей выборке) алгоритма kNN;\n",
    "- общее название сетки графиков, где в том числе указаны номера признаков, выбранные в предыдущем пункте."
   ]
  },
  {
   "cell_type": "code",
   "execution_count": 13,
   "metadata": {
    "colab": {},
    "colab_type": "code",
    "id": "Zn2u9XP5CjEg"
   },
   "outputs": [],
   "source": [
    "# YOUR CODE"
   ]
  },
  {
   "cell_type": "markdown",
   "metadata": {
    "colab_type": "text",
    "id": "Kr8BtlH3Ds9r"
   },
   "source": [
    "У какого набора параметров получилось лучшее качество?\n",
    "\n",
    "Объясните как параметры влияют на decision boundaries.\n",
    "\n",
    "*Ваш ответ: ...*"
   ]
  },
  {
   "cell_type": "code",
   "execution_count": null,
   "metadata": {},
   "outputs": [],
   "source": []
  }
 ],
 "metadata": {
  "colab": {
   "collapsed_sections": [],
   "name": "hw2",
   "provenance": []
  },
  "kernelspec": {
   "display_name": "Python 3",
   "language": "python",
   "name": "python3"
  },
  "language_info": {
   "codemirror_mode": {
    "name": "ipython",
    "version": 3
   },
   "file_extension": ".py",
   "mimetype": "text/x-python",
   "name": "python",
   "nbconvert_exporter": "python",
   "pygments_lexer": "ipython3",
   "version": "3.8.1"
  }
 },
 "nbformat": 4,
 "nbformat_minor": 4
}
