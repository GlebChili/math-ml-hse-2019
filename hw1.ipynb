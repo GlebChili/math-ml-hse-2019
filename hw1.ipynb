{
 "cells": [
  {
   "cell_type": "markdown",
   "metadata": {},
   "source": [
    "# Машинное обучение на матфаке, 2019/2020 уч. год.\n",
    "\n",
    "## Домашнее задание 1 -- numpy, pandas, matplotlib.\n",
    "\n",
    "В этом домашнем задании вам предстоит закрепить навыки работы с важнейшими для data science библиотеками -- numpy, pandas и matplotlib.\n",
    "\n",
    "Правила оценивания на вики-странице. Часть заданий необходимо сдать в [Яндекс.контест](https://contest.yandex.ru/contest/16930/problems/)"
   ]
  },
  {
   "cell_type": "code",
   "execution_count": 1,
   "metadata": {},
   "outputs": [],
   "source": [
    "%matplotlib inline"
   ]
  },
  {
   "cell_type": "code",
   "execution_count": 2,
   "metadata": {},
   "outputs": [],
   "source": [
    "import numpy as np"
   ]
  },
  {
   "cell_type": "markdown",
   "metadata": {},
   "source": [
    "### Part 1. numpy\n",
    "\n",
    "Задания 1-10 оцениваются в 0.4 баллов."
   ]
  },
  {
   "cell_type": "markdown",
   "metadata": {},
   "source": [
    "__Задание 1__. Создайте несколько одномерных массивов размера $10^n$ для n от 1 до 6. из случайных чисел при помощи модуля `np.random`. Заполните их независимыми случайными величинами из нормального распределения с матожиданием 5 и дисперсией 10. "
   ]
  },
  {
   "cell_type": "code",
   "execution_count": 3,
   "metadata": {},
   "outputs": [],
   "source": [
    "random_sample_1 = np.random.normal(5, 10, 10)\n",
    "random_sample_2 = np.random.normal(5, 10, 10 ** 2)\n",
    "random_sample_3 = np.random.normal(5, 10, 10 ** 3)\n",
    "random_sample_4 = np.random.normal(5, 10, 10 ** 4)\n",
    "random_sample_5 = np.random.normal(5, 10, 10 ** 5)\n",
    "random_sample_6 = np.random.normal(5, 10, 10 ** 6)"
   ]
  },
  {
   "cell_type": "code",
   "execution_count": 4,
   "metadata": {},
   "outputs": [
    {
     "name": "stdout",
     "output_type": "stream",
     "text": [
      "<class 'numpy.ndarray'>\n"
     ]
    }
   ],
   "source": [
    "print(type(random_sample_6))"
   ]
  },
  {
   "cell_type": "code",
   "execution_count": 5,
   "metadata": {},
   "outputs": [
    {
     "name": "stdout",
     "output_type": "stream",
     "text": [
      "(1000000,)\n"
     ]
    }
   ],
   "source": [
    "print(random_sample_6.shape)"
   ]
  },
  {
   "cell_type": "code",
   "execution_count": 6,
   "metadata": {},
   "outputs": [],
   "source": [
    "import matplotlib.pyplot as plt"
   ]
  },
  {
   "cell_type": "code",
   "execution_count": 7,
   "metadata": {},
   "outputs": [
    {
     "data": {
      "image/png": "[encoded data removed]",
      "text/plain": [
       "<Figure size 432x288 with 1 Axes>"
      ]
     },
     "metadata": {
      "needs_background": "light"
     },
     "output_type": "display_data"
    }
   ],
   "source": [
    "plt.hist(random_sample_6, bins=100, density=True, label=\"Histogram of random_sample_6\")\n",
    "plt.legend(loc=\"best\")\n",
    "plt.show()"
   ]
  },
  {
   "cell_type": "markdown",
   "metadata": {},
   "source": [
    "В заданиях 2-10 запрещается использование циклов `for` и `while` в сдаваемом вами коде. "
   ]
  },
  {
   "cell_type": "markdown",
   "metadata": {},
   "source": [
    "__Задание 2__. Сгенерируйте случайный вектор (одномерный массив) из нормального распределения со средним в нуле и произвольной дисперсией. С помощью `np.where` замените в созданном массиве все отрицательные элементы на нули."
   ]
  },
  {
   "cell_type": "code",
   "execution_count": 8,
   "metadata": {},
   "outputs": [],
   "source": [
    "random_sample_problem_2 = np.random.normal(0, 10, 10 ** 6)"
   ]
  },
  {
   "cell_type": "code",
   "execution_count": 9,
   "metadata": {},
   "outputs": [
    {
     "data": {
      "image/png": "[encoded data removed]",
      "text/plain": [
       "<Figure size 432x288 with 1 Axes>"
      ]
     },
     "metadata": {
      "needs_background": "light"
     },
     "output_type": "display_data"
    }
   ],
   "source": [
    "plt.hist(random_sample_problem_2, bins=20, density=True, label=\"Unmodified random sample\")\n",
    "plt.legend(loc=\"best\")\n",
    "plt.show()"
   ]
  },
  {
   "cell_type": "code",
   "execution_count": 10,
   "metadata": {},
   "outputs": [],
   "source": [
    "modified_random_sample_problem_2 = np.where(random_sample_problem_2 < 0, np.zeros(10 ** 6), random_sample_problem_2)"
   ]
  },
  {
   "cell_type": "code",
   "execution_count": 11,
   "metadata": {},
   "outputs": [
    {
     "data": {
      "image/png": "[encoded data removed]",
      "text/plain": [
       "<Figure size 432x288 with 1 Axes>"
      ]
     },
     "metadata": {
      "needs_background": "light"
     },
     "output_type": "display_data"
    }
   ],
   "source": [
    "plt.hist(modified_random_sample_problem_2, bins= 10, density=True, label=\"Modified random sample\")\n",
    "plt.legend(loc=\"best\")\n",
    "plt.xlim(left=-60, right=50)\n",
    "plt.show()"
   ]
  },
  {
   "cell_type": "markdown",
   "metadata": {},
   "source": [
    "__Задание 3__. Дан массив 10х3, который будет использован как массив с цветами RGB (каждый канал обозначается целым числом от 0 до 255), однако вследствие порчи данных при передаче значения массива вышли за границы заданного диапазона. Напишите функцию clip_values, которая вышедшие за границу диапазона значения превращает в ближашие границы диапазона.\n",
    "\n",
    "__Хинт__: воспользуйтесь np.clip"
   ]
  },
  {
   "cell_type": "code",
   "execution_count": 12,
   "metadata": {},
   "outputs": [],
   "source": [
    "def clip_values(image: np.ndarray) -> np.ndarray:\n",
    "    return np.clip(image, 0, 255)"
   ]
  },
  {
   "cell_type": "markdown",
   "metadata": {},
   "source": [
    "__Задание 4__. Сгенерируйте случайный вектор из нормального распределения со средним в нуле и произвольной дисперсией. С помощью `np.insert` в встаьте в него на четные индексы нули."
   ]
  },
  {
   "cell_type": "code",
   "execution_count": 13,
   "metadata": {},
   "outputs": [],
   "source": [
    "random_sample_problem_4 = np.random.normal(0, 10, 5)"
   ]
  },
  {
   "cell_type": "code",
   "execution_count": 14,
   "metadata": {},
   "outputs": [
    {
     "data": {
      "text/plain": [
       "array([15.84417593, -0.11489952, 12.07526119,  0.77219942, 11.03086938])"
      ]
     },
     "execution_count": 14,
     "metadata": {},
     "output_type": "execute_result"
    }
   ],
   "source": [
    "random_sample_problem_4"
   ]
  },
  {
   "cell_type": "code",
   "execution_count": 15,
   "metadata": {},
   "outputs": [],
   "source": [
    "modified_random_sample_problem_4 = np.insert(random_sample_problem_4, range(0, 5), 0.0)"
   ]
  },
  {
   "cell_type": "code",
   "execution_count": 16,
   "metadata": {},
   "outputs": [
    {
     "data": {
      "text/plain": [
       "array([ 0.        , 15.84417593,  0.        , -0.11489952,  0.        ,\n",
       "       12.07526119,  0.        ,  0.77219942,  0.        , 11.03086938])"
      ]
     },
     "execution_count": 16,
     "metadata": {},
     "output_type": "execute_result"
    }
   ],
   "source": [
    "modified_random_sample_problem_4"
   ]
  },
  {
   "cell_type": "code",
   "execution_count": 17,
   "metadata": {},
   "outputs": [
    {
     "data": {
      "text/plain": [
       "(10,)"
      ]
     },
     "execution_count": 17,
     "metadata": {},
     "output_type": "execute_result"
    }
   ],
   "source": [
    "modified_random_sample_problem_4.shape"
   ]
  },
  {
   "cell_type": "markdown",
   "metadata": {},
   "source": [
    "__Задание 5__. Создайте случайный масиив 4х4 из нормального распределения со средним в нуле и произвольной дисперсией и верните индексы положительных элементов (`np.argwhere`)"
   ]
  },
  {
   "cell_type": "code",
   "execution_count": 18,
   "metadata": {},
   "outputs": [],
   "source": [
    "random_matrix_problem_5 = np.random.normal(0, 10, (4, 4))"
   ]
  },
  {
   "cell_type": "code",
   "execution_count": 19,
   "metadata": {},
   "outputs": [
    {
     "data": {
      "text/plain": [
       "array([[  5.94083665,  12.16526184,  -4.27551582,  14.93767895],\n",
       "       [ 12.76886439,  19.98235241,  16.62245912,  -0.64173237],\n",
       "       [  1.4952312 ,   7.53249097,  -3.25489191, -26.49635365],\n",
       "       [  1.04363729,   7.5696044 ,  12.54936359,  -6.62817476]])"
      ]
     },
     "execution_count": 19,
     "metadata": {},
     "output_type": "execute_result"
    }
   ],
   "source": [
    "random_matrix_problem_5"
   ]
  },
  {
   "cell_type": "code",
   "execution_count": 20,
   "metadata": {},
   "outputs": [],
   "source": [
    "nonzero_values_indices_of_random_matrix_problem_5 = np.argwhere(np.where(random_matrix_problem_5 > 0, random_matrix_problem_5, np.zeros((4, 4))))"
   ]
  },
  {
   "cell_type": "code",
   "execution_count": 21,
   "metadata": {},
   "outputs": [
    {
     "data": {
      "text/plain": [
       "array([[0, 0],\n",
       "       [0, 1],\n",
       "       [0, 3],\n",
       "       [1, 0],\n",
       "       [1, 1],\n",
       "       [1, 2],\n",
       "       [2, 0],\n",
       "       [2, 1],\n",
       "       [3, 0],\n",
       "       [3, 1],\n",
       "       [3, 2]])"
      ]
     },
     "execution_count": 21,
     "metadata": {},
     "output_type": "execute_result"
    }
   ],
   "source": [
    "nonzero_values_indices_of_random_matrix_problem_5"
   ]
  },
  {
   "cell_type": "markdown",
   "metadata": {},
   "source": [
    "__Задание 6__. Создайте матрицу случайных целых чисел от в интервале от 1 до 10 размера 5х5 и посчитайте следующее (сабмодуль `np.linalg`):\n",
    "\n",
    "- определитель матрицы\n",
    "- обратную матрицу\n",
    "- произведение матрицы на саму себя\n",
    "- собственные вектора\n",
    "\n"
   ]
  },
  {
   "cell_type": "code",
   "execution_count": 22,
   "metadata": {},
   "outputs": [],
   "source": [
    "random_matrix_problem_6 = np.random.randint(1, 11, (5, 5))"
   ]
  },
  {
   "cell_type": "code",
   "execution_count": 23,
   "metadata": {},
   "outputs": [
    {
     "data": {
      "text/plain": [
       "array([[ 1,  1,  4, 10,  6],\n",
       "       [ 4,  5,  7,  7,  4],\n",
       "       [ 6,  8,  2,  5, 10],\n",
       "       [ 5,  7,  3,  8,  6],\n",
       "       [ 3,  5,  8,  6,  5]])"
      ]
     },
     "execution_count": 23,
     "metadata": {},
     "output_type": "execute_result"
    }
   ],
   "source": [
    "random_matrix_problem_6"
   ]
  },
  {
   "cell_type": "code",
   "execution_count": 24,
   "metadata": {},
   "outputs": [
    {
     "name": "stdout",
     "output_type": "stream",
     "text": [
      "Determinant of matrix:\n"
     ]
    },
    {
     "data": {
      "text/plain": [
       "-1852.9999999999998"
      ]
     },
     "execution_count": 24,
     "metadata": {},
     "output_type": "execute_result"
    }
   ],
   "source": [
    "print(\"Determinant of matrix:\")\n",
    "np.linalg.det(random_matrix_problem_6)"
   ]
  },
  {
   "cell_type": "code",
   "execution_count": 25,
   "metadata": {},
   "outputs": [
    {
     "name": "stdout",
     "output_type": "stream",
     "text": [
      "Inverse of the matrix:\n"
     ]
    },
    {
     "data": {
      "text/plain": [
       "array([[ 0.00215866,  1.06152186,  0.27792768, -0.49487318, -0.81381543],\n",
       "       [-0.14732866, -0.6988667 , -0.21856449,  0.52509444,  0.5429034 ],\n",
       "       [-0.01349164,  0.1154884 ,  0.01295197, -0.15704263,  0.08634647],\n",
       "       [ 0.06907717, -0.03130059, -0.10631409,  0.16405828, -0.0420939 ],\n",
       "       [ 0.08472747, -0.08526713,  0.15866163, -0.17377226,  0.0577442 ]])"
      ]
     },
     "execution_count": 25,
     "metadata": {},
     "output_type": "execute_result"
    }
   ],
   "source": [
    "print(\"Inverse of the matrix:\")\n",
    "np.linalg.inv(random_matrix_problem_6)"
   ]
  },
  {
   "cell_type": "code",
   "execution_count": 26,
   "metadata": {},
   "outputs": [
    {
     "name": "stdout",
     "output_type": "stream",
     "text": [
      "random_matrix_problem_6^2:\n"
     ]
    },
    {
     "data": {
      "text/plain": [
       "array([[ 97, 138,  97, 153, 140],\n",
       "       [113, 154, 118, 190, 176],\n",
       "       [105, 147, 179, 226, 168],\n",
       "       [109, 150, 147, 214, 166],\n",
       "       [116, 159, 121, 183, 179]])"
      ]
     },
     "execution_count": 26,
     "metadata": {},
     "output_type": "execute_result"
    }
   ],
   "source": [
    "print(\"random_matrix_problem_6^2:\")\n",
    "np.matmul(random_matrix_problem_6, random_matrix_problem_6)"
   ]
  },
  {
   "cell_type": "code",
   "execution_count": 27,
   "metadata": {},
   "outputs": [
    {
     "name": "stdout",
     "output_type": "stream",
     "text": [
      "Eigenvectors of the matrix:\n"
     ]
    },
    {
     "data": {
      "text/plain": [
       "array([[-0.36974356+0.j        ,  0.34063236+0.j        ,\n",
       "         0.8373179 +0.j        ,  0.8373179 -0.j        ,\n",
       "        -0.31968516+0.j        ],\n",
       "       [-0.44496258+0.j        ,  0.32798281+0.j        ,\n",
       "        -0.43432411-0.20882288j, -0.43432411+0.20882288j,\n",
       "        -0.04927914+0.j        ],\n",
       "       [-0.49434265+0.j        , -0.74830823+0.j        ,\n",
       "         0.0859004 -0.06266131j,  0.0859004 +0.06266131j,\n",
       "         0.45819653+0.j        ],\n",
       "       [-0.46853516+0.j        , -0.25989289+0.j        ,\n",
       "        -0.07615722+0.06030761j, -0.07615722-0.06030761j,\n",
       "        -0.59257021+0.j        ],\n",
       "       [-0.44877407+0.j        ,  0.38585923+0.j        ,\n",
       "        -0.13383662+0.16733149j, -0.13383662-0.16733149j,\n",
       "         0.5781777 +0.j        ]])"
      ]
     },
     "execution_count": 27,
     "metadata": {},
     "output_type": "execute_result"
    }
   ],
   "source": [
    "print(\"Eigenvectors of the matrix:\")\n",
    "_, eigenvectors_of_random_matrix_problem_6 = np.linalg.eig(random_matrix_problem_6)\n",
    "eigenvectors_of_random_matrix_problem_6"
   ]
  },
  {
   "cell_type": "markdown",
   "metadata": {},
   "source": [
    "Задания 7-10 необходимо сдать в [Яндекс.контест](https://contest.yandex.ru/contest/16930/problems/) и прикрепить ссылку на решение в формате `https://contest.yandex.ru/contest/xxxxx/run-report/xxxxx/`. Сдавайте задания строго в соответствии с написанной сигнатурой и возвращаемыми типами. Для сдачи необходимо отправить в соответствующую задачу файл, содержащий функции и необходимые импорты. Обратите внимание, что вам доступен только `numpy`. При сдаче выберите компилятор make. __При отсутствии ссылки на решение задание засчитано не будет!__"
   ]
  },
  {
   "cell_type": "markdown",
   "metadata": {},
   "source": [
    "__Задание 7__. Напишите функцию, которая находит сумму квадратов положительных элементов одномерного массива.\n",
    "\n",
    "__Ссылка на посылку в контесте__: [https://contest.yandex.ru/contest/16930/run-report/30592708/](https://contest.yandex.ru/contest/16930/run-report/30592708/)"
   ]
  },
  {
   "cell_type": "code",
   "execution_count": 28,
   "metadata": {},
   "outputs": [],
   "source": [
    "def get_squares(a: np.ndarray) -> float:\n",
    "    a_without_negatives = np.where(a > 0, a, np.zeros(a.shape))\n",
    "    a_squares = a_without_negatives * a_without_negatives\n",
    "    return a_squares.sum()\n",
    "\n",
    "assert get_squares(np.array([1,-2,3])) == 10"
   ]
  },
  {
   "cell_type": "markdown",
   "metadata": {},
   "source": [
    "__Задание 8__. Коля -- мастер покера и умеет выигрывать только целые суммы денег от 0 до n - 1. Коля решил сыграть на турнире. На вход подаётся массив `p` размера $n$, где `p[i]` -- вероятность, что Коля выиграет на турнире $i$ рублей ($\\sum_{i=1}^{n}p_i =1$, $p_i \\geqslant 0, \\forall i$). Посчитайте математическое ожидание выигрыша Коли на турнире.\n",
    "\n",
    "\n",
    "__Ссылка на посылку в контесте__: [https://contest.yandex.ru/contest/16930/run-report/30593096/](https://contest.yandex.ru/contest/16930/run-report/30593096/)"
   ]
  },
  {
   "cell_type": "code",
   "execution_count": 29,
   "metadata": {},
   "outputs": [],
   "source": [
    "def expected_reward(p: np.ndarray) -> float:\n",
    "    values = np.array(range(0, p.shape[0]))\n",
    "    tmp = p * values\n",
    "    return tmp.sum()\n",
    "\n",
    "assert expected_reward(np.array([0.4, 0.5, 0.1])) == 0.7"
   ]
  },
  {
   "cell_type": "markdown",
   "metadata": {},
   "source": [
    "__Задание 9__. Дана квадратная матрица `A`. Посчитайте произведение диагональных элементов матрицы, __строго__ превосходящих среднее значение элементов всей матрицы.\n",
    "\n",
    "__Хинт__: взять диагональ матрицы -- np.diag(), произведение элементов массива -- np.prod(), среднее значение в массиве -- np.mean().\n",
    "\n",
    "__Ссылка на посылку в контесте__: [https://contest.yandex.ru/contest/16930/run-report/30593420/](https://contest.yandex.ru/contest/16930/run-report/30593420/)"
   ]
  },
  {
   "cell_type": "code",
   "execution_count": 30,
   "metadata": {},
   "outputs": [],
   "source": [
    "def prod_upper_avg_diagonal(a: np.ndarray) -> float:\n",
    "    mean = np.mean(a)\n",
    "    diag = np.diag(a)\n",
    "    if np.any(diag > mean):\n",
    "        modified_diag = np.where(diag > mean, diag, np.ones(diag.shape))\n",
    "        return modified_diag.prod()\n",
    "    else:\n",
    "        return 0\n",
    "\n",
    "assert prod_upper_avg_diagonal(np.array([[ 0,  1,  2,  3],\n",
    "                                         [ 4,  5,  6,  7],\n",
    "                                         [ 8,  9, 10, 11],\n",
    "                                         [12, 13, 14, 15]])) == 150"
   ]
  },
  {
   "cell_type": "markdown",
   "metadata": {},
   "source": [
    "__Задание 10__. Дано число $n$. Создайте матрицу $A$ размера $n \\times n$ такую, что $A[i][j] = i \\cdot j$. Нумерация строк и столбцов начинается с нуля.\n",
    "\n",
    "__Ссылка на посылку в контесте:__ [https://contest.yandex.ru/contest/16930/run-report/30594201/](https://contest.yandex.ru/contest/16930/run-report/30594201/)"
   ]
  },
  {
   "cell_type": "code",
   "execution_count": 31,
   "metadata": {},
   "outputs": [],
   "source": [
    "def create_ij(n: int) -> np.ndarray:\n",
    "    pre_matrix = np.repeat(np.array(range(0, n), dtype=int), n)\n",
    "    pre_matrix = np.reshape(pre_matrix, (n, n))\n",
    "    transposed_pre_matrix = pre_matrix.T\n",
    "    return ((np.matmul(pre_matrix, transposed_pre_matrix)) / n).astype(int)\n",
    "\n",
    "assert np.all(create_ij(5) == np.array([[ 0,  0,  0,  0,  0],\n",
    "                                        [ 0,  1,  2,  3,  4],\n",
    "                                        [ 0,  2,  4,  6,  8],\n",
    "                                        [ 0,  3,  6,  9, 12],\n",
    "                                        [ 0,  4,  8, 12, 16]]))"
   ]
  },
  {
   "cell_type": "markdown",
   "metadata": {},
   "source": [
    "### Part 2. Numpy vs pure python\n",
    "\n",
    "\n",
    "__Задание 11__. (1 балл) Выберите любые 5 функций из заданий 2-10 и имплементируйте их, но без использования сторонних библиотек (считайте, что вам доступны только стандартные библиотеки языка Питон и на вход вместо массивов подаются питоновские списки)."
   ]
  },
  {
   "cell_type": "code",
   "execution_count": 32,
   "metadata": {},
   "outputs": [],
   "source": [
    "def custom_sum(a) -> float:\n",
    "    tmp = 0\n",
    "    for i in a:\n",
    "        tmp += i\n",
    "    return tmp"
   ]
  },
  {
   "cell_type": "code",
   "execution_count": 33,
   "metadata": {},
   "outputs": [],
   "source": [
    "# TEST\n",
    "\n",
    "for i in range(1000):\n",
    "    sample = np.random.randint(0, 20, size=20)\n",
    "    first = sample.sum()\n",
    "    second = custom_sum(sample)\n",
    "    assert first == second"
   ]
  },
  {
   "cell_type": "code",
   "execution_count": 34,
   "metadata": {},
   "outputs": [],
   "source": [
    "def custom_prod(a) -> float:\n",
    "    tmp = 1\n",
    "    for i in a:\n",
    "        tmp = tmp * i\n",
    "    return tmp"
   ]
  },
  {
   "cell_type": "code",
   "execution_count": 35,
   "metadata": {},
   "outputs": [],
   "source": [
    "# TEST\n",
    "\n",
    "for i in range(1000):\n",
    "    sample = np.random.randint(0, 10, size=5)\n",
    "    first = sample.prod()\n",
    "    second = custom_prod(sample)\n",
    "    assert first == second"
   ]
  },
  {
   "cell_type": "code",
   "execution_count": 36,
   "metadata": {},
   "outputs": [],
   "source": [
    "def custom_where(bools, first_list, second_list):\n",
    "    tmp = []\n",
    "    for i in range(len(bools)):\n",
    "        if bools[i]:\n",
    "            tmp.append(first_list[i])\n",
    "        else:\n",
    "            tmp.append(second_list[i])\n",
    "    return tmp"
   ]
  },
  {
   "cell_type": "code",
   "execution_count": 37,
   "metadata": {},
   "outputs": [],
   "source": [
    "# TEST\n",
    "\n",
    "for i in range(1000):\n",
    "    sample = np.random.randint(0, 50, 1000)\n",
    "    ones = np.ones(1000)\n",
    "    zeros = np.zeros(1000)\n",
    "    first = np.where(sample < 25, ones, zeros).tolist()\n",
    "    second = custom_where(sample < 25, ones, zeros)\n",
    "    assert first == second"
   ]
  },
  {
   "cell_type": "code",
   "execution_count": 38,
   "metadata": {},
   "outputs": [],
   "source": [
    "def custom_mean(a) -> float:\n",
    "    s = custom_sum(a)\n",
    "    return s/len(a)"
   ]
  },
  {
   "cell_type": "code",
   "execution_count": 39,
   "metadata": {},
   "outputs": [],
   "source": [
    "# TEST\n",
    "\n",
    "for i in range(1000):\n",
    "    sample = np.random.randint(0, 10, 1000)\n",
    "    first = sample.mean()\n",
    "    second = custom_mean(sample)\n",
    "    assert second == first"
   ]
  },
  {
   "cell_type": "code",
   "execution_count": 40,
   "metadata": {},
   "outputs": [],
   "source": [
    "def custom_argwhere(a):\n",
    "    tmp =[]\n",
    "    for i in range(len(a)):\n",
    "        if a[i]:\n",
    "            tmp.append([i])\n",
    "    return tmp"
   ]
  },
  {
   "cell_type": "code",
   "execution_count": 41,
   "metadata": {},
   "outputs": [],
   "source": [
    "# TEST\n",
    "\n",
    "for i in range(1000):\n",
    "    sample = np.random.randint(0, 50, 1000)\n",
    "    first = np.argwhere(sample < 25).tolist()\n",
    "    second = custom_argwhere(sample < 25)\n",
    "    assert first == second"
   ]
  },
  {
   "cell_type": "markdown",
   "metadata": {},
   "source": [
    "__Задание 12__. (3 балла) Сравните время работы векторизованных функций с обычными. Для этого постройте графики зависимости времени исполнения функции от размера входного массива. Перебирайте значения от 1 до $10^6$ по логарифмической шкале. Сделайте выводы.\n",
    "\n",
    "__Графики должны быть опрятными!__. Подписывайте оси, и единицы измерения, указывайте легенду и название графика. Оценка за задание с неопрятными графиками может быть снижена! Сравнение плохого и хорошего графиков:"
   ]
  },
  {
   "cell_type": "code",
   "execution_count": null,
   "metadata": {},
   "outputs": [],
   "source": []
  },
  {
   "cell_type": "markdown",
   "metadata": {},
   "source": [
    "__Хинт__: воспользуйтесь библиотекой `time` или мэджиком `%timeit`."
   ]
  },
  {
   "cell_type": "code",
   "execution_count": 42,
   "metadata": {},
   "outputs": [],
   "source": [
    "import time as time"
   ]
  },
  {
   "cell_type": "code",
   "execution_count": 43,
   "metadata": {},
   "outputs": [],
   "source": [
    "x = range(7)"
   ]
  },
  {
   "cell_type": "code",
   "execution_count": 44,
   "metadata": {},
   "outputs": [],
   "source": [
    "np_where_time =[]\n",
    "custom_where_time = []\n",
    "for i in range(len(x)):\n",
    "    sample = np.random.randint(1, 100, 10 ** x[i])\n",
    "    t1 = time.perf_counter()\n",
    "    np.where(sample < 50, np.ones(10 ** x[i]), np.zeros(10 ** x[i]))\n",
    "    t2 = time.perf_counter()\n",
    "    np_where_time.append((t2 - t1)*1000)\n",
    "    t3 = time.perf_counter()\n",
    "    custom_where(sample < 50, np.ones(10 ** x[i]), np.zeros(10 ** x[i]))\n",
    "    t4 = time.perf_counter()\n",
    "    custom_where_time.append((t4 -t3)*1000)"
   ]
  },
  {
   "cell_type": "code",
   "execution_count": 54,
   "metadata": {},
   "outputs": [
    {
     "data": {
      "image/png": "[encoded data removed]",
      "text/plain": [
       "<Figure size 720x576 with 1 Axes>"
      ]
     },
     "metadata": {
      "needs_background": "light"
     },
     "output_type": "display_data"
    }
   ],
   "source": [
    "plt.plot(x, np_where_time, label=\"numpy where\")\n",
    "plt.plot(x, custom_where_time, label=\"самодельный where\")\n",
    "\n",
    "plt.xlabel(\"Размер массива $10^x$\")\n",
    "plt.ylabel(\"Длительность выполнения функции (мс)\")\n",
    "\n",
    "plt.rcParams['figure.figsize'] = [10, 8]\n",
    "plt.legend(loc=\"best\")\n",
    "plt.grid(True)\n",
    "plt.show()"
   ]
  },
  {
   "cell_type": "code",
   "execution_count": 46,
   "metadata": {},
   "outputs": [
    {
     "name": "stderr",
     "output_type": "stream",
     "text": [
      "<ipython-input-34-92b02d9305cb>:4: RuntimeWarning: overflow encountered in long_scalars\n",
      "  tmp = tmp * i\n"
     ]
    }
   ],
   "source": [
    "np_prod_time =[]\n",
    "custom_prod_time = []\n",
    "for i in range(len(x)):\n",
    "    sample = np.random.randint(1, 100, 10 ** x[i])\n",
    "    t1 = time.perf_counter()\n",
    "    np.prod(sample)\n",
    "    t2 = time.perf_counter()\n",
    "    np_prod_time.append((t2 - t1)*1000)\n",
    "    t3 = time.perf_counter()\n",
    "    custom_prod(sample)\n",
    "    t4 = time.perf_counter()\n",
    "    custom_prod_time.append((t4 -t3)*1000)"
   ]
  },
  {
   "cell_type": "code",
   "execution_count": 47,
   "metadata": {},
   "outputs": [
    {
     "data": {
      "image/png": "[encoded data removed]",
      "text/plain": [
       "<Figure size 720x576 with 1 Axes>"
      ]
     },
     "metadata": {
      "needs_background": "light"
     },
     "output_type": "display_data"
    }
   ],
   "source": [
    "plt.plot(x, np_prod_time, label=\"numpy prod\")\n",
    "plt.plot(x, custom_prod_time, label=\"самодельный prod\")\n",
    "\n",
    "plt.xlabel(\"Размер массива $10^x$\")\n",
    "plt.ylabel(\"Длительность выполнения функции (мс)\")\n",
    "\n",
    "plt.rcParams['figure.figsize'] = [10, 8]\n",
    "plt.legend(loc=\"best\")\n",
    "plt.grid(True)\n",
    "plt.show()"
   ]
  },
  {
   "cell_type": "code",
   "execution_count": 48,
   "metadata": {},
   "outputs": [],
   "source": [
    "np_sum_time =[]\n",
    "custom_sum_time = []\n",
    "for i in range(len(x)):\n",
    "    sample = np.random.randint(1, 100, 10 ** x[i])\n",
    "    t1 = time.perf_counter()\n",
    "    np.sum(sample)\n",
    "    t2 = time.perf_counter()\n",
    "    np_sum_time.append((t2 - t1)*1000)\n",
    "    t3 = time.perf_counter()\n",
    "    custom_sum(sample)\n",
    "    t4 = time.perf_counter()\n",
    "    custom_sum_time.append((t4 -t3)*1000)"
   ]
  },
  {
   "cell_type": "code",
   "execution_count": 49,
   "metadata": {},
   "outputs": [
    {
     "data": {
      "image/png": "[encoded data removed]",
      "text/plain": [
       "<Figure size 720x576 with 1 Axes>"
      ]
     },
     "metadata": {
      "needs_background": "light"
     },
     "output_type": "display_data"
    }
   ],
   "source": [
    "plt.plot(x, np_sum_time, label=\"numpy sum\")\n",
    "plt.plot(x, custom_sum_time, label=\"самодельный sum\")\n",
    "\n",
    "plt.xlabel(\"Размер массива $10^x$\")\n",
    "plt.ylabel(\"Длительность выполнения функции (мс)\")\n",
    "\n",
    "plt.rcParams['figure.figsize'] = [10, 8]\n",
    "plt.legend(loc=\"best\")\n",
    "plt.grid(True)\n",
    "plt.show()"
   ]
  },
  {
   "cell_type": "code",
   "execution_count": 50,
   "metadata": {},
   "outputs": [],
   "source": [
    "np_mean_time =[]\n",
    "custom_mean_time = []\n",
    "for i in range(len(x)):\n",
    "    sample = np.random.randint(1, 100, 10 ** x[i])\n",
    "    t1 = time.perf_counter()\n",
    "    np.mean(sample)\n",
    "    t2 = time.perf_counter()\n",
    "    np_mean_time.append((t2 - t1)*1000)\n",
    "    t3 = time.perf_counter()\n",
    "    custom_mean(sample)\n",
    "    t4 = time.perf_counter()\n",
    "    custom_mean_time.append((t4 -t3)*1000)"
   ]
  },
  {
   "cell_type": "code",
   "execution_count": 51,
   "metadata": {},
   "outputs": [
    {
     "data": {
      "image/png": "[encoded data removed]",
      "text/plain": [
       "<Figure size 720x576 with 1 Axes>"
      ]
     },
     "metadata": {
      "needs_background": "light"
     },
     "output_type": "display_data"
    }
   ],
   "source": [
    "plt.plot(x, np_mean_time, label=\"numpy mean\")\n",
    "plt.plot(x, custom_mean_time, label=\"самодельный mean\")\n",
    "\n",
    "plt.xlabel(\"Размер массива $10^x$\")\n",
    "plt.ylabel(\"Длительность выполнения функции (мс)\")\n",
    "\n",
    "plt.rcParams['figure.figsize'] = [10, 8]\n",
    "plt.legend(loc=\"best\")\n",
    "plt.grid(True)\n",
    "plt.show()"
   ]
  },
  {
   "cell_type": "code",
   "execution_count": 52,
   "metadata": {},
   "outputs": [],
   "source": [
    "np_argwhere_time =[]\n",
    "custom_argwhere_time = []\n",
    "for i in range(len(x)):\n",
    "    sample = np.random.randint(1, 100, 10 ** x[i])\n",
    "    t1 = time.perf_counter()\n",
    "    np.argwhere(sample < 50)\n",
    "    t2 = time.perf_counter()\n",
    "    np_argwhere_time.append((t2 - t1)*1000)\n",
    "    t3 = time.perf_counter()\n",
    "    custom_argwhere(sample < 50)\n",
    "    t4 = time.perf_counter()\n",
    "    custom_argwhere_time.append((t4 -t3)*1000)"
   ]
  },
  {
   "cell_type": "code",
   "execution_count": 53,
   "metadata": {},
   "outputs": [
    {
     "data": {
      "image/png": "[encoded data removed]",
      "text/plain": [
       "<Figure size 720x576 with 1 Axes>"
      ]
     },
     "metadata": {
      "needs_background": "light"
     },
     "output_type": "display_data"
    }
   ],
   "source": [
    "plt.plot(x, np_argwhere_time, label=\"numpy argwhere\")\n",
    "plt.plot(x, custom_argwhere_time, label=\"самодельный argwhere\")\n",
    "\n",
    "plt.xlabel(\"Размер массива $10^x$\")\n",
    "plt.ylabel(\"Длительность выполнения функции (мс)\")\n",
    "\n",
    "plt.rcParams['figure.figsize'] = [10, 8]\n",
    "plt.legend(loc=\"best\")\n",
    "plt.grid(True)\n",
    "plt.show()"
   ]
  },
  {
   "cell_type": "markdown",
   "metadata": {},
   "source": [
    "__Вывод__: Пользуйтесь, дети, функциями из NumPy. Они сильно быстрее всех самодельных функций, особенно на больших входных данных, так как написаны на C и используют SIMD."
   ]
  },
  {
   "cell_type": "markdown",
   "metadata": {},
   "source": [
    "### Part 3. Pandas.\n",
    "\n",
    "Задания 13-22 оцениваются в 0.4 баллов.  В заданиях 13-22 запрещается пользоваться циклами `for` и `while` в сдаваемом вами коде. Задания 13-15 также сдаются в контест с компилятором python3.6+numpy+pandas. В конце сдаваемого вами файла должны быть строки\n",
    "```\n",
    "import sys\n",
    "exec(sys.stdin.read())\n",
    "```"
   ]
  },
  {
   "cell_type": "code",
   "execution_count": 55,
   "metadata": {},
   "outputs": [],
   "source": [
    "import pandas as pd"
   ]
  },
  {
   "cell_type": "markdown",
   "metadata": {},
   "source": [
    "__Задание 13__, Дан датафрейм, в котором существует колонка 'email' (строка, длиной не более 255). Напишите функцию, которая в заданном датафрейме заменяет все невалидные email'ы на \"unknown@unknown.com\". Валидным сичтается емэйл, выглядящий как `[name]@[subdomain].[domain]`, где `[name]` -- строка, содержащая латинские буквы, цифры, точки и знаки `-` и `_`, `[subdomain]` и `[domain]` -- строки, содержащие только латинские буквы и цифры. Длина строки `[domain]` -- не больше 8 символов.\n",
    "\n",
    "__Хинт__. Вопспользуйтесь методом .apply(), в который передайте функцию для обрабоки одного email'a.\n",
    "\n",
    "\n",
    "__Ссылка на посылку в контесте:__ [https://contest.yandex.ru/contest/16930/run-report/30709352/](https://contest.yandex.ru/contest/16930/run-report/30709352/)"
   ]
  },
  {
   "cell_type": "code",
   "execution_count": 59,
   "metadata": {},
   "outputs": [],
   "source": [
    "import re"
   ]
  },
  {
   "cell_type": "code",
   "execution_count": 60,
   "metadata": {},
   "outputs": [],
   "source": [
    "def email_checker(s):\n",
    "    tmp = s\n",
    "    if not re.match(\"^[a-zA-Z.\\-_0-9]+\\@[a-zA-Z0-9]+\\.[a-zA-Z0-9]{1,8}$\", tmp[\"email\"]):\n",
    "        tmp[\"email\"] = \"unknown@unknown.com\"\n",
    "    return tmp"
   ]
  },
  {
   "cell_type": "code",
   "execution_count": 73,
   "metadata": {},
   "outputs": [],
   "source": [
    "def reset_emails(df: pd.DataFrame) -> pd.DataFrame:\n",
    "    return df.apply(email_checker, axis=1)\n",
    "\n",
    "import sys\n",
    "exec(sys.stdin.read())"
   ]
  },
  {
   "cell_type": "markdown",
   "metadata": {},
   "source": [
    "__Задание 14__. Дан датафрейм, в котором существуют колонки 'age' (возраст в годах, целое число) и 'income' (дробное число). Напишите функцию, которая вернёт средний заработок людей младше 18 лет.\n",
    "\n",
    "__Ссылка на посылку в контесте:__ [https://contest.yandex.ru/contest/16930/run-report/30710293/](https://contest.yandex.ru/contest/16930/run-report/30710293/)"
   ]
  },
  {
   "cell_type": "code",
   "execution_count": 92,
   "metadata": {},
   "outputs": [],
   "source": [
    "def get_mean_income(df: pd.DataFrame) -> float:\n",
    "    filtered_df = df.loc[df[\"age\"] < 18]\n",
    "    inc_array = filtered_df[\"income\"].to_numpy()\n",
    "    return inc_array.mean()"
   ]
  },
  {
   "cell_type": "markdown",
   "metadata": {},
   "source": [
    "__Задание 15__. Дан датафрейм, в котором существуют колонки 'id' (идентификатор пользователя, целое положительное число), 'age' (возвраст в годах, целое число), 'sex' (пол пользователя, строка, равная либо \"Male\", либо \"Female\", либо \"Other\"), \"favorite_color\" (любимый цвет пользователя, строка длиной не более 255). Найдите число различных любимых цветов у женщин младше 18 лет.\n",
    "\n",
    "__Ссылка на посылку в контесте__: [https://contest.yandex.ru/contest/16930/run-report/30711963/](https://contest.yandex.ru/contest/16930/run-report/30711963/)"
   ]
  },
  {
   "cell_type": "code",
   "execution_count": 174,
   "metadata": {},
   "outputs": [],
   "source": [
    "def get_fav_color(df: pd.DataFrame) -> int:\n",
    "    filtered_df = df[(df[\"age\"] < 18) & (df[\"sex\"] == \"Female\")]\n",
    "    colors = filtered_df[\"favorite_color\"]\n",
    "    unique_colors = np.unique(colors)\n",
    "    return unique_colors.shape[0]"
   ]
  },
  {
   "cell_type": "markdown",
   "metadata": {},
   "source": [
    "### Part 4. EDA with pandas.\n",
    "\n",
    "В этом задании предлагается сделать разведочный анализ данных в датафрейме. \n",
    "\n",
    "Мы будем работать с датасетом русскоязычных твитов. Скачайте данные по ссылке: https://www.dropbox.com/s/ou55qwyhbj1pdav/tweets.csv?dl=1\n",
    "\n",
    "Корпус состоит из 12 столбцов:\n",
    "\n",
    "    – id: уникальный номер сообщения в системе twitter;\n",
    "    – tdate: дата публикации сообщения (твита);\n",
    "    – tmane: имя пользователя, опубликовавшего сообщение;\n",
    "    – ttext:  текст сообщения (твита);\n",
    "    – ttype: поле в котором в дальнейшем будет указано к кому классу относится твит (положительный, отрицательный, нейтральный);\n",
    "    – trep: количество реплаев к данному сообщению. В настоящий момент API твиттера не отдает эту информацию;\n",
    "    – tfav: число сколько раз данное сообщение было добавлено в избранное другими пользователями;\n",
    "    – tstcount: число всех сообщений пользователя в сети twitter;\n",
    "    – tfol: количество фолловеров пользователя (тех людей, которые читают пользователя);\n",
    "    – tfrien: количество друзей пользователя (те люди, которых читает пользователь);\n",
    "    – listcount: количество листов-подписок в которые добавлен твиттер-пользователь.\n"
   ]
  },
  {
   "cell_type": "code",
   "execution_count": 178,
   "metadata": {},
   "outputs": [
    {
     "name": "stdout",
     "output_type": "stream",
     "text": [
      "--2020-02-05 19:38:04--  https://www.dropbox.com/s/ou55qwyhbj1pdav/tweets.csv?dl=1\n",
      "Loaded CA certificate '/etc/ssl/certs/ca-certificates.crt'\n",
      "Resolving www.dropbox.com (www.dropbox.com)... 2620:100:6026:1::a27d:4601, 162.125.70.1\n",
      "Connecting to www.dropbox.com (www.dropbox.com)|2620:100:6026:1::a27d:4601|:443... connected.\n",
      "HTTP request sent, awaiting response... 301 Moved Permanently\n",
      "Location: /s/dl/ou55qwyhbj1pdav/tweets.csv [following]\n",
      "--2020-02-05 19:38:04--  https://www.dropbox.com/s/dl/ou55qwyhbj1pdav/tweets.csv\n",
      "Reusing existing connection to [www.dropbox.com]:443.\n",
      "HTTP request sent, awaiting response... 302 Found\n",
      "Location: https://uca7972a37096388729cde0a4e8b.dl.dropboxusercontent.com/cd/0/get/AxgDUcorVCbPTsK_PPh3tAuHkMxiIxRvJko3WOWn75sZ1ZDbQ33191Aq30sJ2r8jVQA-UMywVR_DYYe4KLDGBWSG79E5JOi6WD0VV6hKfl_GQ3Ff-YcOrGH-NPG1RK9qBjw/file?dl=1# [following]\n",
      "--2020-02-05 19:38:05--  https://uca7972a37096388729cde0a4e8b.dl.dropboxusercontent.com/cd/0/get/AxgDUcorVCbPTsK_PPh3tAuHkMxiIxRvJko3WOWn75sZ1ZDbQ33191Aq30sJ2r8jVQA-UMywVR_DYYe4KLDGBWSG79E5JOi6WD0VV6hKfl_GQ3Ff-YcOrGH-NPG1RK9qBjw/file?dl=1\n",
      "Resolving uca7972a37096388729cde0a4e8b.dl.dropboxusercontent.com (uca7972a37096388729cde0a4e8b.dl.dropboxusercontent.com)... 2620:100:6026:6::a27d:4606, 162.125.70.6\n",
      "Connecting to uca7972a37096388729cde0a4e8b.dl.dropboxusercontent.com (uca7972a37096388729cde0a4e8b.dl.dropboxusercontent.com)|2620:100:6026:6::a27d:4606|:443... connected.\n",
      "HTTP request sent, awaiting response... 200 OK\n",
      "Length: 44812115 (43M) [application/binary]\n",
      "Saving to: ‘tweets.csv’\n",
      "\n",
      "tweets.csv          100%[===================>]  42.74M  12.8MB/s    in 3.8s    \n",
      "\n",
      "2020-02-05 19:38:09 (11.2 MB/s) - ‘tweets.csv’ saved [44812115/44812115]\n",
      "\n"
     ]
    }
   ],
   "source": [
    "# For linux/google colab users -- download directly from the notebook\n",
    "! wget -O tweets.csv https://www.dropbox.com/s/ou55qwyhbj1pdav/tweets.csv?dl=1 "
   ]
  },
  {
   "cell_type": "code",
   "execution_count": 179,
   "metadata": {},
   "outputs": [],
   "source": [
    "df = pd.read_csv(\"./tweets.csv\")"
   ]
  },
  {
   "cell_type": "code",
   "execution_count": 180,
   "metadata": {},
   "outputs": [
    {
     "data": {
      "text/html": [
       "<div>\n",
       "<style scoped>\n",
       "    .dataframe tbody tr th:only-of-type {\n",
       "        vertical-align: middle;\n",
       "    }\n",
       "\n",
       "    .dataframe tbody tr th {\n",
       "        vertical-align: top;\n",
       "    }\n",
       "\n",
       "    .dataframe thead th {\n",
       "        text-align: right;\n",
       "    }\n",
       "</style>\n",
       "<table border=\"1\" class=\"dataframe\">\n",
       "  <thead>\n",
       "    <tr style=\"text-align: right;\">\n",
       "      <th></th>\n",
       "      <th>id</th>\n",
       "      <th>tdate</th>\n",
       "      <th>tmane</th>\n",
       "      <th>ttext</th>\n",
       "      <th>ttype</th>\n",
       "      <th>trep</th>\n",
       "      <th>tfav</th>\n",
       "      <th>tstcount</th>\n",
       "      <th>tfol</th>\n",
       "      <th>tfrien</th>\n",
       "      <th>listcount</th>\n",
       "    </tr>\n",
       "  </thead>\n",
       "  <tbody>\n",
       "    <tr>\n",
       "      <th>0</th>\n",
       "      <td>410745723928731648</td>\n",
       "      <td>1386764386</td>\n",
       "      <td>chavdaridi</td>\n",
       "      <td>RT @dianochka6464ru: Россия отмочила! Смотреть...</td>\n",
       "      <td>1</td>\n",
       "      <td>0</td>\n",
       "      <td>1</td>\n",
       "      <td>0</td>\n",
       "      <td>285</td>\n",
       "      <td>11</td>\n",
       "      <td>11</td>\n",
       "    </tr>\n",
       "    <tr>\n",
       "      <th>1</th>\n",
       "      <td>409580147185315840</td>\n",
       "      <td>1386486491</td>\n",
       "      <td>pifelanybal</td>\n",
       "      <td>Google сменил алгоритм чексуммы в загребании P...</td>\n",
       "      <td>-1</td>\n",
       "      <td>0</td>\n",
       "      <td>0</td>\n",
       "      <td>0</td>\n",
       "      <td>130</td>\n",
       "      <td>100</td>\n",
       "      <td>86</td>\n",
       "    </tr>\n",
       "    <tr>\n",
       "      <th>2</th>\n",
       "      <td>419794699738570752</td>\n",
       "      <td>1388921830</td>\n",
       "      <td>RomanenkoJulya</td>\n",
       "      <td>мне надо домой, @RomaRudenko1 не отпускает(</td>\n",
       "      <td>-1</td>\n",
       "      <td>0</td>\n",
       "      <td>0</td>\n",
       "      <td>0</td>\n",
       "      <td>730</td>\n",
       "      <td>28</td>\n",
       "      <td>18</td>\n",
       "    </tr>\n",
       "    <tr>\n",
       "      <th>3</th>\n",
       "      <td>410625694087909376</td>\n",
       "      <td>1386735769</td>\n",
       "      <td>VizivayuDyavola</td>\n",
       "      <td>RT @boobear1236969: Линта,я слева:D http://t.c...</td>\n",
       "      <td>1</td>\n",
       "      <td>0</td>\n",
       "      <td>3</td>\n",
       "      <td>0</td>\n",
       "      <td>1959</td>\n",
       "      <td>405</td>\n",
       "      <td>537</td>\n",
       "    </tr>\n",
       "    <tr>\n",
       "      <th>4</th>\n",
       "      <td>410849586635628545</td>\n",
       "      <td>1386789149</td>\n",
       "      <td>Den_Byhovsky</td>\n",
       "      <td>@juliasvirid17 я имел ввиду, что для меня спос...</td>\n",
       "      <td>1</td>\n",
       "      <td>0</td>\n",
       "      <td>0</td>\n",
       "      <td>0</td>\n",
       "      <td>3248</td>\n",
       "      <td>61</td>\n",
       "      <td>48</td>\n",
       "    </tr>\n",
       "  </tbody>\n",
       "</table>\n",
       "</div>"
      ],
      "text/plain": [
       "                   id       tdate            tmane  \\\n",
       "0  410745723928731648  1386764386       chavdaridi   \n",
       "1  409580147185315840  1386486491      pifelanybal   \n",
       "2  419794699738570752  1388921830   RomanenkoJulya   \n",
       "3  410625694087909376  1386735769  VizivayuDyavola   \n",
       "4  410849586635628545  1386789149     Den_Byhovsky   \n",
       "\n",
       "                                               ttext  ttype  trep  tfav  \\\n",
       "0  RT @dianochka6464ru: Россия отмочила! Смотреть...      1     0     1   \n",
       "1  Google сменил алгоритм чексуммы в загребании P...     -1     0     0   \n",
       "2        мне надо домой, @RomaRudenko1 не отпускает(     -1     0     0   \n",
       "3  RT @boobear1236969: Линта,я слева:D http://t.c...      1     0     3   \n",
       "4  @juliasvirid17 я имел ввиду, что для меня спос...      1     0     0   \n",
       "\n",
       "   tstcount  tfol  tfrien  listcount  \n",
       "0         0   285      11         11  \n",
       "1         0   130     100         86  \n",
       "2         0   730      28         18  \n",
       "3         0  1959     405        537  \n",
       "4         0  3248      61         48  "
      ]
     },
     "execution_count": 180,
     "metadata": {},
     "output_type": "execute_result"
    }
   ],
   "source": [
    "df.head()"
   ]
  },
  {
   "cell_type": "markdown",
   "metadata": {},
   "source": [
    "__Задание 16__. Создайте колонку 'tdif', равную разнице числа друзей и числа фолловеров у пользователя."
   ]
  },
  {
   "cell_type": "code",
   "execution_count": 198,
   "metadata": {},
   "outputs": [],
   "source": [
    "df[\"tdif\"] = df[\"tfrien\"] - df[\"tfol\"]"
   ]
  },
  {
   "cell_type": "code",
   "execution_count": 199,
   "metadata": {},
   "outputs": [
    {
     "data": {
      "text/html": [
       "<div>\n",
       "<style scoped>\n",
       "    .dataframe tbody tr th:only-of-type {\n",
       "        vertical-align: middle;\n",
       "    }\n",
       "\n",
       "    .dataframe tbody tr th {\n",
       "        vertical-align: top;\n",
       "    }\n",
       "\n",
       "    .dataframe thead th {\n",
       "        text-align: right;\n",
       "    }\n",
       "</style>\n",
       "<table border=\"1\" class=\"dataframe\">\n",
       "  <thead>\n",
       "    <tr style=\"text-align: right;\">\n",
       "      <th></th>\n",
       "      <th>id</th>\n",
       "      <th>tdate</th>\n",
       "      <th>tmane</th>\n",
       "      <th>ttext</th>\n",
       "      <th>ttype</th>\n",
       "      <th>trep</th>\n",
       "      <th>tfav</th>\n",
       "      <th>tstcount</th>\n",
       "      <th>tfol</th>\n",
       "      <th>tfrien</th>\n",
       "      <th>listcount</th>\n",
       "      <th>tdif</th>\n",
       "    </tr>\n",
       "  </thead>\n",
       "  <tbody>\n",
       "    <tr>\n",
       "      <th>0</th>\n",
       "      <td>410745723928731648</td>\n",
       "      <td>1386764386</td>\n",
       "      <td>chavdaridi</td>\n",
       "      <td>RT @dianochka6464ru: Россия отмочила! Смотреть...</td>\n",
       "      <td>1</td>\n",
       "      <td>0</td>\n",
       "      <td>1</td>\n",
       "      <td>0</td>\n",
       "      <td>285</td>\n",
       "      <td>11</td>\n",
       "      <td>11</td>\n",
       "      <td>-274</td>\n",
       "    </tr>\n",
       "    <tr>\n",
       "      <th>1</th>\n",
       "      <td>409580147185315840</td>\n",
       "      <td>1386486491</td>\n",
       "      <td>pifelanybal</td>\n",
       "      <td>Google сменил алгоритм чексуммы в загребании P...</td>\n",
       "      <td>-1</td>\n",
       "      <td>0</td>\n",
       "      <td>0</td>\n",
       "      <td>0</td>\n",
       "      <td>130</td>\n",
       "      <td>100</td>\n",
       "      <td>86</td>\n",
       "      <td>-30</td>\n",
       "    </tr>\n",
       "    <tr>\n",
       "      <th>2</th>\n",
       "      <td>419794699738570752</td>\n",
       "      <td>1388921830</td>\n",
       "      <td>RomanenkoJulya</td>\n",
       "      <td>мне надо домой, @RomaRudenko1 не отпускает(</td>\n",
       "      <td>-1</td>\n",
       "      <td>0</td>\n",
       "      <td>0</td>\n",
       "      <td>0</td>\n",
       "      <td>730</td>\n",
       "      <td>28</td>\n",
       "      <td>18</td>\n",
       "      <td>-702</td>\n",
       "    </tr>\n",
       "    <tr>\n",
       "      <th>3</th>\n",
       "      <td>410625694087909376</td>\n",
       "      <td>1386735769</td>\n",
       "      <td>VizivayuDyavola</td>\n",
       "      <td>RT @boobear1236969: Линта,я слева:D http://t.c...</td>\n",
       "      <td>1</td>\n",
       "      <td>0</td>\n",
       "      <td>3</td>\n",
       "      <td>0</td>\n",
       "      <td>1959</td>\n",
       "      <td>405</td>\n",
       "      <td>537</td>\n",
       "      <td>-1554</td>\n",
       "    </tr>\n",
       "    <tr>\n",
       "      <th>4</th>\n",
       "      <td>410849586635628545</td>\n",
       "      <td>1386789149</td>\n",
       "      <td>Den_Byhovsky</td>\n",
       "      <td>@juliasvirid17 я имел ввиду, что для меня спос...</td>\n",
       "      <td>1</td>\n",
       "      <td>0</td>\n",
       "      <td>0</td>\n",
       "      <td>0</td>\n",
       "      <td>3248</td>\n",
       "      <td>61</td>\n",
       "      <td>48</td>\n",
       "      <td>-3187</td>\n",
       "    </tr>\n",
       "  </tbody>\n",
       "</table>\n",
       "</div>"
      ],
      "text/plain": [
       "                   id       tdate            tmane  \\\n",
       "0  410745723928731648  1386764386       chavdaridi   \n",
       "1  409580147185315840  1386486491      pifelanybal   \n",
       "2  419794699738570752  1388921830   RomanenkoJulya   \n",
       "3  410625694087909376  1386735769  VizivayuDyavola   \n",
       "4  410849586635628545  1386789149     Den_Byhovsky   \n",
       "\n",
       "                                               ttext  ttype  trep  tfav  \\\n",
       "0  RT @dianochka6464ru: Россия отмочила! Смотреть...      1     0     1   \n",
       "1  Google сменил алгоритм чексуммы в загребании P...     -1     0     0   \n",
       "2        мне надо домой, @RomaRudenko1 не отпускает(     -1     0     0   \n",
       "3  RT @boobear1236969: Линта,я слева:D http://t.c...      1     0     3   \n",
       "4  @juliasvirid17 я имел ввиду, что для меня спос...      1     0     0   \n",
       "\n",
       "   tstcount  tfol  tfrien  listcount  tdif  \n",
       "0         0   285      11         11  -274  \n",
       "1         0   130     100         86   -30  \n",
       "2         0   730      28         18  -702  \n",
       "3         0  1959     405        537 -1554  \n",
       "4         0  3248      61         48 -3187  "
      ]
     },
     "execution_count": 199,
     "metadata": {},
     "output_type": "execute_result"
    }
   ],
   "source": [
    "df.head()"
   ]
  },
  {
   "cell_type": "markdown",
   "metadata": {},
   "source": [
    "__Задание 16__. Создайте датафрейм, в котором остались только строки с чётными номерами, и пронумеруйте их начиная с 0."
   ]
  },
  {
   "cell_type": "code",
   "execution_count": 200,
   "metadata": {},
   "outputs": [],
   "source": [
    "only_even_df = df.drop(range(1, df.shape[0], 2))"
   ]
  },
  {
   "cell_type": "code",
   "execution_count": 201,
   "metadata": {},
   "outputs": [],
   "source": [
    "only_even_df = only_even_df.reset_index(drop=True)"
   ]
  },
  {
   "cell_type": "code",
   "execution_count": 202,
   "metadata": {},
   "outputs": [
    {
     "data": {
      "text/html": [
       "<div>\n",
       "<style scoped>\n",
       "    .dataframe tbody tr th:only-of-type {\n",
       "        vertical-align: middle;\n",
       "    }\n",
       "\n",
       "    .dataframe tbody tr th {\n",
       "        vertical-align: top;\n",
       "    }\n",
       "\n",
       "    .dataframe thead th {\n",
       "        text-align: right;\n",
       "    }\n",
       "</style>\n",
       "<table border=\"1\" class=\"dataframe\">\n",
       "  <thead>\n",
       "    <tr style=\"text-align: right;\">\n",
       "      <th></th>\n",
       "      <th>id</th>\n",
       "      <th>tdate</th>\n",
       "      <th>tmane</th>\n",
       "      <th>ttext</th>\n",
       "      <th>ttype</th>\n",
       "      <th>trep</th>\n",
       "      <th>tfav</th>\n",
       "      <th>tstcount</th>\n",
       "      <th>tfol</th>\n",
       "      <th>tfrien</th>\n",
       "      <th>listcount</th>\n",
       "      <th>tdif</th>\n",
       "    </tr>\n",
       "  </thead>\n",
       "  <tbody>\n",
       "    <tr>\n",
       "      <th>0</th>\n",
       "      <td>410745723928731648</td>\n",
       "      <td>1386764386</td>\n",
       "      <td>chavdaridi</td>\n",
       "      <td>RT @dianochka6464ru: Россия отмочила! Смотреть...</td>\n",
       "      <td>1</td>\n",
       "      <td>0</td>\n",
       "      <td>1</td>\n",
       "      <td>0</td>\n",
       "      <td>285</td>\n",
       "      <td>11</td>\n",
       "      <td>11</td>\n",
       "      <td>-274</td>\n",
       "    </tr>\n",
       "    <tr>\n",
       "      <th>1</th>\n",
       "      <td>419794699738570752</td>\n",
       "      <td>1388921830</td>\n",
       "      <td>RomanenkoJulya</td>\n",
       "      <td>мне надо домой, @RomaRudenko1 не отпускает(</td>\n",
       "      <td>-1</td>\n",
       "      <td>0</td>\n",
       "      <td>0</td>\n",
       "      <td>0</td>\n",
       "      <td>730</td>\n",
       "      <td>28</td>\n",
       "      <td>18</td>\n",
       "      <td>-702</td>\n",
       "    </tr>\n",
       "    <tr>\n",
       "      <th>2</th>\n",
       "      <td>410849586635628545</td>\n",
       "      <td>1386789149</td>\n",
       "      <td>Den_Byhovsky</td>\n",
       "      <td>@juliasvirid17 я имел ввиду, что для меня спос...</td>\n",
       "      <td>1</td>\n",
       "      <td>0</td>\n",
       "      <td>0</td>\n",
       "      <td>0</td>\n",
       "      <td>3248</td>\n",
       "      <td>61</td>\n",
       "      <td>48</td>\n",
       "      <td>-3187</td>\n",
       "    </tr>\n",
       "    <tr>\n",
       "      <th>3</th>\n",
       "      <td>415545552320077824</td>\n",
       "      <td>1387908754</td>\n",
       "      <td>VitaVita52</td>\n",
       "      <td>Было неожиданно,все попадали на концерте,никог...</td>\n",
       "      <td>-1</td>\n",
       "      <td>0</td>\n",
       "      <td>0</td>\n",
       "      <td>0</td>\n",
       "      <td>461</td>\n",
       "      <td>16</td>\n",
       "      <td>19</td>\n",
       "      <td>-445</td>\n",
       "    </tr>\n",
       "    <tr>\n",
       "      <th>4</th>\n",
       "      <td>413821842823348224</td>\n",
       "      <td>1387497790</td>\n",
       "      <td>wyhuzezyg</td>\n",
       "      <td>RT @yvysogoga: мда. центос это стабильность......</td>\n",
       "      <td>-1</td>\n",
       "      <td>0</td>\n",
       "      <td>3</td>\n",
       "      <td>0</td>\n",
       "      <td>641</td>\n",
       "      <td>385</td>\n",
       "      <td>386</td>\n",
       "      <td>-256</td>\n",
       "    </tr>\n",
       "  </tbody>\n",
       "</table>\n",
       "</div>"
      ],
      "text/plain": [
       "                   id       tdate           tmane  \\\n",
       "0  410745723928731648  1386764386      chavdaridi   \n",
       "1  419794699738570752  1388921830  RomanenkoJulya   \n",
       "2  410849586635628545  1386789149    Den_Byhovsky   \n",
       "3  415545552320077824  1387908754      VitaVita52   \n",
       "4  413821842823348224  1387497790       wyhuzezyg   \n",
       "\n",
       "                                               ttext  ttype  trep  tfav  \\\n",
       "0  RT @dianochka6464ru: Россия отмочила! Смотреть...      1     0     1   \n",
       "1        мне надо домой, @RomaRudenko1 не отпускает(     -1     0     0   \n",
       "2  @juliasvirid17 я имел ввиду, что для меня спос...      1     0     0   \n",
       "3  Было неожиданно,все попадали на концерте,никог...     -1     0     0   \n",
       "4  RT @yvysogoga: мда. центос это стабильность......     -1     0     3   \n",
       "\n",
       "   tstcount  tfol  tfrien  listcount  tdif  \n",
       "0         0   285      11         11  -274  \n",
       "1         0   730      28         18  -702  \n",
       "2         0  3248      61         48 -3187  \n",
       "3         0   461      16         19  -445  \n",
       "4         0   641     385        386  -256  "
      ]
     },
     "execution_count": 202,
     "metadata": {},
     "output_type": "execute_result"
    }
   ],
   "source": [
    "only_even_df.head()"
   ]
  },
  {
   "cell_type": "markdown",
   "metadata": {},
   "source": [
    "__Задание 17__. Создайте датафрейм, в котором остались лишь твиты положительной тональности."
   ]
  },
  {
   "cell_type": "code",
   "execution_count": 203,
   "metadata": {},
   "outputs": [],
   "source": [
    "only_positive_tweets = df[df[\"ttype\"] == 1]"
   ]
  },
  {
   "cell_type": "code",
   "execution_count": 205,
   "metadata": {},
   "outputs": [
    {
     "data": {
      "text/html": [
       "<div>\n",
       "<style scoped>\n",
       "    .dataframe tbody tr th:only-of-type {\n",
       "        vertical-align: middle;\n",
       "    }\n",
       "\n",
       "    .dataframe tbody tr th {\n",
       "        vertical-align: top;\n",
       "    }\n",
       "\n",
       "    .dataframe thead th {\n",
       "        text-align: right;\n",
       "    }\n",
       "</style>\n",
       "<table border=\"1\" class=\"dataframe\">\n",
       "  <thead>\n",
       "    <tr style=\"text-align: right;\">\n",
       "      <th></th>\n",
       "      <th>id</th>\n",
       "      <th>tdate</th>\n",
       "      <th>tmane</th>\n",
       "      <th>ttext</th>\n",
       "      <th>ttype</th>\n",
       "      <th>trep</th>\n",
       "      <th>tfav</th>\n",
       "      <th>tstcount</th>\n",
       "      <th>tfol</th>\n",
       "      <th>tfrien</th>\n",
       "      <th>listcount</th>\n",
       "      <th>tdif</th>\n",
       "    </tr>\n",
       "  </thead>\n",
       "  <tbody>\n",
       "    <tr>\n",
       "      <th>0</th>\n",
       "      <td>410745723928731648</td>\n",
       "      <td>1386764386</td>\n",
       "      <td>chavdaridi</td>\n",
       "      <td>RT @dianochka6464ru: Россия отмочила! Смотреть...</td>\n",
       "      <td>1</td>\n",
       "      <td>0</td>\n",
       "      <td>1</td>\n",
       "      <td>0</td>\n",
       "      <td>285</td>\n",
       "      <td>11</td>\n",
       "      <td>11</td>\n",
       "      <td>-274</td>\n",
       "    </tr>\n",
       "    <tr>\n",
       "      <th>3</th>\n",
       "      <td>410625694087909376</td>\n",
       "      <td>1386735769</td>\n",
       "      <td>VizivayuDyavola</td>\n",
       "      <td>RT @boobear1236969: Линта,я слева:D http://t.c...</td>\n",
       "      <td>1</td>\n",
       "      <td>0</td>\n",
       "      <td>3</td>\n",
       "      <td>0</td>\n",
       "      <td>1959</td>\n",
       "      <td>405</td>\n",
       "      <td>537</td>\n",
       "      <td>-1554</td>\n",
       "    </tr>\n",
       "    <tr>\n",
       "      <th>4</th>\n",
       "      <td>410849586635628545</td>\n",
       "      <td>1386789149</td>\n",
       "      <td>Den_Byhovsky</td>\n",
       "      <td>@juliasvirid17 я имел ввиду, что для меня спос...</td>\n",
       "      <td>1</td>\n",
       "      <td>0</td>\n",
       "      <td>0</td>\n",
       "      <td>0</td>\n",
       "      <td>3248</td>\n",
       "      <td>61</td>\n",
       "      <td>48</td>\n",
       "      <td>-3187</td>\n",
       "    </tr>\n",
       "    <tr>\n",
       "      <th>15</th>\n",
       "      <td>411098495815131136</td>\n",
       "      <td>1386848494</td>\n",
       "      <td>KlimMasha</td>\n",
       "      <td>как всегда круто посидели на химии:) http://t....</td>\n",
       "      <td>1</td>\n",
       "      <td>0</td>\n",
       "      <td>0</td>\n",
       "      <td>0</td>\n",
       "      <td>583</td>\n",
       "      <td>22</td>\n",
       "      <td>37</td>\n",
       "      <td>-561</td>\n",
       "    </tr>\n",
       "    <tr>\n",
       "      <th>17</th>\n",
       "      <td>410406761066405888</td>\n",
       "      <td>1386683571</td>\n",
       "      <td>Alexandrovna_07</td>\n",
       "      <td>Сегодняшнее творение ,больше половины уже нет ...</td>\n",
       "      <td>1</td>\n",
       "      <td>0</td>\n",
       "      <td>0</td>\n",
       "      <td>0</td>\n",
       "      <td>1155</td>\n",
       "      <td>24</td>\n",
       "      <td>20</td>\n",
       "      <td>-1131</td>\n",
       "    </tr>\n",
       "  </tbody>\n",
       "</table>\n",
       "</div>"
      ],
      "text/plain": [
       "                    id       tdate            tmane  \\\n",
       "0   410745723928731648  1386764386       chavdaridi   \n",
       "3   410625694087909376  1386735769  VizivayuDyavola   \n",
       "4   410849586635628545  1386789149     Den_Byhovsky   \n",
       "15  411098495815131136  1386848494        KlimMasha   \n",
       "17  410406761066405888  1386683571  Alexandrovna_07   \n",
       "\n",
       "                                                ttext  ttype  trep  tfav  \\\n",
       "0   RT @dianochka6464ru: Россия отмочила! Смотреть...      1     0     1   \n",
       "3   RT @boobear1236969: Линта,я слева:D http://t.c...      1     0     3   \n",
       "4   @juliasvirid17 я имел ввиду, что для меня спос...      1     0     0   \n",
       "15  как всегда круто посидели на химии:) http://t....      1     0     0   \n",
       "17  Сегодняшнее творение ,больше половины уже нет ...      1     0     0   \n",
       "\n",
       "    tstcount  tfol  tfrien  listcount  tdif  \n",
       "0          0   285      11         11  -274  \n",
       "3          0  1959     405        537 -1554  \n",
       "4          0  3248      61         48 -3187  \n",
       "15         0   583      22         37  -561  \n",
       "17         0  1155      24         20 -1131  "
      ]
     },
     "execution_count": 205,
     "metadata": {},
     "output_type": "execute_result"
    }
   ],
   "source": [
    "only_positive_tweets.head()"
   ]
  },
  {
   "cell_type": "markdown",
   "metadata": {},
   "source": [
    "__Задание 18__. Посчитайте число уникальных пользователей (пользователей с различными tmane).\n",
    "\n",
    "__Хинт__: воспользуйтесь np.unique."
   ]
  },
  {
   "cell_type": "code",
   "execution_count": null,
   "metadata": {},
   "outputs": [],
   "source": [
    "### YOUR CODE"
   ]
  },
  {
   "cell_type": "markdown",
   "metadata": {},
   "source": [
    "__Задание 19__. Посчитайте основные статистики по числу подписчиков при помощи метода .describe(). Постройте гистограмму значений признака."
   ]
  },
  {
   "cell_type": "code",
   "execution_count": null,
   "metadata": {},
   "outputs": [],
   "source": [
    "### YOUR CODE"
   ]
  },
  {
   "cell_type": "markdown",
   "metadata": {},
   "source": [
    "__Задание 20__. Посчитайте число ретвитов в датасете (твитов, начинающихся с \"RT @\")."
   ]
  },
  {
   "cell_type": "code",
   "execution_count": null,
   "metadata": {},
   "outputs": [],
   "source": [
    "### YOUR CODE"
   ]
  },
  {
   "cell_type": "markdown",
   "metadata": {},
   "source": [
    "__Задание 21__. Назовём длинным такой твит, что его длина больше, чем не менее 80% всех твитов. Найдите число длинных твитов."
   ]
  },
  {
   "cell_type": "code",
   "execution_count": null,
   "metadata": {},
   "outputs": [],
   "source": [
    "### YOUR CODE"
   ]
  },
  {
   "cell_type": "markdown",
   "metadata": {},
   "source": [
    "__Задание 22__. Постройте гистограмму распределения числа твитов по месяцам. В какой месяц какого года было опубликовано больше всего твитов?\n",
    "\n",
    "__Хинт__: Время в колонке tdate -- это Unix time, и оно отображает то, сколько секунд прошло с 00:00:00 1 января 1970 года. Для конвертации этого времени в удобный формат воспользуйтесь библиотекой `datetime`."
   ]
  },
  {
   "cell_type": "code",
   "execution_count": null,
   "metadata": {},
   "outputs": [],
   "source": [
    "### YOUR CODE"
   ]
  },
  {
   "cell_type": "markdown",
   "metadata": {},
   "source": [
    "__Задание 23__. Вставьте ниже смешную картинку, желательно про машинное обучение. Лучшие картинки мы наградим бонусными баллами (но это не точно)."
   ]
  },
  {
   "cell_type": "markdown",
   "metadata": {},
   "source": [
    "__Задание 999__. Напишите ниже, чего вы ждёте от курса, какой формат лекций и семинаров вам более интересен, в какие дни хотели бы поставить семинары, темы, которые хотели бы изучить, промежуточный фидбек (при наличии), а также произвольные пожелания и предложения. Мы постараемся всё это учесть."
   ]
  }
 ],
 "metadata": {
  "kernelspec": {
   "display_name": "Python 3",
   "language": "python",
   "name": "python3"
  },
  "language_info": {
   "codemirror_mode": {
    "name": "ipython",
    "version": 3
   },
   "file_extension": ".py",
   "mimetype": "text/x-python",
   "name": "python",
   "nbconvert_exporter": "python",
   "pygments_lexer": "ipython3",
   "version": "3.8.1"
  }
 },
 "nbformat": 4,
 "nbformat_minor": 4
}
