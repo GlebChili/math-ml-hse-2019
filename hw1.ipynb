{
 "cells": [
  {
   "cell_type": "markdown",
   "metadata": {},
   "source": [
    "# Машинное обучение на матфаке, 2019/2020 уч. год.\n",
    "\n",
    "## Домашнее задание 1 -- numpy, pandas, matplotlib.\n",
    "\n",
    "В этом домашнем задании вам предстоит закрепить навыки работы с важнейшими для data science библиотеками -- numpy, pandas и matplotlib.\n",
    "\n",
    "Правила оценивания на вики-странице. Часть заданий необходимо сдать в [Яндекс.контест](https://contest.yandex.ru/contest/16930/problems/)"
   ]
  },
  {
   "cell_type": "code",
   "execution_count": 6,
   "metadata": {},
   "outputs": [],
   "source": [
    "%matplotlib inline"
   ]
  },
  {
   "cell_type": "code",
   "execution_count": 1,
   "metadata": {},
   "outputs": [],
   "source": [
    "import numpy as np"
   ]
  },
  {
   "cell_type": "markdown",
   "metadata": {},
   "source": [
    "### Part 1. numpy\n",
    "\n",
    "Задания 1-10 оцениваются в 0.4 баллов."
   ]
  },
  {
   "cell_type": "markdown",
   "metadata": {},
   "source": [
    "__Задание 1__. Создайте несколько одномерных массивов размера $10^n$ для n от 1 до 6. из случайных чисел при помощи модуля `np.random`. Заполните их независимыми случайными величинами из нормального распределения с матожиданием 5 и дисперсией 10. "
   ]
  },
  {
   "cell_type": "code",
   "execution_count": 2,
   "metadata": {},
   "outputs": [],
   "source": [
    "random_sample_1 = np.random.normal(5, 10, 10)\n",
    "random_sample_2 = np.random.normal(5, 10, 10 ** 2)\n",
    "random_sample_3 = np.random.normal(5, 10, 10 ** 3)\n",
    "random_sample_4 = np.random.normal(5, 10, 10 ** 4)\n",
    "random_sample_5 = np.random.normal(5, 10, 10 ** 5)\n",
    "random_sample_6 = np.random.normal(5, 10, 10 ** 6)"
   ]
  },
  {
   "cell_type": "code",
   "execution_count": 3,
   "metadata": {},
   "outputs": [
    {
     "name": "stdout",
     "output_type": "stream",
     "text": [
      "<class 'numpy.ndarray'>\n"
     ]
    }
   ],
   "source": [
    "print(type(random_sample_6))"
   ]
  },
  {
   "cell_type": "code",
   "execution_count": 4,
   "metadata": {},
   "outputs": [
    {
     "name": "stdout",
     "output_type": "stream",
     "text": [
      "(1000000,)\n"
     ]
    }
   ],
   "source": [
    "print(random_sample_6.shape)"
   ]
  },
  {
   "cell_type": "code",
   "execution_count": 7,
   "metadata": {},
   "outputs": [],
   "source": [
    "import matplotlib.pyplot as plt"
   ]
  },
  {
   "cell_type": "code",
   "execution_count": 8,
   "metadata": {},
   "outputs": [
    {
     "data": {
      "image/png": "[encoded data removed]",
      "text/plain": [
       "<Figure size 432x288 with 1 Axes>"
      ]
     },
     "metadata": {
      "needs_background": "light"
     },
     "output_type": "display_data"
    }
   ],
   "source": [
    "plt.hist(random_sample_6, bins=100, density=True, label=\"Histogram of random_sample_6\")\n",
    "plt.legend(loc=\"best\")\n",
    "plt.show()"
   ]
  },
  {
   "cell_type": "markdown",
   "metadata": {},
   "source": [
    "В заданиях 2-10 запрещается использование циклов `for` и `while` в сдаваемом вами коде. "
   ]
  },
  {
   "cell_type": "markdown",
   "metadata": {},
   "source": [
    "__Задание 2__. Сгенерируйте случайный вектор (одномерный массив) из нормального распределения со средним в нуле и произвольной дисперсией. С помощью `np.where` замените в созданном массиве все отрицательные элементы на нули."
   ]
  },
  {
   "cell_type": "code",
   "execution_count": 22,
   "metadata": {},
   "outputs": [],
   "source": [
    "random_sample_problem_2 = np.random.normal(0, 10, 10 ** 6)"
   ]
  },
  {
   "cell_type": "code",
   "execution_count": 39,
   "metadata": {},
   "outputs": [
    {
     "data": {
      "image/png": "[encoded data removed]",
      "text/plain": [
       "<Figure size 432x288 with 1 Axes>"
      ]
     },
     "metadata": {
      "needs_background": "light"
     },
     "output_type": "display_data"
    }
   ],
   "source": [
    "plt.hist(random_sample_problem_2, bins=20, density=True, label=\"Unmodified random sample\")\n",
    "plt.legend(loc=\"best\")\n",
    "plt.show()"
   ]
  },
  {
   "cell_type": "code",
   "execution_count": 32,
   "metadata": {},
   "outputs": [],
   "source": [
    "modified_random_sample_problem_2 = np.where(random_sample_problem_2 < 0, np.zeros(10 ** 6), random_sample_problem_2)"
   ]
  },
  {
   "cell_type": "code",
   "execution_count": 42,
   "metadata": {},
   "outputs": [
    {
     "data": {
      "image/png": "[encoded data removed]",
      "text/plain": [
       "<Figure size 432x288 with 1 Axes>"
      ]
     },
     "metadata": {
      "needs_background": "light"
     },
     "output_type": "display_data"
    }
   ],
   "source": [
    "plt.hist(modified_random_sample_problem_2, bins= 10, density=True, label=\"Modified random sample\")\n",
    "plt.legend(loc=\"best\")\n",
    "plt.xlim(left=-60, right=50)\n",
    "plt.show()"
   ]
  },
  {
   "cell_type": "markdown",
   "metadata": {},
   "source": [
    "__Задание 3__. Дан массив 10х3, который будет использован как массив с цветами RGB (каждый канал обозначается целым числом от 0 до 255), однако вследствие порчи данных при передаче значения массива вышли за границы заданного диапазона. Напишите функцию clip_values, которая вышедшие за границу диапазона значения превращает в ближашие границы диапазона.\n",
    "\n",
    "__Хинт__: воспользуйтесь np.clip"
   ]
  },
  {
   "cell_type": "code",
   "execution_count": 43,
   "metadata": {},
   "outputs": [],
   "source": [
    "def clip_values(image: np.ndarray) -> np.ndarray:\n",
    "    return np.clip(image, 0, 255)"
   ]
  },
  {
   "cell_type": "markdown",
   "metadata": {},
   "source": [
    "__Задание 4__. Сгенерируйте случайный вектор из нормального распределения со средним в нуле и произвольной дисперсией. С помощью `np.insert` в встаьте в него на четные индексы нули."
   ]
  },
  {
   "cell_type": "code",
   "execution_count": 69,
   "metadata": {},
   "outputs": [],
   "source": [
    "random_sample_problem_4 = np.random.normal(0, 10, 5)"
   ]
  },
  {
   "cell_type": "code",
   "execution_count": 70,
   "metadata": {},
   "outputs": [
    {
     "data": {
      "text/plain": [
       "array([-18.00560584,   1.65066181,   5.48652992, -15.259669  ,\n",
       "         8.84695434])"
      ]
     },
     "execution_count": 70,
     "metadata": {},
     "output_type": "execute_result"
    }
   ],
   "source": [
    "random_sample_problem_4"
   ]
  },
  {
   "cell_type": "code",
   "execution_count": 76,
   "metadata": {},
   "outputs": [],
   "source": [
    "modified_random_sample_problem_4 = np.insert(random_sample_problem_4, range(0, 5), 0.0)"
   ]
  },
  {
   "cell_type": "code",
   "execution_count": 77,
   "metadata": {},
   "outputs": [
    {
     "data": {
      "text/plain": [
       "array([  0.        , -18.00560584,   0.        ,   1.65066181,\n",
       "         0.        ,   5.48652992,   0.        , -15.259669  ,\n",
       "         0.        ,   8.84695434])"
      ]
     },
     "execution_count": 77,
     "metadata": {},
     "output_type": "execute_result"
    }
   ],
   "source": [
    "modified_random_sample_problem_4"
   ]
  },
  {
   "cell_type": "code",
   "execution_count": 78,
   "metadata": {},
   "outputs": [
    {
     "data": {
      "text/plain": [
       "(10,)"
      ]
     },
     "execution_count": 78,
     "metadata": {},
     "output_type": "execute_result"
    }
   ],
   "source": [
    "modified_random_sample_problem_4.shape"
   ]
  },
  {
   "cell_type": "markdown",
   "metadata": {},
   "source": [
    "__Задание 5__. Создайте случайный масиив 4х4 из нормального распределения со средним в нуле и произвольной дисперсией и верните индексы положительных элементов (`np.argwhere`)"
   ]
  },
  {
   "cell_type": "code",
   "execution_count": 80,
   "metadata": {},
   "outputs": [],
   "source": [
    "random_matrix_problem_5 = np.random.normal(0, 10, (4, 4))"
   ]
  },
  {
   "cell_type": "code",
   "execution_count": 81,
   "metadata": {},
   "outputs": [
    {
     "data": {
      "text/plain": [
       "array([[ 16.51243029,  -9.36372105,   1.0410347 ,  -3.11815939],\n",
       "       [  4.68456743,  -1.65726725,   6.60063232,   5.9508518 ],\n",
       "       [ -4.44566321,  -3.09187248,   0.65997932,   7.33404744],\n",
       "       [ -0.8912486 ,  22.39164298,   1.71265798, -12.65258162]])"
      ]
     },
     "execution_count": 81,
     "metadata": {},
     "output_type": "execute_result"
    }
   ],
   "source": [
    "random_matrix_problem_5"
   ]
  },
  {
   "cell_type": "code",
   "execution_count": 82,
   "metadata": {},
   "outputs": [],
   "source": [
    "nonzero_values_indices_of_random_matrix_problem_5 = np.argwhere(np.where(random_matrix_problem_5 > 0, random_matrix_problem_5, np.zeros((4, 4))))"
   ]
  },
  {
   "cell_type": "code",
   "execution_count": 83,
   "metadata": {},
   "outputs": [
    {
     "data": {
      "text/plain": [
       "array([[0, 0],\n",
       "       [0, 2],\n",
       "       [1, 0],\n",
       "       [1, 2],\n",
       "       [1, 3],\n",
       "       [2, 2],\n",
       "       [2, 3],\n",
       "       [3, 1],\n",
       "       [3, 2]])"
      ]
     },
     "execution_count": 83,
     "metadata": {},
     "output_type": "execute_result"
    }
   ],
   "source": [
    "nonzero_values_indices_of_random_matrix_problem_5"
   ]
  },
  {
   "cell_type": "markdown",
   "metadata": {},
   "source": [
    "__Задание 6__. Создайте матрицу случайных целых чисел от в интервале от 1 до 10 размера 5х5 и посчитайте следующее (сабмодуль `np.linalg`):\n",
    "\n",
    "- определитель матрицы\n",
    "- обратную матрицу\n",
    "- произведение матрицы на саму себя\n",
    "- собственные вектора\n",
    "\n"
   ]
  },
  {
   "cell_type": "code",
   "execution_count": 86,
   "metadata": {},
   "outputs": [],
   "source": [
    "random_matrix_problem_6 = np.random.randint(1, 11, (5, 5))"
   ]
  },
  {
   "cell_type": "code",
   "execution_count": 87,
   "metadata": {},
   "outputs": [
    {
     "data": {
      "text/plain": [
       "array([[ 7,  1,  6,  8,  5],\n",
       "       [ 8,  8, 10,  7,  6],\n",
       "       [ 8,  2,  4,  5,  9],\n",
       "       [ 3,  9,  4,  3,  9],\n",
       "       [ 7,  7,  3,  4,  7]])"
      ]
     },
     "execution_count": 87,
     "metadata": {},
     "output_type": "execute_result"
    }
   ],
   "source": [
    "random_matrix_problem_6"
   ]
  },
  {
   "cell_type": "code",
   "execution_count": 89,
   "metadata": {},
   "outputs": [
    {
     "name": "stdout",
     "output_type": "stream",
     "text": [
      "Determinant of matrix:\n"
     ]
    },
    {
     "data": {
      "text/plain": [
       "6215.999999999995"
      ]
     },
     "execution_count": 89,
     "metadata": {},
     "output_type": "execute_result"
    }
   ],
   "source": [
    "print(\"Determinant of matrix:\")\n",
    "np.linalg.det(random_matrix_problem_6)"
   ]
  },
  {
   "cell_type": "code",
   "execution_count": 90,
   "metadata": {},
   "outputs": [
    {
     "name": "stdout",
     "output_type": "stream",
     "text": [
      "Inverse of the matrix:\n"
     ]
    },
    {
     "data": {
      "text/plain": [
       "array([[-0.13014801,  0.06965894,  0.09427284, -0.20254183,  0.17245817],\n",
       "       [ 0.00852638, -0.00209138, -0.1483269 ,  0.02686615,  0.15186615],\n",
       "       [-0.13803089,  0.20366795,  0.13706564, -0.00096525, -0.25096525],\n",
       "       [ 0.35521236, -0.18146718, -0.25482625,  0.1003861 ,  0.1003861 ],\n",
       "       [-0.02220077, -0.0511583 ,  0.14092664,  0.11872587, -0.13127413]])"
      ]
     },
     "execution_count": 90,
     "metadata": {},
     "output_type": "execute_result"
    }
   ],
   "source": [
    "print(\"Inverse of the matrix:\")\n",
    "np.linalg.inv(random_matrix_problem_6)"
   ]
  },
  {
   "cell_type": "code",
   "execution_count": 92,
   "metadata": {},
   "outputs": [
    {
     "name": "stdout",
     "output_type": "stream",
     "text": [
      "random_matrix_problem_6^2:\n"
     ]
    },
    {
     "data": {
      "text/plain": [
       "array([[164, 134, 123, 137, 202],\n",
       "       [263, 197, 214, 215, 283],\n",
       "       [182, 140, 131, 149, 196],\n",
       "       [197, 173, 163, 152, 195],\n",
       "       [190, 154, 161, 160, 189]])"
      ]
     },
     "execution_count": 92,
     "metadata": {},
     "output_type": "execute_result"
    }
   ],
   "source": [
    "print(\"random_matrix_problem_6^2:\")\n",
    "np.matmul(random_matrix_problem_6, random_matrix_problem_6)"
   ]
  },
  {
   "cell_type": "code",
   "execution_count": 93,
   "metadata": {},
   "outputs": [
    {
     "name": "stdout",
     "output_type": "stream",
     "text": [
      "Eigenvectors of the matrix:\n"
     ]
    },
    {
     "data": {
      "text/plain": [
       "array([[-0.37616638+0.j        , -0.38574817-0.34996264j,\n",
       "        -0.38574817+0.34996264j, -0.39647086-0.49159608j,\n",
       "        -0.39647086+0.49159608j],\n",
       "       [-0.57716802+0.j        ,  0.02242774+0.32418867j,\n",
       "         0.02242774-0.32418867j, -0.13513996+0.0109655j ,\n",
       "        -0.13513996-0.0109655j ],\n",
       "       [-0.39437011+0.j        , -0.36754467+0.00103533j,\n",
       "        -0.36754467-0.00103533j, -0.01245754+0.11616418j,\n",
       "        -0.01245754-0.11616418j],\n",
       "       [-0.4375465 +0.j        ,  0.68757867+0.j        ,\n",
       "         0.68757867-0.j        ,  0.66007498+0.j        ,\n",
       "         0.66007498-0.j        ],\n",
       "       [-0.42237568+0.j        ,  0.09148002+0.08306642j,\n",
       "         0.09148002-0.08306642j, -0.02360343+0.36449375j,\n",
       "        -0.02360343-0.36449375j]])"
      ]
     },
     "execution_count": 93,
     "metadata": {},
     "output_type": "execute_result"
    }
   ],
   "source": [
    "print(\"Eigenvectors of the matrix:\")\n",
    "_, eigenvectors_of_random_matrix_problem_6 = np.linalg.eig(random_matrix_problem_6)\n",
    "eigenvectors_of_random_matrix_problem_6"
   ]
  },
  {
   "cell_type": "markdown",
   "metadata": {},
   "source": [
    "Задания 7-10 необходимо сдать в [Яндекс.контест](https://contest.yandex.ru/contest/16930/problems/) и прикрепить ссылку на решение в формате `https://contest.yandex.ru/contest/xxxxx/run-report/xxxxx/`. Сдавайте задания строго в соответствии с написанной сигнатурой и возвращаемыми типами. Для сдачи необходимо отправить в соответствующую задачу файл, содержащий функции и необходимые импорты. Обратите внимание, что вам доступен только `numpy`. __При отсутствии ссылки на решение задание засчитано не будет!__"
   ]
  },
  {
   "cell_type": "markdown",
   "metadata": {},
   "source": [
    "__Задание 7__. Напишите функцию, которая находит сумму квадратов положительных элементов одномерного массива.\n",
    "\n",
    "__Ссылка на посылку в контесте__:"
   ]
  },
  {
   "cell_type": "code",
   "execution_count": 96,
   "metadata": {},
   "outputs": [],
   "source": [
    "def get_squares(a: np.ndarray) -> float:\n",
    "    a_without_negatives = np.where(a > 0, a, np.zeros(a.shape))\n",
    "    a_squares = a_without_negatives * a_without_negatives\n",
    "    return a_squares.sum()\n",
    "\n",
    "assert get_squares(np.array([1,-2,3])) == 10"
   ]
  },
  {
   "cell_type": "markdown",
   "metadata": {},
   "source": [
    "***Контест-ссылка:*** [https://contest.yandex.ru/contest/16930/run-report/30592708/](https://contest.yandex.ru/contest/16930/run-report/30592708/)"
   ]
  },
  {
   "cell_type": "markdown",
   "metadata": {},
   "source": [
    "__Задание 8__. Коля -- мастер покера и умеет выигрывать только целые суммы денег от 0 до n - 1. Коля решил сыграть на турнире. На вход подаётся массив `p` размера $n$, где `p[i]` -- вероятность, что Коля выиграет на турнире $i$ рублей ($\\sum_{i=1}^{n}p_i =1$, $p_i \\geqslant 0, \\forall i$). Посчитайте математическое ожидание выигрыша Коли на турнире.\n",
    "\n",
    "\n",
    "__Ссылка на посылку в контесте__:"
   ]
  },
  {
   "cell_type": "code",
   "execution_count": null,
   "metadata": {},
   "outputs": [],
   "source": [
    "def expected_reward(p: np.ndarray) -> float:\n",
    "    ### YOUR CODE\n",
    "    pass\n",
    "\n",
    "assert expected_reward(np.array([0.4, 0.5, 0.1])) == 0.7"
   ]
  },
  {
   "cell_type": "markdown",
   "metadata": {},
   "source": [
    "__Задание 9__. Дана квадратная матрица `A`. Посчитайте произведение диагональных элементов матрицы, __строго__ превосходящих среднее значение элементов всей матрицы.\n",
    "\n",
    "__Хинт__: взять диагональ матрицы -- np.diag(), произведение элементов массива -- np.prod(), среднее значение в массиве -- np.mean().\n",
    "\n",
    "__Ссылка на посылку в контесте__:"
   ]
  },
  {
   "cell_type": "code",
   "execution_count": null,
   "metadata": {},
   "outputs": [],
   "source": [
    "def prod_upper_avg_diagonal(a: np.ndarray) -> float:\n",
    "    # YOUR CODE\n",
    "\n",
    "assert prod_upper_avg_diagonal(np.array([[ 0,  1,  2,  3],\n",
    "                                         [ 4,  5,  6,  7],\n",
    "                                         [ 8,  9, 10, 11],\n",
    "                                         [12, 13, 14, 15]])) == 150"
   ]
  },
  {
   "cell_type": "markdown",
   "metadata": {},
   "source": [
    "__Задание 10__. Дано число $n$. Создайте матрицу $A$ размера $n \\times n$ такую, что $A[i][j] = i \\cdot j$. Нумерация строк и столбцов начинается с нуля.\n",
    "\n",
    "__Ссылка на посылку в контесте:__"
   ]
  },
  {
   "cell_type": "code",
   "execution_count": null,
   "metadata": {},
   "outputs": [],
   "source": [
    "def create_ij(n: int) -> np.ndarray:\n",
    "    ### YOUR CODE\n",
    "\n",
    "assert np.all(create_ij(5) == np.array([[ 0,  0,  0,  0,  0],\n",
    "                                        [ 0,  1,  2,  3,  4],\n",
    "                                        [ 0,  2,  4,  6,  8],\n",
    "                                        [ 0,  3,  6,  9, 12],\n",
    "                                        [ 0,  4,  8, 12, 16]]))"
   ]
  },
  {
   "cell_type": "markdown",
   "metadata": {},
   "source": [
    "### Part 2. Numpy vs pure python\n",
    "\n",
    "\n",
    "__Задание 11__. (1 балл) Выберите любые 5 функций из заданий 2-10 и имплементируйте их, но без использования сторонних библиотек (считайте, что вам доступны только стандартные библиотеки языка Питон и на вход вместо массивов подаются питоновские списки)."
   ]
  },
  {
   "cell_type": "code",
   "execution_count": null,
   "metadata": {},
   "outputs": [],
   "source": [
    "### YOUR CODE"
   ]
  },
  {
   "cell_type": "markdown",
   "metadata": {},
   "source": [
    "__Задание 12__. (3 балла) Сравните время работы векторизованных функций с обычными. Для этого постройте графики зависимости времени исполнения функции от размера входного массива. Перебирайте значения от 1 до $10^6$ по логарифмической шкале. Сделайте выводы.\n",
    "\n",
    "__Графики должны быть опрятными!__. Подписывайте оси, и единицы измерения, указывайте легенду и название графика. Оценка за задание с неопрятными графиками может быть снижена! Сравнение плохого и хорошего графиков:"
   ]
  },
  {
   "cell_type": "code",
   "execution_count": 130,
   "metadata": {},
   "outputs": [
    {
     "data": {
      "image/png": "[encoded data removed]",
      "text/plain": [
       "<Figure size 432x288 with 1 Axes>"
      ]
     },
     "metadata": {
      "needs_background": "light"
     },
     "output_type": "display_data"
    },
    {
     "data": {
      "image/png": "[encoded data removed]",
      "text/plain": [
       "<Figure size 864x720 with 1 Axes>"
      ]
     },
     "metadata": {
      "needs_background": "light"
     },
     "output_type": "display_data"
    }
   ],
   "source": []
  },
  {
   "cell_type": "markdown",
   "metadata": {},
   "source": [
    "__Хинт__: воспользуйтесь библиотекой `time` или мэджиком `%timeit`."
   ]
  },
  {
   "cell_type": "code",
   "execution_count": null,
   "metadata": {},
   "outputs": [],
   "source": [
    "# YOUR CODE"
   ]
  },
  {
   "cell_type": "markdown",
   "metadata": {},
   "source": [
    "__Вывод__:"
   ]
  },
  {
   "cell_type": "markdown",
   "metadata": {},
   "source": [
    "### Part 3. Pandas.\n",
    "\n",
    "Задания 13-22 оцениваются в 0.4 баллов.  В заданиях 13-22 запрещается пользоваться циклами `for` и `while` в сдаваемом вами коде. Задания 13-15 также сдаются в контест."
   ]
  },
  {
   "cell_type": "code",
   "execution_count": null,
   "metadata": {},
   "outputs": [],
   "source": [
    "import pandas as pd"
   ]
  },
  {
   "cell_type": "markdown",
   "metadata": {},
   "source": [
    "__Задание 13__, Дан датафрейм, в котором существует колонка 'email' (строка, длиной не более 255). Напишите функцию, которая в заданном датафрейме заменяет все невалидные email'ы на \"unknown@unknown.com\". Валидным сичтается емэйл, выглядящий как `[name]@[subdomain].[domain]`, где `[name]` -- строка, содержащая латинский буквы, точки и знаки `-` и `_`, `[subdomain]` и `[domain]` -- строки, содержащие только латинские буквы и цифры. Длина строки `[domain]` -- не больше 8 символов.\n",
    "\n",
    "__Хинт__. Вопспользуйтесь методом .apply(), в который передайте функцию для обрабоки одного email'a.\n",
    "\n",
    "\n",
    "__Ссылка на посылку в контесте:__"
   ]
  },
  {
   "cell_type": "code",
   "execution_count": null,
   "metadata": {},
   "outputs": [],
   "source": [
    "def reset_emails(df: pd.DataFrame) -> pd.DataFrame:\n",
    "    ### YOUR CODE\n",
    "    pass"
   ]
  },
  {
   "cell_type": "markdown",
   "metadata": {},
   "source": [
    "__Задание 14__. Дан датафрейм, в котором существуют колонки 'age' (возраст в годах, целое число) и 'income' (дробное число). Напишите функцию, которая вернёт средний заработок людей младше 18 лет.\n",
    "\n",
    "__Ссылка на посылку в контесте:__"
   ]
  },
  {
   "cell_type": "code",
   "execution_count": null,
   "metadata": {},
   "outputs": [],
   "source": [
    "def get_mean_income(df: pd.DataFrame) -> float:\n",
    "    ### YOUR CODE\n",
    "    pass"
   ]
  },
  {
   "cell_type": "markdown",
   "metadata": {},
   "source": [
    "__Задание 15__. Дан датафрейм, в котором существуют колонки 'id' (идентификатор пользователя, целое положительное число), 'age' (возвраст в годах, целое число), 'sex' (пол пользователя, строка, равная либо \"Male\", либо \"Female\", либо \"Other\"), \"favorite_color\" (любимый цвет пользователя, строка длиной не более 255). Найдите число различных любимых цветов у женщин младше 18 лет.\n",
    "\n",
    "__Ссылка на посылку в контесте__:"
   ]
  },
  {
   "cell_type": "code",
   "execution_count": null,
   "metadata": {},
   "outputs": [],
   "source": [
    "def get_fav_colosr(df: pd.DataFrame) -> int:\n",
    "    ### YOUR CODE\n",
    "    pass"
   ]
  },
  {
   "cell_type": "code",
   "execution_count": null,
   "metadata": {},
   "outputs": [],
   "source": []
  },
  {
   "cell_type": "markdown",
   "metadata": {},
   "source": [
    "### Part 4. EDA with pandas.\n",
    "\n",
    "В этом задании предлагается сделать разведочный анализ данных в датафрейме. \n",
    "\n",
    "Мы будем работать с датасетом русскоязычных твитов. Скачайте данные по ссылке: https://www.dropbox.com/s/ou55qwyhbj1pdav/tweets.csv?dl=1\n",
    "\n",
    "Корпус состоит из 12 столбцов:\n",
    "\n",
    "    – id: уникальный номер сообщения в системе twitter;\n",
    "    – tdate: дата публикации сообщения (твита);\n",
    "    – tmane: имя пользователя, опубликовавшего сообщение;\n",
    "    – ttext:  текст сообщения (твита);\n",
    "    – ttype: поле в котором в дальнейшем будет указано к кому классу относится твит (положительный, отрицательный, нейтральный);\n",
    "    – trep: количество реплаев к данному сообщению. В настоящий момент API твиттера не отдает эту информацию;\n",
    "    – tfav: число сколько раз данное сообщение было добавлено в избранное другими пользователями;\n",
    "    – tstcount: число всех сообщений пользователя в сети twitter;\n",
    "    – tfol: количество фолловеров пользователя (тех людей, которые читают пользователя);\n",
    "    – tfrien: количество друзей пользователя (те люди, которых читает пользователь);\n",
    "    – listcount: количество листов-подписок в которые добавлен твиттер-пользователь.\n"
   ]
  },
  {
   "cell_type": "code",
   "execution_count": null,
   "metadata": {},
   "outputs": [],
   "source": [
    "# For linux/google colab users -- download directly from the notebook\n",
    "! wget -O tweets.csv https://www.dropbox.com/s/ou55qwyhbj1pdav/tweets.csv?dl=1 "
   ]
  },
  {
   "cell_type": "code",
   "execution_count": null,
   "metadata": {},
   "outputs": [],
   "source": [
    "df = pd.read_csv(\"./tweets.csv\")"
   ]
  },
  {
   "cell_type": "code",
   "execution_count": null,
   "metadata": {},
   "outputs": [],
   "source": [
    "df.head()"
   ]
  },
  {
   "cell_type": "markdown",
   "metadata": {},
   "source": [
    "__Задание 16__. Создайте колонку 'tdif', равную разнице числа друзей и числа фолловеров у пользователя."
   ]
  },
  {
   "cell_type": "code",
   "execution_count": null,
   "metadata": {},
   "outputs": [],
   "source": [
    "### YOUR CODE"
   ]
  },
  {
   "cell_type": "markdown",
   "metadata": {},
   "source": [
    "__Задание 16__. Создайте датафрейм, в котором остались только строки с чётными номерами, и пронумеруйте их начиная с 0."
   ]
  },
  {
   "cell_type": "code",
   "execution_count": null,
   "metadata": {},
   "outputs": [],
   "source": [
    "### YOUR CODE"
   ]
  },
  {
   "cell_type": "markdown",
   "metadata": {},
   "source": [
    "__Задание 17__. Создайте датафрейм, в котором остались лишь твиты положительной тональности."
   ]
  },
  {
   "cell_type": "code",
   "execution_count": null,
   "metadata": {},
   "outputs": [],
   "source": [
    "### YOUR CODE"
   ]
  },
  {
   "cell_type": "markdown",
   "metadata": {},
   "source": [
    "__Задание 18__. Посчитайте число уникальных пользователей (пользователей с различными tmane).\n",
    "\n",
    "__Хинт__: воспользуйтесь np.unique."
   ]
  },
  {
   "cell_type": "code",
   "execution_count": null,
   "metadata": {},
   "outputs": [],
   "source": [
    "### YOUR CODE"
   ]
  },
  {
   "cell_type": "markdown",
   "metadata": {},
   "source": [
    "__Задание 19__. Посчитайте основные статистики по числу подписчиков при помощи метода .describe(). Постройте гистограмму значений признака."
   ]
  },
  {
   "cell_type": "code",
   "execution_count": null,
   "metadata": {},
   "outputs": [],
   "source": [
    "### YOUR CODE"
   ]
  },
  {
   "cell_type": "markdown",
   "metadata": {},
   "source": [
    "__Задание 20__. Посчитайте число ретвитов в датасете (твитов, начинающихся с \"RT @\")."
   ]
  },
  {
   "cell_type": "code",
   "execution_count": null,
   "metadata": {},
   "outputs": [],
   "source": [
    "### YOUR CODE"
   ]
  },
  {
   "cell_type": "markdown",
   "metadata": {},
   "source": [
    "__Задание 21__. Назовём длинным такой твит, что его длина больше, чем не менее 80% всех твитов. Найдите число длинных твитов."
   ]
  },
  {
   "cell_type": "code",
   "execution_count": null,
   "metadata": {},
   "outputs": [],
   "source": [
    "### YOUR CODE"
   ]
  },
  {
   "cell_type": "markdown",
   "metadata": {},
   "source": [
    "__Задание 22__. Постройте гистограмму распределения числа твитов по месяцам. В какой месяц какого года было опубликовано больше всего твитов?\n",
    "\n",
    "__Хинт__: Время в колонке tdate -- это Unix time, и оно отображает то, сколько секунд прошло с 00:00:00 1 января 1970 года. Для конвертации этого времени в удобный формат воспользуйтесь библиотекой `datetime`."
   ]
  },
  {
   "cell_type": "code",
   "execution_count": null,
   "metadata": {},
   "outputs": [],
   "source": [
    "### YOUR CODE"
   ]
  },
  {
   "cell_type": "markdown",
   "metadata": {},
   "source": [
    "__Задание 23__. Вставьте ниже смешную картинку, желательно про машинное обучение. Лучшие картинки мы наградим бонусными баллами (но это не точно)."
   ]
  },
  {
   "cell_type": "markdown",
   "metadata": {},
   "source": [
    "__Задание 999__. Напишите ниже, чего вы ждёте от курса, какой формат лекций и семинаров вам более интересен, в какие дни хотели бы поставить семинары, темы, которые хотели бы изучить, промежуточный фидбек (при наличии), а также произвольные пожелания и предложения. Мы постараемся всё это учесть."
   ]
  }
 ],
 "metadata": {
  "kernelspec": {
   "display_name": "Python 3",
   "language": "python",
   "name": "python3"
  },
  "language_info": {
   "codemirror_mode": {
    "name": "ipython",
    "version": 3
   },
   "file_extension": ".py",
   "mimetype": "text/x-python",
   "name": "python",
   "nbconvert_exporter": "python",
   "pygments_lexer": "ipython3",
   "version": "3.8.1"
  }
 },
 "nbformat": 4,
 "nbformat_minor": 4
}
