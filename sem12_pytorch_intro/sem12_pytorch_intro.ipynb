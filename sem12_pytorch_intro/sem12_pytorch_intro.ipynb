{
 "cells": [
  {
   "cell_type": "markdown",
   "metadata": {},
   "source": [
    "# Машинное обучение\n",
    "\n",
    "## Факультет математики НИУ ВШЭ\n",
    "\n",
    "### 2019-2020 учебный год\n",
    "\n",
    "Илья Щуров, Соня Дымченко, Руслан Хайдуров, Александр Каган, Павел Балтабаев"
   ]
  },
  {
   "cell_type": "markdown",
   "metadata": {},
   "source": [
    "# Семинар 12\n",
    "\n",
    "На этом семинаре мы:\n",
    "\n",
    "* Познакомимся с PyTorch\n",
    "* Вспомним про алгоритм обратного распространения ошибки\n",
    "* Узнаем о пайплайне разработки нейросетевых моделей на пайторч\n",
    "* Напишем нашу первую модель"
   ]
  },
  {
   "cell_type": "code",
   "execution_count": 1,
   "metadata": {},
   "outputs": [],
   "source": [
    "%matplotlib inline"
   ]
  },
  {
   "cell_type": "markdown",
   "metadata": {},
   "source": [
    "<img src=\"https://upload.wikimedia.org/wikipedia/commons/9/96/Pytorch_logo.png\" width=600>\n",
    "<center>(лого здесь, ибо вы должны знать своих героев в лицо)</center>\n",
    "\n",
    "Существует множество фреймворков для глубокого обучения, но мы рассмотрим фреймворк, который стремительно набирает популярность как среди исследователей в области глубокого обучения, так и среди простых ребят. \n",
    "\n",
    "Существует мнение, что регулярное использование PyTorch положительно влияет на здоровье и самочувствие."
   ]
  },
  {
   "cell_type": "code",
   "execution_count": 28,
   "metadata": {},
   "outputs": [
    {
     "data": {
      "text/html": [
       "<blockquote class=\"twitter-tweet\" data-lang=\"en-gb\"><p lang=\"en\" dir=\"ltr\">I&#39;ve been using PyTorch a few months now and I&#39;ve never felt better. I have more energy. My skin is clearer. My eye sight has improved.</p>&mdash; Andrej Karpathy (@karpathy) <a href=\"https://twitter.com/karpathy/status/868178954032513024?ref_src=twsrc%5Etfw\">26 May 2017</a></blockquote>\n",
       "<script async src=\"https://platform.twitter.com/widgets.js\" charset=\"utf-8\"></script>\n"
      ],
      "text/plain": [
       "<IPython.core.display.HTML object>"
      ]
     },
     "metadata": {},
     "output_type": "display_data"
    }
   ],
   "source": [
    "%%html\n",
    "<blockquote class=\"twitter-tweet\" data-lang=\"en-gb\"><p lang=\"en\" dir=\"ltr\">I&#39;ve been using PyTorch a few months now and I&#39;ve never felt better. I have more energy. My skin is clearer. My eye sight has improved.</p>&mdash; Andrej Karpathy (@karpathy) <a href=\"https://twitter.com/karpathy/status/868178954032513024?ref_src=twsrc%5Etfw\">26 May 2017</a></blockquote>\n",
    "<script async src=\"https://platform.twitter.com/widgets.js\" charset=\"utf-8\"></script>"
   ]
  },
  {
   "cell_type": "code",
   "execution_count": 1,
   "metadata": {},
   "outputs": [
    {
     "name": "stdout",
     "output_type": "stream",
     "text": [
      "Collecting torch\n",
      "\u001b[33m  Cache entry deserialization failed, entry ignored\u001b[0m\n",
      "  Downloading https://files.pythonhosted.org/packages/24/19/4804aea17cd136f1705a5e98a00618cb8f6ccc375ad8bfa437408e09d058/torch-1.4.0-cp36-cp36m-manylinux1_x86_64.whl (753.4MB)\n",
      "\u001b[K    100% |████████████████████████████████| 753.4MB 2.0kB/s eta 0:00:01    20% |██████▊                         | 157.9MB 45.6MB/s eta 0:00:14\n",
      "\u001b[?25hCollecting torchvision\n",
      "\u001b[33m  Cache entry deserialization failed, entry ignored\u001b[0m\n",
      "  Downloading https://files.pythonhosted.org/packages/7e/90/6141bf41f5655c78e24f40f710fdd4f8a8aff6c8b7c6f0328240f649bdbe/torchvision-0.5.0-cp36-cp36m-manylinux1_x86_64.whl (4.0MB)\n",
      "\u001b[K    100% |████████████████████████████████| 4.0MB 304kB/s eta 0:00:01\n",
      "\u001b[?25hCollecting six (from torchvision)\n",
      "  Downloading https://files.pythonhosted.org/packages/65/eb/1f97cb97bfc2390a276969c6fae16075da282f5058082d4cb10c6c5c1dba/six-1.14.0-py2.py3-none-any.whl\n",
      "Collecting pillow>=4.1.1 (from torchvision)\n",
      "  Downloading https://files.pythonhosted.org/packages/ba/90/8a24e6220cfcf6a3a0162535d5b926e774117e384ff921908e07e4c92bda/Pillow-7.1.1-cp36-cp36m-manylinux1_x86_64.whl (2.1MB)\n",
      "\u001b[K    100% |████████████████████████████████| 2.1MB 772kB/s eta 0:00:01\n",
      "\u001b[?25hCollecting numpy (from torchvision)\n",
      "\u001b[33m  Cache entry deserialization failed, entry ignored\u001b[0m\n",
      "  Downloading https://files.pythonhosted.org/packages/07/08/a549ba8b061005bb629b76adc000f3caaaf881028b963c2e18f811c6edc1/numpy-1.18.2-cp36-cp36m-manylinux1_x86_64.whl (20.2MB)\n",
      "\u001b[K    100% |████████████████████████████████| 20.2MB 73kB/s  eta 0:00:01                           | 286kB 32.5MB/s eta 0:00:01\n",
      "\u001b[?25hInstalling collected packages: torch, six, pillow, numpy, torchvision\n",
      "Successfully installed numpy-1.18.2 pillow-7.1.1 six-1.14.0 torch-1.4.0 torchvision-0.5.0\n"
     ]
    }
   ],
   "source": [
    "# install torch if you use linux and pip like this (the same in google colab)\n",
    "# otherwise see: https://pytorch.org/get-started/locally/\n",
    "! pip3 install torch torchvision"
   ]
  },
  {
   "cell_type": "markdown",
   "metadata": {},
   "source": [
    "\n",
    "What is PyTorch?\n",
    "================\n",
    "\n",
    "<img src >\n",
    "\n",
    "Это python-based фреймворк, преследующий 2 цели:\n",
    "\n",
    "- Стать заменой NumPy с возможностью использования мощностей GPU\n",
    "- Платформа для исследований в области глубокого обучения\n",
    "\n",
    "\n",
    "Ключевые понятия\n",
    "---------------\n",
    "\n",
    "### Тензоры\n",
    "\n",
    "Тензоры очень похожи на ndarrays в NumPy, но они могут быть загружены в память GPU и все расчеты с ними могут быть произведены на GPU\n",
    "\n"
   ]
  },
  {
   "cell_type": "code",
   "execution_count": 3,
   "metadata": {},
   "outputs": [],
   "source": [
    "from __future__ import print_function\n",
    "import torch"
   ]
  },
  {
   "cell_type": "markdown",
   "metadata": {},
   "source": [
    "Construct a 5x3 matrix, uninitialized:"
   ]
  },
  {
   "cell_type": "code",
   "execution_count": 4,
   "metadata": {},
   "outputs": [
    {
     "name": "stdout",
     "output_type": "stream",
     "text": [
      "tensor([[1.3563e-19, 1.8888e+31, 8.9066e-15],\n",
      "        [1.8888e+31, 6.4639e-04, 6.8608e+22],\n",
      "        [1.7753e+28, 2.0535e-19, 7.5563e+31],\n",
      "        [1.8014e+25, 8.1335e+32, 7.2436e+22],\n",
      "        [7.5554e+28, 2.9635e+29, 2.2087e+03]])\n"
     ]
    }
   ],
   "source": [
    "x = torch.empty(5, 3)\n",
    "print(x)"
   ]
  },
  {
   "cell_type": "code",
   "execution_count": 6,
   "metadata": {},
   "outputs": [
    {
     "data": {
      "text/plain": [
       "tensor([[0., 0., 0.],\n",
       "        [0., 0., 0.],\n",
       "        [0., 0., 0.],\n",
       "        [0., 0., 0.],\n",
       "        [0., 0., 0.]])"
      ]
     },
     "execution_count": 6,
     "metadata": {},
     "output_type": "execute_result"
    }
   ],
   "source": [
    "x = torch.zeros(5, 3)\n",
    "x"
   ]
  },
  {
   "cell_type": "markdown",
   "metadata": {},
   "source": [
    "Construct a randomly initialized matrix:"
   ]
  },
  {
   "cell_type": "code",
   "execution_count": 7,
   "metadata": {},
   "outputs": [
    {
     "name": "stdout",
     "output_type": "stream",
     "text": [
      "tensor([[0.5666, 0.5827, 0.4954],\n",
      "        [0.5645, 0.9346, 0.2593],\n",
      "        [0.7839, 0.3906, 0.5195],\n",
      "        [0.5401, 0.5331, 0.0784],\n",
      "        [0.3103, 0.6334, 0.9679]])\n"
     ]
    }
   ],
   "source": [
    "x = torch.rand(5, 3)\n",
    "print(x)"
   ]
  },
  {
   "cell_type": "markdown",
   "metadata": {},
   "source": [
    "Construct a matrix filled zeros and of dtype long:\n"
   ]
  },
  {
   "cell_type": "code",
   "execution_count": 8,
   "metadata": {},
   "outputs": [
    {
     "name": "stdout",
     "output_type": "stream",
     "text": [
      "tensor([[0, 0, 0],\n",
      "        [0, 0, 0],\n",
      "        [0, 0, 0],\n",
      "        [0, 0, 0],\n",
      "        [0, 0, 0]])\n"
     ]
    }
   ],
   "source": [
    "x = torch.zeros(5, 3, dtype=torch.long)\n",
    "print(x)"
   ]
  },
  {
   "cell_type": "markdown",
   "metadata": {},
   "source": [
    "Construct a tensor directly from data:"
   ]
  },
  {
   "cell_type": "code",
   "execution_count": 14,
   "metadata": {},
   "outputs": [
    {
     "data": {
      "text/plain": [
       "array([5.5, 3. ], dtype=float32)"
      ]
     },
     "execution_count": 14,
     "metadata": {},
     "output_type": "execute_result"
    }
   ],
   "source": [
    "import numpy as np\n",
    "x = torch.tensor([5.5, 3])\n",
    "\n",
    "np.array([1,2,3]), torch.tensor([1,2,3])\n",
    "\n",
    "x_numpy = torch.from_numpy(np.array([1,2,3]))\n",
    "x.numpy()"
   ]
  },
  {
   "cell_type": "markdown",
   "metadata": {},
   "source": [
    "or create a tensor based on an existing tensor. These methods\n",
    "will reuse properties of the input tensor, e.g. dtype, unless\n",
    "new values are provided by user"
   ]
  },
  {
   "cell_type": "code",
   "execution_count": 20,
   "metadata": {},
   "outputs": [
    {
     "data": {
      "text/plain": [
       "tensor([1.6139], dtype=torch.float64)"
      ]
     },
     "execution_count": 20,
     "metadata": {},
     "output_type": "execute_result"
    }
   ],
   "source": [
    "x = torch.rand(1)\n",
    "y = np.array([1.])\n",
    "\n",
    "x.double() + torch.from_numpy(y)"
   ]
  },
  {
   "cell_type": "code",
   "execution_count": 21,
   "metadata": {},
   "outputs": [
    {
     "name": "stdout",
     "output_type": "stream",
     "text": [
      "tensor([[1., 1., 1.],\n",
      "        [1., 1., 1.],\n",
      "        [1., 1., 1.],\n",
      "        [1., 1., 1.],\n",
      "        [1., 1., 1.]], dtype=torch.float64)\n",
      "tensor([[ 0.5735,  0.7419, -0.0877],\n",
      "        [ 0.8131, -1.0892,  0.0452],\n",
      "        [ 0.8431,  1.0323, -0.7952],\n",
      "        [-0.4648,  0.7489, -1.3951],\n",
      "        [ 1.2960, -0.3276,  0.3877]], dtype=torch.float64)\n"
     ]
    }
   ],
   "source": [
    "x = x.new_ones(5, 3, dtype=torch.double)      # new_* methods take in sizes\n",
    "print(x)\n",
    "\n",
    "x = torch.randn_like(x, dtype=torch.float64)    # override dtype!\n",
    "print(x)                                      # result has the same size"
   ]
  },
  {
   "cell_type": "markdown",
   "metadata": {},
   "source": [
    "Get its size:"
   ]
  },
  {
   "cell_type": "code",
   "execution_count": 24,
   "metadata": {},
   "outputs": [
    {
     "name": "stdout",
     "output_type": "stream",
     "text": [
      "torch.Size([5, 3])\n",
      "torch.Size([5, 3])\n"
     ]
    }
   ],
   "source": [
    "# They are equivalent\n",
    "print(x.shape)\n",
    "print(x.size())"
   ]
  },
  {
   "cell_type": "code",
   "execution_count": 26,
   "metadata": {},
   "outputs": [
    {
     "data": {
      "text/plain": [
       "tensor([[0.6499, 0.6911, 0.4715],\n",
       "        [0.4188, 0.5557, 0.5350],\n",
       "        [0.7295, 0.4736, 0.9507],\n",
       "        [0.7978, 0.0455, 0.9667],\n",
       "        [0.2346, 0.6815, 0.9509]])"
      ]
     },
     "execution_count": 26,
     "metadata": {},
     "output_type": "execute_result"
    }
   ],
   "source": [
    "torch.rand(*x.shape) # Equavent to torch.rand_like"
   ]
  },
  {
   "cell_type": "markdown",
   "metadata": {},
   "source": [
    "<div class=\"alert alert-info\"><h4>Note</h4><p>``torch.Size`` на самом деле это tuple, так что он поддерживает все операции, характерные для tuple</p></div>"
   ]
  },
  {
   "cell_type": "code",
   "execution_count": 27,
   "metadata": {},
   "outputs": [
    {
     "data": {
      "text/plain": [
       "2"
      ]
     },
     "execution_count": 27,
     "metadata": {},
     "output_type": "execute_result"
    }
   ],
   "source": [
    "# пример такой операции\n",
    "len(x.size())"
   ]
  },
  {
   "cell_type": "code",
   "execution_count": 30,
   "metadata": {},
   "outputs": [
    {
     "data": {
      "text/plain": [
       "tensor([0.7419, 0.8131, 1.0323, 0.7489, 1.2960], dtype=torch.float64)"
      ]
     },
     "execution_count": 30,
     "metadata": {},
     "output_type": "execute_result"
    }
   ],
   "source": [
    "values, _ = torch.max(x, axis=1)\n",
    "values"
   ]
  },
  {
   "cell_type": "markdown",
   "metadata": {},
   "source": [
    "### Операции над тензорами\n",
    "\n",
    "####  Сложение"
   ]
  },
  {
   "cell_type": "code",
   "execution_count": 34,
   "metadata": {},
   "outputs": [
    {
     "name": "stdout",
     "output_type": "stream",
     "text": [
      "tensor([[ 0.7906,  1.4484, -0.0514],\n",
      "        [ 1.1116, -0.4729,  0.6945],\n",
      "        [ 1.4963,  1.7338,  0.0527],\n",
      "        [-0.0806,  1.5334, -0.7849],\n",
      "        [ 1.7514,  0.2266,  0.5902]], dtype=torch.float64)\n",
      "tensor([[ 0.3564,  0.0354, -0.1240],\n",
      "        [ 0.5146, -1.7056, -0.6042],\n",
      "        [ 0.1900,  0.3307, -1.6432],\n",
      "        [-0.8490, -0.0356, -2.0053],\n",
      "        [ 0.8406, -0.8818,  0.1851]], dtype=torch.float64)\n",
      "tensor([[ 0.1245,  0.5241, -0.0032],\n",
      "        [ 0.2427, -0.6714,  0.0293],\n",
      "        [ 0.5507,  0.7242, -0.6743],\n",
      "        [-0.1786,  0.5875, -0.8513],\n",
      "        [ 0.5902, -0.1815,  0.0785]], dtype=torch.float64)\n",
      "tensor([[ 0.6454,  0.5715,  0.8206,  0.7488,  0.6546],\n",
      "        [-0.5914, -0.3993, -0.1948, -0.5146, -0.2242],\n",
      "        [ 0.8835,  0.3716,  0.6006,  0.6485,  0.7950],\n",
      "        [ 0.3776, -0.5830, -0.9612, -0.4423, -0.0792],\n",
      "        [ 0.0640,  0.4367,  0.9454,  0.4775,  0.4872]], dtype=torch.float64)\n"
     ]
    },
    {
     "data": {
      "text/plain": [
       "(None, None, None, None, tensor([[1.7744, 2.0999, 0.9160],\n",
       "         [2.2549, 0.3365, 1.0462],\n",
       "         [2.3236, 2.8075, 0.4515],\n",
       "         [0.6283, 2.1146, 0.2478],\n",
       "         [3.6546, 0.7207, 1.4736]], dtype=torch.float64))"
      ]
     },
     "execution_count": 34,
     "metadata": {},
     "output_type": "execute_result"
    }
   ],
   "source": [
    "y = torch.rand(5, 3, dtype=torch.float64)\n",
    "print(x + y),print(x - y), print(x * y), print(x @ y.T), torch.exp(x)"
   ]
  },
  {
   "cell_type": "code",
   "execution_count": 35,
   "metadata": {},
   "outputs": [
    {
     "name": "stdout",
     "output_type": "stream",
     "text": [
      "tensor([[ 0.7906,  1.4484, -0.0514],\n",
      "        [ 1.1116, -0.4729,  0.6945],\n",
      "        [ 1.4963,  1.7338,  0.0527],\n",
      "        [-0.0806,  1.5334, -0.7849],\n",
      "        [ 1.7514,  0.2266,  0.5902]], dtype=torch.float64)\n"
     ]
    }
   ],
   "source": [
    "# альтернативный синтаксис\n",
    "print(torch.add(x, y))"
   ]
  },
  {
   "cell_type": "markdown",
   "metadata": {},
   "source": [
    "providing an output tensor as argument"
   ]
  },
  {
   "cell_type": "code",
   "execution_count": 17,
   "metadata": {},
   "outputs": [
    {
     "name": "stdout",
     "output_type": "stream",
     "text": [
      "tensor([[ 1.4462,  1.2460,  1.5569],\n",
      "        [ 0.5812, -0.5787,  0.5305],\n",
      "        [-0.7480, -0.5233, -0.9610],\n",
      "        [ 2.4034, -0.2944,  0.3349],\n",
      "        [ 1.0604, -0.0738,  1.4064]])\n"
     ]
    }
   ],
   "source": [
    "result = torch.empty(5, 3)\n",
    "torch.add(x, y, out=result)\n",
    "print(result)"
   ]
  },
  {
   "cell_type": "code",
   "execution_count": 18,
   "metadata": {},
   "outputs": [
    {
     "name": "stdout",
     "output_type": "stream",
     "text": [
      "tensor([[ 1.4462,  1.2460,  1.5569],\n",
      "        [ 0.5812, -0.5787,  0.5305],\n",
      "        [-0.7480, -0.5233, -0.9610],\n",
      "        [ 2.4034, -0.2944,  0.3349],\n",
      "        [ 1.0604, -0.0738,  1.4064]])\n"
     ]
    }
   ],
   "source": [
    "# adds x to y inplace\n",
    "y.add_(x)\n",
    "print(y)"
   ]
  },
  {
   "cell_type": "markdown",
   "metadata": {},
   "source": [
    "<div class=\"alert alert-info\"><h4>Note</h4><p>Любая операция, изменяющая тензор in-place имеет в конце нижнее подчеркивание ``_``.\n",
    "    \n",
    "Примеры: ``x.copy_(y)``, ``x.t_()``, изменяют ``x``.</p></div>\n"
   ]
  },
  {
   "cell_type": "markdown",
   "metadata": {},
   "source": [
    "#### Индексирование, слайсинг\n",
    "\n",
    "Такое же как в NumPy"
   ]
  },
  {
   "cell_type": "code",
   "execution_count": 19,
   "metadata": {},
   "outputs": [
    {
     "name": "stdout",
     "output_type": "stream",
     "text": [
      "tensor([ 1.0376, -1.2842, -0.6051, -0.8336, -0.3319])\n"
     ]
    }
   ],
   "source": [
    "print(x[:, 1])"
   ]
  },
  {
   "cell_type": "markdown",
   "metadata": {},
   "source": [
    "#### Resizing"
   ]
  },
  {
   "cell_type": "code",
   "execution_count": 38,
   "metadata": {},
   "outputs": [
    {
     "data": {
      "text/plain": [
       "array([[0.6297502 , 0.79707384, 0.34579952, 0.23545527, 0.93154713,\n",
       "        0.05350138, 0.62183578, 0.7246699 ],\n",
       "       [0.38136154, 0.09958253, 0.85673216, 0.71031411, 0.02656393,\n",
       "        0.58726684, 0.73518946, 0.20314482]])"
      ]
     },
     "execution_count": 38,
     "metadata": {},
     "output_type": "execute_result"
    }
   ],
   "source": [
    "z = np.random.rand(4, 4)\n",
    "z.reshape((-1, 8))"
   ]
  },
  {
   "cell_type": "code",
   "execution_count": 39,
   "metadata": {},
   "outputs": [
    {
     "name": "stdout",
     "output_type": "stream",
     "text": [
      "torch.Size([4, 4]) torch.Size([16]) torch.Size([2, 8])\n"
     ]
    }
   ],
   "source": [
    "x = torch.randn(4, 4)\n",
    "y = x.view(16)\n",
    "z = x.view(-1, 8)  # the size -1 is inferred from other dimensions\n",
    "print(x.size(), y.size(), z.size())"
   ]
  },
  {
   "cell_type": "markdown",
   "metadata": {},
   "source": [
    "If you have a one element tensor, use ``.item()`` to get the value as a\n",
    "Python number"
   ]
  },
  {
   "cell_type": "code",
   "execution_count": null,
   "metadata": {},
   "outputs": [],
   "source": []
  },
  {
   "cell_type": "code",
   "execution_count": 40,
   "metadata": {},
   "outputs": [
    {
     "name": "stdout",
     "output_type": "stream",
     "text": [
      "tensor([[[[[0.1995]]]]])\n",
      "0.19946841895580292\n"
     ]
    }
   ],
   "source": [
    "x = torch.randn(1, 1, 1, 1, 1)\n",
    "print(x)\n",
    "print(x.item())"
   ]
  },
  {
   "cell_type": "code",
   "execution_count": 52,
   "metadata": {},
   "outputs": [],
   "source": [
    "torch.set_default_dtype(torch.float32)"
   ]
  },
  {
   "cell_type": "code",
   "execution_count": 53,
   "metadata": {},
   "outputs": [
    {
     "data": {
      "text/plain": [
       "torch.float32"
      ]
     },
     "execution_count": 53,
     "metadata": {},
     "output_type": "execute_result"
    }
   ],
   "source": [
    "torch.get_default_dtype()"
   ]
  },
  {
   "cell_type": "code",
   "execution_count": 54,
   "metadata": {},
   "outputs": [
    {
     "data": {
      "text/plain": [
       "torch.float32"
      ]
     },
     "execution_count": 54,
     "metadata": {},
     "output_type": "execute_result"
    }
   ],
   "source": [
    "torch.rand(1, 2, 3).dtype"
   ]
  },
  {
   "cell_type": "code",
   "execution_count": 46,
   "metadata": {},
   "outputs": [
    {
     "data": {
      "text/plain": [
       "torch.Tensor"
      ]
     },
     "execution_count": 46,
     "metadata": {},
     "output_type": "execute_result"
    }
   ],
   "source": [
    "type(x[0, 0, 0, 0, 0])"
   ]
  },
  {
   "cell_type": "markdown",
   "metadata": {},
   "source": [
    "Более подробно обо всех операция можно почитать тут: [доки пайторчей](http://pytorch.org/docs/torch)"
   ]
  },
  {
   "cell_type": "markdown",
   "metadata": {},
   "source": [
    "### Связь с NumPy\n",
    "\n",
    "Можно конвертировать тензоры в NumPy array и обратно без особого труда (в Tensorflow для этого нужен \"особый труд\", начиная с версии tensorflow 2.0 это не так). \n",
    "\n",
    "\n",
    "*Note: the Torch Tensor and NumPy array will share their underlying memory\n",
    "locations, and changing one will change the other.*\n"
   ]
  },
  {
   "cell_type": "code",
   "execution_count": 59,
   "metadata": {},
   "outputs": [
    {
     "name": "stdout",
     "output_type": "stream",
     "text": [
      "tensor([1., 1., 1., 1., 1.])\n"
     ]
    }
   ],
   "source": [
    "a = torch.ones(5)\n",
    "print(a)"
   ]
  },
  {
   "cell_type": "code",
   "execution_count": 61,
   "metadata": {},
   "outputs": [
    {
     "data": {
      "text/plain": [
       "array([1., 1., 1., 1., 1.], dtype=float32)"
      ]
     },
     "execution_count": 61,
     "metadata": {},
     "output_type": "execute_result"
    }
   ],
   "source": [
    "b = a.numpy()\n",
    "# print(b)\n",
    "np.array(a)"
   ]
  },
  {
   "cell_type": "markdown",
   "metadata": {},
   "source": [
    "Если поменяем a, то поменяется и b, т.к. объекты делят общую память"
   ]
  },
  {
   "cell_type": "code",
   "execution_count": 24,
   "metadata": {},
   "outputs": [
    {
     "name": "stdout",
     "output_type": "stream",
     "text": [
      "tensor([2., 2., 2., 2., 2.])\n",
      "[2. 2. 2. 2. 2.]\n"
     ]
    }
   ],
   "source": [
    "a.add_(1)\n",
    "print(a)\n",
    "print(b)"
   ]
  },
  {
   "cell_type": "markdown",
   "metadata": {},
   "source": [
    "Создаем тензор из NumPy массива, изменяем объект NumPy массива и видим, что тензор пайторча тоже поменялся.  "
   ]
  },
  {
   "cell_type": "code",
   "execution_count": 25,
   "metadata": {},
   "outputs": [
    {
     "name": "stdout",
     "output_type": "stream",
     "text": [
      "[2. 2. 2. 2. 2.]\n",
      "tensor([2., 2., 2., 2., 2.], dtype=torch.float64)\n"
     ]
    }
   ],
   "source": [
    "import numpy as np\n",
    "a = np.ones(5)\n",
    "b = torch.from_numpy(a)\n",
    "np.add(a, 1, out=a)\n",
    "print(a)\n",
    "print(b)"
   ]
  },
  {
   "cell_type": "markdown",
   "metadata": {},
   "source": [
    "## Небольшая практическая часть\n",
    "\n",
    "Нарисуйте функцию с помощью тензоров из пайторча\n",
    "\n",
    "**Butterfly curve**\n",
    "\n",
    "$$x = \\sin(t) \\left(e^{\\cos(t)} - 2\\cos(4t) - \\sin^5\\left({t \\over 12}\\right)\\right)$$\n",
    "$${\\displaystyle y=\\cos(t)\\left(e^{\\cos(t)}-2\\cos(4t)-\\sin ^{5}\\left({t \\over 12}\\right)\\right)} $$\n",
    "$${\\displaystyle 0\\leq t\\leq 12\\pi } $$\n"
   ]
  },
  {
   "cell_type": "code",
   "execution_count": 69,
   "metadata": {},
   "outputs": [
    {
     "data": {
      "text/plain": [
       "tensor([[[[[0.0003]]]]])"
      ]
     },
     "execution_count": 69,
     "metadata": {},
     "output_type": "execute_result"
    }
   ],
   "source": [
    "torch.asin(x).pow(5)"
   ]
  },
  {
   "cell_type": "code",
   "execution_count": 72,
   "metadata": {},
   "outputs": [
    {
     "data": {
      "text/plain": [
       "[<matplotlib.lines.Line2D at 0x7f9cb810c950>]"
      ]
     },
     "execution_count": 72,
     "metadata": {},
     "output_type": "execute_result"
    },
    {
     "data": {
      "image/png": "[encoded data removed]",
      "text/plain": [
       "<Figure size 432x288 with 1 Axes>"
      ]
     },
     "metadata": {
      "needs_background": "light"
     },
     "output_type": "display_data"
    }
   ],
   "source": [
    "import matplotlib.pyplot as plt\n",
    "import math\n",
    "%matplotlib inline\n",
    "\n",
    "t = torch.linspace(0, 12*math.pi, steps = 10000)\n",
    "\n",
    "# compute x(t) and y(t) as defined above\n",
    "x = # YOUR CODE\n",
    "y = # YOUR CODE\n",
    "\n",
    "plt.plot(x.numpy(), y.numpy())"
   ]
  },
  {
   "cell_type": "markdown",
   "metadata": {},
   "source": [
    "CUDA Tensors\n",
    "------------\n",
    "\n",
    "Tensors can be moved onto any device using the ``.to`` method.\n",
    "\n",
    "(Да-да, нужно прописывать explicitly для для каждого тензора на каком же девайсе ему быть)\n",
    "\n",
    "> - А что такое **CUDA**?\n",
    "> - Это бекенд pyTorch, библиотека на C/C++, реализующая оптимальные вычисления на видеокартах фирмы Nvidia. \n"
   ]
  },
  {
   "cell_type": "code",
   "execution_count": 73,
   "metadata": {
    "scrolled": true
   },
   "outputs": [
    {
     "data": {
      "text/plain": [
       "True"
      ]
     },
     "execution_count": 73,
     "metadata": {},
     "output_type": "execute_result"
    }
   ],
   "source": [
    "torch.cuda.is_available()"
   ]
  },
  {
   "cell_type": "code",
   "execution_count": 76,
   "metadata": {},
   "outputs": [
    {
     "name": "stdout",
     "output_type": "stream",
     "text": [
      "env: CUDA_VISIBLE_DEVICES=2\n"
     ]
    }
   ],
   "source": [
    "%env CUDA_VISIBLE_DEVICES=2"
   ]
  },
  {
   "cell_type": "code",
   "execution_count": 77,
   "metadata": {},
   "outputs": [
    {
     "ename": "RuntimeError",
     "evalue": "CUDA error: out of memory",
     "output_type": "error",
     "traceback": [
      "\u001b[0;31m---------------------------------------------------------------------------\u001b[0m",
      "\u001b[0;31mRuntimeError\u001b[0m                              Traceback (most recent call last)",
      "\u001b[0;32m<ipython-input-77-5681f3123ff7>\u001b[0m in \u001b[0;36m<module>\u001b[0;34m\u001b[0m\n\u001b[1;32m      3\u001b[0m \u001b[0;32mif\u001b[0m \u001b[0mtorch\u001b[0m\u001b[0;34m.\u001b[0m\u001b[0mcuda\u001b[0m\u001b[0;34m.\u001b[0m\u001b[0mis_available\u001b[0m\u001b[0;34m(\u001b[0m\u001b[0;34m)\u001b[0m\u001b[0;34m:\u001b[0m\u001b[0;34m\u001b[0m\u001b[0;34m\u001b[0m\u001b[0m\n\u001b[1;32m      4\u001b[0m     \u001b[0mdevice\u001b[0m \u001b[0;34m=\u001b[0m \u001b[0mtorch\u001b[0m\u001b[0;34m.\u001b[0m\u001b[0mdevice\u001b[0m\u001b[0;34m(\u001b[0m\u001b[0;34m\"cuda\"\u001b[0m\u001b[0;34m)\u001b[0m          \u001b[0;31m# a CUDA device object\u001b[0m\u001b[0;34m\u001b[0m\u001b[0;34m\u001b[0m\u001b[0m\n\u001b[0;32m----> 5\u001b[0;31m     \u001b[0my\u001b[0m \u001b[0;34m=\u001b[0m \u001b[0mtorch\u001b[0m\u001b[0;34m.\u001b[0m\u001b[0mones_like\u001b[0m\u001b[0;34m(\u001b[0m\u001b[0mx\u001b[0m\u001b[0;34m,\u001b[0m \u001b[0mdevice\u001b[0m\u001b[0;34m=\u001b[0m\u001b[0mdevice\u001b[0m\u001b[0;34m)\u001b[0m  \u001b[0;31m# directly create a tensor on GPU\u001b[0m\u001b[0;34m\u001b[0m\u001b[0;34m\u001b[0m\u001b[0m\n\u001b[0m\u001b[1;32m      6\u001b[0m     \u001b[0mx\u001b[0m \u001b[0;34m=\u001b[0m \u001b[0mx\u001b[0m\u001b[0;34m.\u001b[0m\u001b[0mto\u001b[0m\u001b[0;34m(\u001b[0m\u001b[0mdevice\u001b[0m\u001b[0;34m)\u001b[0m                       \u001b[0;31m# or just use strings ``.to(\"cuda\")``\u001b[0m\u001b[0;34m\u001b[0m\u001b[0;34m\u001b[0m\u001b[0m\n\u001b[1;32m      7\u001b[0m     \u001b[0mz\u001b[0m \u001b[0;34m=\u001b[0m \u001b[0mx\u001b[0m \u001b[0;34m+\u001b[0m \u001b[0my\u001b[0m\u001b[0;34m\u001b[0m\u001b[0;34m\u001b[0m\u001b[0m\n",
      "\u001b[0;31mRuntimeError\u001b[0m: CUDA error: out of memory"
     ]
    }
   ],
   "source": [
    "# let us run this cell only if CUDA is available\n",
    "# We will use ``torch.device`` objects to move tensors in and out of GPU\n",
    "if torch.cuda.is_available():\n",
    "    device = torch.device(\"cuda\")          # a CUDA device object\n",
    "    y = torch.ones_like(x, device=device)  # directly create a tensor on GPU\n",
    "    x = x.to(device)                       # or just use strings ``.to(\"cuda\")``\n",
    "    z = x + y\n",
    "    print(z)\n",
    "    print(z.to(\"cpu\", torch.double))       # ``.to`` can also change dtype together!"
   ]
  },
  {
   "cell_type": "markdown",
   "metadata": {},
   "source": [
    "#  Нейронные сети"
   ]
  },
  {
   "cell_type": "code",
   "execution_count": 84,
   "metadata": {},
   "outputs": [
    {
     "data": {
      "text/plain": [
       "tensor([[ 0.0000,  0.0000,  0.0000,  ...,  0.0000,  0.0000,  0.0000],\n",
       "        [ 0.0000,  0.0000,  0.0000,  ...,  0.0000,  3.9537, 11.3566],\n",
       "        [ 0.0000,  5.8204,  4.7392,  ...,  0.0000,  5.6463,  4.7326],\n",
       "        ...,\n",
       "        [ 4.4755,  6.5596,  1.8164,  ...,  5.9297,  8.6207,  0.0000],\n",
       "        [ 0.0000,  5.3403,  3.3269,  ...,  0.0000,  3.5010,  6.5812],\n",
       "        [ 0.0000,  0.9511,  0.0000,  ...,  0.0000,  9.7979,  6.2148]])"
      ]
     },
     "execution_count": 84,
     "metadata": {},
     "output_type": "execute_result"
    }
   ],
   "source": [
    "f = torch.sigmoid # 1 / (1 + exp(-x))\n",
    "f = torch.relu # max(x, 0)\n",
    "\n",
    "x = torch.randn(32, 10)\n",
    "W = torch.randn(10, 100)\n",
    "b = torch.randn(100)\n",
    "\n",
    "y = f(x @ W + b)\n",
    "\n",
    "y"
   ]
  },
  {
   "cell_type": "markdown",
   "metadata": {},
   "source": [
    "\n",
    "### Типичный пайплайн разработки нейросетевой модели\n",
    "\n",
    "\n",
    "- Задаем архитектуру сети\n",
    "- Итерируемся по датасету входных данных\n",
    "- Каждый кусок датасета (батч) прогоняем через архитектуру **[forward pass]**\n",
    "- Считаем значение функции потерь (насколько предсказание сети отличается от правильного ответа) **[forward pass]**\n",
    "- Считаем градиенты функции потерь по параметрам сети с помощью алгоритма обратного распространения ошибки (backpropagation) **[backward pass]**\n",
    "- Обновляем веса сети по простому правилу (или его вариациаями):\n",
    "  ``weight = weight - learning_rate * gradient``\n",
    "  \n",
    "#### Backpropagation\n",
    "\n",
    "Чтобы лучше понять backprop можно почитать [тут](http://cs231n.github.io/optimization-2/)\n",
    "\n",
    "\n",
    "\n",
    "* На картинке зеленым цветом представлены значения в узлах вычислительного графа при прямом проходе\n",
    "* Красным цветом обозначены подсчитанные на обратном проходе градиенты\n",
    "\n",
    "<img src=\"https://i.stack.imgur.com/zP6uK.png\" width=500>\n",
    "\n",
    "В виде кода это выглядит следующим образом:"
   ]
  },
  {
   "cell_type": "code",
   "execution_count": 30,
   "metadata": {},
   "outputs": [],
   "source": [
    "# set some inputs\n",
    "x = -2; y = 5; z = -4\n",
    "\n",
    "# perform the forward pass\n",
    "q = x + y # q becomes 3\n",
    "f = q * z # f becomes -12\n",
    "\n",
    "# perform the backward pass (backpropagation) in reverse order:\n",
    "# first backprop through f = q * z\n",
    "dfdz = q # df/dz = q, so gradient on z becomes 3\n",
    "dfdq = z # df/dq = z, so gradient on q becomes -4\n",
    "# now backprop through q = x + y\n",
    "dfdx = 1.0 * dfdq # dq/dx = 1. And the multiplication here is the chain rule!\n",
    "dfdy = 1.0 * dfdq # dq/dy = 1"
   ]
  },
  {
   "cell_type": "markdown",
   "metadata": {},
   "source": [
    "* Никто бы не пользовался фреймворками для обучения нейронных сетей, если бы в них не было возможности автоматического дифференцирования!\n",
    "\n",
    "* `torch.autograd` позволяет делать **backward pass** без участия разработчика!\n",
    "\n",
    "* В тензорах pyTorch на самом деле хранятся градиенты по этим тензорам"
   ]
  },
  {
   "cell_type": "markdown",
   "metadata": {},
   "source": [
    "* Специально для работы с нейросетями у торча припасен модуль `torch.nn`.\n"
   ]
  },
  {
   "cell_type": "code",
   "execution_count": 101,
   "metadata": {},
   "outputs": [],
   "source": [
    "from torch.nn import functional as F\n",
    "\n",
    "f = F.sigmoid # 1 / (1 + exp(-x))\n",
    "\n",
    "z = torch.randn(32, 10, requires_grad=True)\n",
    "x = z + 1\n",
    "W = torch.randn(10, 100, requires_grad=True)\n",
    "\n",
    "y = f(x @ W)\n",
    "\n",
    "L = torch.sum(y ** 2)\n",
    "# want: dL / dW\n",
    "L.backward() # L -- зависит от y\n",
    "# y зависит от x, W\n",
    "# x зависит от z\n",
    "# backward вызовет подсчёт производной dL / dy\n",
    "# а затем рекурсивно ту же операцию для всех тензоров, от которых зависит y\n",
    "# то есть для x и W\n",
    "# следом для x.\n",
    "# и так далее "
   ]
  },
  {
   "cell_type": "code",
   "execution_count": 105,
   "metadata": {},
   "outputs": [
    {
     "data": {
      "text/plain": [
       "torch.Size([10, 100])"
      ]
     },
     "execution_count": 105,
     "metadata": {},
     "output_type": "execute_result"
    }
   ],
   "source": [
    "W.grad.shape"
   ]
  },
  {
   "cell_type": "code",
   "execution_count": 106,
   "metadata": {},
   "outputs": [],
   "source": [
    "import torch.nn as nn\n",
    "import torchvision.datasets as dsets\n",
    "import torchvision.transforms as transforms"
   ]
  },
  {
   "cell_type": "markdown",
   "metadata": {},
   "source": [
    "##### Подготовка данных\n",
    "\n",
    "Используются пайплайны подготовки данных из PyTorch (не обязательно в это вникать на текущем этапе)"
   ]
  },
  {
   "cell_type": "code",
   "execution_count": 110,
   "metadata": {},
   "outputs": [],
   "source": [
    "# MNIST Dataset (Images and Labels)\n",
    "batch_size = 32\n",
    "train_dataset = dsets.MNIST(root='.', \n",
    "                            train=True, \n",
    "                            transform=transforms.ToTensor(),\n",
    "                            download=True)"
   ]
  },
  {
   "cell_type": "code",
   "execution_count": 143,
   "metadata": {},
   "outputs": [
    {
     "data": {
      "image/png": "[encoded data removed]",
      "text/plain": [
       "<Figure size 432x288 with 1 Axes>"
      ]
     },
     "metadata": {
      "needs_background": "light"
     },
     "output_type": "display_data"
    }
   ],
   "source": [
    "import matplotlib.pyplot as plt\n",
    "\n",
    "i = np.random.randint(0, 200)\n",
    "plt.title(cifar_10[i][1])\n",
    "plt.imshow(cifar_10[i][0].numpy().transpose(1,2,0))\n",
    "plt.show()"
   ]
  },
  {
   "cell_type": "code",
   "execution_count": 128,
   "metadata": {},
   "outputs": [
    {
     "name": "stdout",
     "output_type": "stream",
     "text": [
      "Files already downloaded and verified\n"
     ]
    }
   ],
   "source": [
    "cifar_10 = dsets.CIFAR10(root=\"./cifar10\", download=True, transform=transforms.ToTensor())"
   ]
  },
  {
   "cell_type": "code",
   "execution_count": null,
   "metadata": {},
   "outputs": [],
   "source": []
  },
  {
   "cell_type": "code",
   "execution_count": 144,
   "metadata": {},
   "outputs": [],
   "source": [
    "test_dataset = dsets.MNIST(root='.', \n",
    "                           train=False, \n",
    "                           transform=transforms.ToTensor())\n",
    "\n",
    "# Dataset Loader (Input Pipline)\n",
    "train_loader = torch.utils.data.DataLoader(dataset=train_dataset, \n",
    "                                           batch_size=batch_size, \n",
    "                                           shuffle=True)\n",
    "\n",
    "test_loader = torch.utils.data.DataLoader(dataset=test_dataset, \n",
    "                                          batch_size=batch_size, \n",
    "                                          shuffle=False)"
   ]
  },
  {
   "cell_type": "code",
   "execution_count": 145,
   "metadata": {},
   "outputs": [
    {
     "name": "stdout",
     "output_type": "stream",
     "text": [
      "torch.Size([32, 1, 28, 28]) torch.Size([32])\n"
     ]
    }
   ],
   "source": [
    "for image, label in train_loader:\n",
    "    print(image.shape, label.shape)\n",
    "    break"
   ]
  },
  {
   "cell_type": "code",
   "execution_count": 146,
   "metadata": {},
   "outputs": [
    {
     "name": "stdout",
     "output_type": "stream",
     "text": [
      "* Размер train\n",
      " [количество_примеров, высота_картинки, ширина_картинки]:  torch.Size([60000, 28, 28])\n",
      "* Размер test\n",
      " [количество_примеров, высота_картинки, ширина_картинки]:  torch.Size([10000, 28, 28])\n",
      "---\n",
      "Метки классов в датасете:  tensor([0, 1, 2, 3, 4, 5, 6, 7, 8, 9])\n"
     ]
    },
    {
     "name": "stderr",
     "output_type": "stream",
     "text": [
      "/mnt/hdd1/users/sorain/conda/lib/python3.7/site-packages/torchvision/datasets/mnist.py:53: UserWarning: train_data has been renamed data\n",
      "  warnings.warn(\"train_data has been renamed data\")\n",
      "/mnt/hdd1/users/sorain/conda/lib/python3.7/site-packages/torchvision/datasets/mnist.py:58: UserWarning: test_data has been renamed data\n",
      "  warnings.warn(\"test_data has been renamed data\")\n",
      "/mnt/hdd1/users/sorain/conda/lib/python3.7/site-packages/torchvision/datasets/mnist.py:43: UserWarning: train_labels has been renamed targets\n",
      "  warnings.warn(\"train_labels has been renamed targets\")\n"
     ]
    }
   ],
   "source": [
    "print(\"* Размер train\\n [количество_примеров, высота_картинки, ширина_картинки]: \", train_dataset.train_data.shape)\n",
    "print(\"* Размер test\\n [количество_примеров, высота_картинки, ширина_картинки]: \", test_dataset.test_data.shape)\n",
    "print(\"---\")\n",
    "print(\"Метки классов в датасете: \", train_dataset.train_labels.unique())"
   ]
  },
  {
   "cell_type": "code",
   "execution_count": 147,
   "metadata": {},
   "outputs": [
    {
     "data": {
      "image/png": "[encoded data removed]",
      "text/plain": [
       "<Figure size 576x216 with 10 Axes>"
      ]
     },
     "metadata": {
      "needs_background": "light"
     },
     "output_type": "display_data"
    }
   ],
   "source": [
    "fig=plt.figure(figsize=(8, 3))\n",
    "columns = 5\n",
    "rows = 2\n",
    "for i in range(1, columns*rows +1):\n",
    "    idx = np.random.choice(np.arange(60000)[train_dataset.train_labels.numpy()==i-1])\n",
    "    img = train_dataset.train_data[idx]\n",
    "    fig.add_subplot(rows, columns, i)\n",
    "    plt.imshow(img)\n",
    "plt.show()"
   ]
  },
  {
   "cell_type": "markdown",
   "metadata": {},
   "source": [
    "##### Разработка модели на примере логистической регрессии\n",
    "\n",
    "**Правила торча для nn**\n",
    "\n",
    "* Необходимо всегда писать класс для каждой модели\n",
    "* Этот класс всегда необходимо наследовать от модуля nn.Module\n",
    "    - в этом случае backward pass прописан за вас и нужно написать только forward\n",
    "* В `__init__` создаем слои и функции, которыми будем пользоваться в forward & backward стадиях\n",
    "* В `forward` прописываем непосредственную архитектуру сети (как слои связаны друг с другом)\n",
    "\n",
    "\n",
    "**Полносвязный слой**\n",
    "\n",
    "Сегодня мы используем только полносвязный или линейный слой `nn.Linear`.\n",
    "\n",
    "Линейный слой имеет 2 параметра `in_features`, `out_features`, что напрямую соответствует размерностям матрицы `W` в формуле:\n",
    "$$\\Large \\underset{[batch\\_size \\times out\\_features]}{x\\_out} = \\underset{[batch\\_size \\times in\\_features]}{x\\_in} \\cdot \\underset{[in\\_features \\times out\\_features]}{W}$$"
   ]
  },
  {
   "cell_type": "code",
   "execution_count": null,
   "metadata": {},
   "outputs": [],
   "source": [
    "nn.MaxPool2d()\n",
    "nn.Conv2d\n",
    "nn.ReLU\n"
   ]
  },
  {
   "cell_type": "code",
   "execution_count": 148,
   "metadata": {},
   "outputs": [],
   "source": [
    "# Model\n",
    "class LogisticRegression(nn.Module):\n",
    "    def __init__(self, input_size, num_classes):\n",
    "        # всегда вызываем super метод в таком формате,\n",
    "        # если init метод хотим прописать в классе\n",
    "        super(LogisticRegression, self).__init__()\n",
    "        \n",
    "        # в методе __init__ мы создаем объекты (слои и операции),\n",
    "        # которыми желаем пользоваться в forward & backward стадиях\n",
    "        # здесь мы создаем и сохраняем ссылку на объект линейного слоя\n",
    "        self.linear = nn.Linear(input_size, num_classes)\n",
    "\n",
    "    def forward(self, x):\n",
    "        # здесь мы применяем линейный слой к входным данным и возращаем результат\n",
    "        logits = self.linear(x)\n",
    "        return logits"
   ]
  },
  {
   "cell_type": "code",
   "execution_count": 149,
   "metadata": {},
   "outputs": [],
   "source": [
    "# Задаем гиперпараметры\n",
    "input_size = 784 # 28*28 -- мы вытянули в линию все пиксели картинки\n",
    "num_classes = 10\n",
    "num_epochs = 5\n",
    "batch_size = 100\n",
    "learning_rate = 0.001"
   ]
  },
  {
   "cell_type": "code",
   "execution_count": 150,
   "metadata": {},
   "outputs": [],
   "source": [
    "# Создаем объект модели с этими параметрами\n",
    "model = LogisticRegression(input_size=input_size, num_classes=num_classes)"
   ]
  },
  {
   "cell_type": "code",
   "execution_count": 151,
   "metadata": {},
   "outputs": [
    {
     "name": "stdout",
     "output_type": "stream",
     "text": [
      "torch.Size([1, 10])\n",
      "tensor([[-0.0454,  0.3486, -0.2955, -0.4019,  0.1143,  0.0010, -0.4662, -0.3099,\n",
      "         -0.4631,  0.0435]], grad_fn=<AddmmBackward>)\n"
     ]
    }
   ],
   "source": [
    "# проверим на рандомных данных forward pass\n",
    "rnd_x = np.random.rand(1, input_size)\n",
    "out = model.forward(torch.from_numpy(rnd_x).float())\n",
    "print(out.size())\n",
    "print(out)"
   ]
  },
  {
   "cell_type": "markdown",
   "metadata": {},
   "source": [
    "Можно посмотреть на размер матрицы W для линейного слоя модели.\n",
    "\n",
    "Здесь видно 10 - количество классов.\n",
    "Выходит, что для каждого класса хранятся свои 784 параметра!"
   ]
  },
  {
   "cell_type": "code",
   "execution_count": 152,
   "metadata": {},
   "outputs": [
    {
     "data": {
      "text/plain": [
       "torch.Size([10, 784])"
      ]
     },
     "execution_count": 152,
     "metadata": {},
     "output_type": "execute_result"
    }
   ],
   "source": [
    "model.linear.parameters().__next__().size()"
   ]
  },
  {
   "cell_type": "markdown",
   "metadata": {},
   "source": [
    "### Функция потерь и обучение"
   ]
  },
  {
   "cell_type": "code",
   "execution_count": 142,
   "metadata": {},
   "outputs": [],
   "source": [
    "# Какие параметры обучаем?"
   ]
  },
  {
   "cell_type": "code",
   "execution_count": 143,
   "metadata": {},
   "outputs": [
    {
     "name": "stdout",
     "output_type": "stream",
     "text": [
      "Parameter containing:\n",
      "tensor([[ 0.0291, -0.0086,  0.0256,  ...,  0.0325,  0.0059, -0.0201],\n",
      "        [ 0.0158,  0.0195, -0.0197,  ..., -0.0082, -0.0125,  0.0002],\n",
      "        [ 0.0139, -0.0063, -0.0070,  ...,  0.0188,  0.0136, -0.0348],\n",
      "        ...,\n",
      "        [ 0.0208, -0.0354, -0.0193,  ...,  0.0160, -0.0151,  0.0076],\n",
      "        [ 0.0009,  0.0243, -0.0193,  ...,  0.0109,  0.0083, -0.0028],\n",
      "        [ 0.0321, -0.0199,  0.0071,  ...,  0.0125, -0.0344,  0.0080]],\n",
      "       requires_grad=True)\n",
      "Parameter containing:\n",
      "tensor([-0.0028, -0.0210,  0.0139,  0.0211, -0.0253,  0.0092, -0.0189,  0.0006,\n",
      "        -0.0070, -0.0208], requires_grad=True)\n"
     ]
    }
   ],
   "source": [
    "for p in model.parameters():\n",
    "    print(p)"
   ]
  },
  {
   "cell_type": "markdown",
   "metadata": {},
   "source": [
    "Получили как раз параметры $W$ & $b$, которые и обучаются в лог регрессии\n",
    "\n",
    "Объявляем функцию потерь -- **софтмакс от входных данных этой функции считается у нее внутри**, поэтому в нашей модели не было слоя с софтмаксом, хотя он и должен был бы быть."
   ]
  },
  {
   "cell_type": "code",
   "execution_count": 154,
   "metadata": {},
   "outputs": [],
   "source": [
    "criterion = nn.CrossEntropyLoss()\n",
    "optimizer = torch.optim.SGD(model.parameters(), lr=learning_rate)  "
   ]
  },
  {
   "cell_type": "code",
   "execution_count": 156,
   "metadata": {
    "scrolled": true
   },
   "outputs": [
    {
     "name": "stdout",
     "output_type": "stream",
     "text": [
      "Epoch: [1/5], Step: [100/600], Loss: 2.0898\n",
      "Epoch: [1/5], Step: [200/600], Loss: 2.0224\n",
      "Epoch: [1/5], Step: [300/600], Loss: 1.9837\n",
      "Epoch: [1/5], Step: [400/600], Loss: 1.8966\n",
      "Epoch: [1/5], Step: [500/600], Loss: 1.7062\n",
      "Epoch: [1/5], Step: [600/600], Loss: 1.6990\n",
      "Epoch: [1/5], Step: [700/600], Loss: 1.6819\n",
      "Epoch: [1/5], Step: [800/600], Loss: 1.6319\n",
      "Epoch: [1/5], Step: [900/600], Loss: 1.4925\n",
      "Epoch: [1/5], Step: [1000/600], Loss: 1.5182\n",
      "Epoch: [1/5], Step: [1100/600], Loss: 1.4603\n",
      "Epoch: [1/5], Step: [1200/600], Loss: 1.4124\n",
      "Epoch: [1/5], Step: [1300/600], Loss: 1.1787\n",
      "Epoch: [1/5], Step: [1400/600], Loss: 1.3550\n",
      "Epoch: [1/5], Step: [1500/600], Loss: 1.3434\n",
      "Epoch: [1/5], Step: [1600/600], Loss: 1.3827\n",
      "Epoch: [1/5], Step: [1700/600], Loss: 1.3432\n",
      "Epoch: [1/5], Step: [1800/600], Loss: 1.0809\n",
      "Epoch: [2/5], Step: [100/600], Loss: 1.2201\n",
      "Epoch: [2/5], Step: [200/600], Loss: 1.2768\n",
      "Epoch: [2/5], Step: [300/600], Loss: 1.0343\n",
      "Epoch: [2/5], Step: [400/600], Loss: 1.2004\n",
      "Epoch: [2/5], Step: [500/600], Loss: 1.1714\n",
      "Epoch: [2/5], Step: [600/600], Loss: 1.3884\n",
      "Epoch: [2/5], Step: [700/600], Loss: 0.9741\n",
      "Epoch: [2/5], Step: [800/600], Loss: 1.1062\n",
      "Epoch: [2/5], Step: [900/600], Loss: 0.8936\n",
      "Epoch: [2/5], Step: [1000/600], Loss: 0.9490\n",
      "Epoch: [2/5], Step: [1100/600], Loss: 1.0094\n",
      "Epoch: [2/5], Step: [1200/600], Loss: 0.9937\n",
      "Epoch: [2/5], Step: [1300/600], Loss: 1.0870\n",
      "Epoch: [2/5], Step: [1400/600], Loss: 1.0409\n",
      "Epoch: [2/5], Step: [1500/600], Loss: 0.8485\n",
      "Epoch: [2/5], Step: [1600/600], Loss: 1.0589\n",
      "Epoch: [2/5], Step: [1700/600], Loss: 0.9860\n",
      "Epoch: [2/5], Step: [1800/600], Loss: 0.9560\n",
      "Epoch: [3/5], Step: [100/600], Loss: 1.0776\n",
      "Epoch: [3/5], Step: [200/600], Loss: 0.7434\n",
      "Epoch: [3/5], Step: [300/600], Loss: 0.9097\n",
      "Epoch: [3/5], Step: [400/600], Loss: 0.9371\n",
      "Epoch: [3/5], Step: [500/600], Loss: 0.9429\n",
      "Epoch: [3/5], Step: [600/600], Loss: 0.7463\n",
      "Epoch: [3/5], Step: [700/600], Loss: 0.8645\n",
      "Epoch: [3/5], Step: [800/600], Loss: 1.0213\n",
      "Epoch: [3/5], Step: [900/600], Loss: 0.7227\n",
      "Epoch: [3/5], Step: [1000/600], Loss: 1.0215\n",
      "Epoch: [3/5], Step: [1100/600], Loss: 0.8584\n",
      "Epoch: [3/5], Step: [1200/600], Loss: 0.6242\n",
      "Epoch: [3/5], Step: [1300/600], Loss: 0.7894\n",
      "Epoch: [3/5], Step: [1400/600], Loss: 0.6681\n",
      "Epoch: [3/5], Step: [1500/600], Loss: 0.6432\n",
      "Epoch: [3/5], Step: [1600/600], Loss: 0.9042\n",
      "Epoch: [3/5], Step: [1700/600], Loss: 0.7531\n",
      "Epoch: [3/5], Step: [1800/600], Loss: 0.7485\n",
      "Epoch: [4/5], Step: [100/600], Loss: 0.7628\n",
      "Epoch: [4/5], Step: [200/600], Loss: 0.9003\n",
      "Epoch: [4/5], Step: [300/600], Loss: 0.9099\n",
      "Epoch: [4/5], Step: [400/600], Loss: 0.7251\n",
      "Epoch: [4/5], Step: [500/600], Loss: 0.7511\n",
      "Epoch: [4/5], Step: [600/600], Loss: 0.7560\n",
      "Epoch: [4/5], Step: [700/600], Loss: 0.9691\n",
      "Epoch: [4/5], Step: [800/600], Loss: 0.5767\n",
      "Epoch: [4/5], Step: [900/600], Loss: 0.7380\n",
      "Epoch: [4/5], Step: [1000/600], Loss: 0.8475\n",
      "Epoch: [4/5], Step: [1100/600], Loss: 0.7291\n",
      "Epoch: [4/5], Step: [1200/600], Loss: 0.5278\n",
      "Epoch: [4/5], Step: [1300/600], Loss: 0.7444\n",
      "Epoch: [4/5], Step: [1400/600], Loss: 0.6216\n",
      "Epoch: [4/5], Step: [1500/600], Loss: 0.6124\n",
      "Epoch: [4/5], Step: [1600/600], Loss: 0.6947\n",
      "Epoch: [4/5], Step: [1700/600], Loss: 0.7732\n",
      "Epoch: [4/5], Step: [1800/600], Loss: 0.7956\n",
      "Epoch: [5/5], Step: [100/600], Loss: 0.8259\n",
      "Epoch: [5/5], Step: [200/600], Loss: 0.7930\n",
      "Epoch: [5/5], Step: [300/600], Loss: 0.5083\n",
      "Epoch: [5/5], Step: [400/600], Loss: 0.5038\n",
      "Epoch: [5/5], Step: [500/600], Loss: 0.5954\n",
      "Epoch: [5/5], Step: [600/600], Loss: 0.4858\n",
      "Epoch: [5/5], Step: [700/600], Loss: 0.5618\n",
      "Epoch: [5/5], Step: [800/600], Loss: 0.7544\n",
      "Epoch: [5/5], Step: [900/600], Loss: 0.5887\n",
      "Epoch: [5/5], Step: [1000/600], Loss: 0.5604\n",
      "Epoch: [5/5], Step: [1100/600], Loss: 1.2598\n",
      "Epoch: [5/5], Step: [1200/600], Loss: 0.4246\n",
      "Epoch: [5/5], Step: [1300/600], Loss: 0.9227\n",
      "Epoch: [5/5], Step: [1400/600], Loss: 0.6039\n",
      "Epoch: [5/5], Step: [1500/600], Loss: 0.6132\n",
      "Epoch: [5/5], Step: [1600/600], Loss: 0.6389\n",
      "Epoch: [5/5], Step: [1700/600], Loss: 0.6959\n",
      "Epoch: [5/5], Step: [1800/600], Loss: 0.6256\n"
     ]
    }
   ],
   "source": [
    "# Training the Model\n",
    "for epoch in range(num_epochs):\n",
    "    for i, (images, labels) in enumerate(train_loader):\n",
    "        # разворачиваем картинку в строчку пикселей\n",
    "        images = images.view(-1, 28*28)\n",
    "        \n",
    "        # можно сделать model(input) или model.forward(input) -- это одно и то же\n",
    "        # таким образом делаем прямой проход\n",
    "        outputs = model(images)\n",
    "        \n",
    "        # считаем функцию потерь\n",
    "        loss = criterion(outputs, labels)\n",
    "        \n",
    "        # зануляем градиенты оптимайзера,\n",
    "        # т.к каждый шаг он добавляет значение градиентов\n",
    "        # к текущему состоянию градиентов каждой переменной\n",
    "        optimizer.zero_grad()\n",
    "        \n",
    "        # пробрасываем градиенты для всех переменных\n",
    "        # в вычислительном графе\n",
    "        loss.backward()\n",
    "        \n",
    "        # обновляем значения параметров модели\n",
    "        optimizer.step()\n",
    "        \n",
    "        if (i+1) % 100 == 0:\n",
    "            print ('Epoch: [%d/%d], Step: [%d/%d], Loss: %.4f' \n",
    "                   % (epoch+1, num_epochs, i+1, len(train_dataset)//batch_size, loss.item()))"
   ]
  },
  {
   "cell_type": "markdown",
   "metadata": {},
   "source": [
    "## Визуализация весов\n",
    "\n",
    "Теперь давайте провизуализируем веса модели, чтобы понять какие \"фичи\" модель выделила для каждого класса"
   ]
  },
  {
   "cell_type": "code",
   "execution_count": 157,
   "metadata": {},
   "outputs": [
    {
     "data": {
      "text/plain": [
       "(10, 784)"
      ]
     },
     "execution_count": 157,
     "metadata": {},
     "output_type": "execute_result"
    }
   ],
   "source": [
    "W = model.parameters().__next__().detach().numpy()\n",
    "W.shape"
   ]
  },
  {
   "cell_type": "code",
   "execution_count": 158,
   "metadata": {},
   "outputs": [
    {
     "data": {
      "image/png": "[encoded data removed]",
      "text/plain": [
       "<Figure size 576x216 with 10 Axes>"
      ]
     },
     "metadata": {
      "needs_background": "light"
     },
     "output_type": "display_data"
    }
   ],
   "source": [
    "fig=plt.figure(figsize=(8, 3))\n",
    "columns = 5\n",
    "rows = 2\n",
    "for i in range(1, columns*rows +1):\n",
    "    img = W[i-1].reshape((28, 28))\n",
    "    fig.add_subplot(rows, columns, i)\n",
    "    plt.imshow(img)\n",
    "plt.show()"
   ]
  },
  {
   "cell_type": "markdown",
   "metadata": {},
   "source": [
    "Как вы думаете, почему так вышло, что веса модели оказались так похожи на сами картинки?"
   ]
  },
  {
   "cell_type": "markdown",
   "metadata": {},
   "source": [
    "## Задания\n",
    "\n",
    "1. Посчитайте метрику (roc_auc) для предсказаний модели на отложенной выборке (test_dataset)\n",
    "\n",
    "2. Напишите модель Логистической регрессии без использования слоев из PyTorch, а используя только перемножения тензоров.\n",
    "\n",
    "3. Добавьте линейных слоев в модель. Изменится ли качество классификации?\n",
    "\n",
    "4. Как вы думаете, имеет ли смысл добавлять друг за другом несколько линейных слоев?\n",
    "\n",
    "5. Что можно сделать, чтобы добавление нескольких линейных слоев в модель имело бы смысл?"
   ]
  }
 ],
 "metadata": {
  "kernelspec": {
   "display_name": "Python 3",
   "language": "python",
   "name": "python3"
  },
  "language_info": {
   "codemirror_mode": {
    "name": "ipython",
    "version": 3
   },
   "file_extension": ".py",
   "mimetype": "text/x-python",
   "name": "python",
   "nbconvert_exporter": "python",
   "pygments_lexer": "ipython3",
   "version": "3.7.6"
  }
 },
 "nbformat": 4,
 "nbformat_minor": 2
}
